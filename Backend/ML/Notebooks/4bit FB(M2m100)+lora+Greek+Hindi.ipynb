{
 "cells": [
  {
   "cell_type": "code",
   "execution_count": 12,
   "metadata": {},
   "outputs": [],
   "source": [
    "# Standard library imports\n",
    "import pandas as pd\n",
    "import numpy as np\n",
    "import torch\n",
    "\n",
    "# Third-party library imports\n",
    "from datasets import (\n",
    "    Dataset,\n",
    "    DatasetDict,\n",
    "    concatenate_datasets, \n",
    "    load_dataset,\n",
    ")\n",
    "from evaluate import load as load_metric  # Renamed for clarity when loading metrics\n",
    "from matplotlib import pyplot as plt  # Fixed incorrect alias\n",
    "\n",
    "# Transformers and related libraries\n",
    "from transformers import (\n",
    "    AutoModelForSeq2SeqLM,\n",
    "    AutoTokenizer,\n",
    "    DataCollatorForSeq2Seq,\n",
    "    Seq2SeqTrainer,\n",
    "    Seq2SeqTrainingArguments,\n",
    "    BitsAndBytesConfig,\n",
    "    pipeline,\n",
    "\n",
    ")\n",
    "from peft import (\n",
    "    get_peft_model,\n",
    "    LoraConfig,\n",
    "    TaskType,\n",
    "    prepare_model_for_kbit_training\n",
    ")"
   ]
  },
  {
   "cell_type": "code",
   "execution_count": 13,
   "metadata": {},
   "outputs": [
    {
     "data": {
      "application/vnd.jupyter.widget-view+json": {
       "model_id": "3afdf2baac94481bb25a7bf89b9ca813",
       "version_major": 2,
       "version_minor": 0
      },
      "text/plain": [
       "Map:   0%|          | 0/100 [00:00<?, ? examples/s]"
      ]
     },
     "metadata": {},
     "output_type": "display_data"
    },
    {
     "data": {
      "application/vnd.jupyter.widget-view+json": {
       "model_id": "d73b3e8ad85445159f4225bc69088858",
       "version_major": 2,
       "version_minor": 0
      },
      "text/plain": [
       "Map:   0%|          | 0/100 [00:00<?, ? examples/s]"
      ]
     },
     "metadata": {},
     "output_type": "display_data"
    },
    {
     "name": "stdout",
     "output_type": "stream",
     "text": [
      "{'source': '<el> however, tirana had commercial airline services before.', 'target': 'Ωστόσο, Τίρανα είχε εμπορικές αεροπορικές υπηρεσίες πριν.'}\n",
      "{'source': '<el> we are so blessed to have such a man among us for so long.\"', 'target': 'Είμαστε ευλογημένοι που είχαμε ένα τέτοιο άνθρωπο ανάμεσά μας τόσο καιρό.'}\n"
     ]
    }
   ],
   "source": [
    "from datasets import load_dataset, concatenate_datasets\n",
    "percent_data_select = \"train[:100]\"\n",
    "def preprocess_datasets(dataset1, dataset2, lang1_token, lang2_token, col_mapping1, col_mapping2):\n",
    "    \"\"\"\n",
    "    Preprocess two datasets to rename columns, add language tokens, and combine them.\n",
    "\n",
    "    Args:\n",
    "        dataset1: First dataset.\n",
    "        dataset2: Second dataset.\n",
    "        lang1_token: Language token for dataset1 (e.g., \"hi\" for Hindi).\n",
    "        lang2_token: Language token for dataset2 (e.g., \"el\" for Greek).\n",
    "        col_mapping1: Dictionary mapping for dataset1 column renaming (e.g., {\"English\": \"source\", \"Hindi\": \"target\"}).\n",
    "        col_mapping2: Dictionary mapping for dataset2 column renaming (e.g., {\"English\": \"source\", \"Greek\": \"target\"}).\n",
    "\n",
    "    Returns:\n",
    "        Combined dataset with consistent formatting.\n",
    "    \"\"\"\n",
    "\n",
    "    # Rename columns for the first dataset\n",
    "    dataset1 = dataset1.rename_columns(col_mapping1)\n",
    "\n",
    "    # Add language token to the source column of dataset1\n",
    "    dataset1 = dataset1.map(lambda x: {\"source\": f\"<{lang1_token}> \" + x[\"source\"]})\n",
    "\n",
    "    # Rename columns for the second dataset\n",
    "    dataset2 = dataset2.rename_columns(col_mapping2)\n",
    "\n",
    "    # Add language token to the source column of dataset2\n",
    "    dataset2 = dataset2.map(lambda x: {\"source\": f\"<{lang2_token}> \" + x[\"source\"]})\n",
    "\n",
    "    # Combine both datasets\n",
    "    combined_dataset = concatenate_datasets([dataset1, dataset2])\n",
    "\n",
    "    return combined_dataset\n",
    "\n",
    "# Example Usage\n",
    "\n",
    "# Load datasets\n",
    "dataset_english_to_hindi = load_dataset(\n",
    "    \"csv\", data_files={\"train\": \"../Datasets/WikiMatrix/Processed/clean_en-hi.csv\"},\n",
    "    split=percent_data_select\n",
    ")\n",
    "dataset_english_to_greek = load_dataset(\n",
    "    \"csv\", data_files={\"train\": \"../Datasets/WikiMatrix/Processed/clean_en-el.csv\"},\n",
    "    split=percent_data_select\n",
    ")\n",
    "\n",
    "# Preprocess and combine datasets\n",
    "combined_dataset = preprocess_datasets(\n",
    "    dataset_english_to_hindi,\n",
    "    dataset_english_to_greek,\n",
    "    lang1_token=\"hi\",\n",
    "    lang2_token=\"el\",\n",
    "    col_mapping1={\"English\": \"source\", \"Hindi\": \"target\"},\n",
    "    col_mapping2={\"English\": \"source\", \"Greek\": \"target\"}\n",
    ")\n",
    "\n",
    "\n",
    "combined_dataset = combined_dataset.shuffle(seed=42)\n",
    "\n",
    "\n",
    "# Verify the result\n",
    "print(combined_dataset[0])  # Should show a sample from the combined dataset with <hi> token\n",
    "print(combined_dataset[-1]) # Should show a sample from the combined dataset with <el> token\n"
   ]
  },
  {
   "cell_type": "code",
   "execution_count": 29,
   "metadata": {},
   "outputs": [
    {
     "data": {
      "text/plain": [
       "Dataset({\n",
       "    features: ['source', 'target'],\n",
       "    num_rows: 200\n",
       "})"
      ]
     },
     "execution_count": 29,
     "metadata": {},
     "output_type": "execute_result"
    }
   ],
   "source": [
    "combined_dataset"
   ]
  },
  {
   "cell_type": "code",
   "execution_count": 14,
   "metadata": {},
   "outputs": [
    {
     "name": "stdout",
     "output_type": "stream",
     "text": [
      "DatasetDict({\n",
      "    train: Dataset({\n",
      "        features: ['source', 'target'],\n",
      "        num_rows: 160\n",
      "    })\n",
      "    validation: Dataset({\n",
      "        features: ['source', 'target'],\n",
      "        num_rows: 20\n",
      "    })\n",
      "    test: Dataset({\n",
      "        features: ['source', 'target'],\n",
      "        num_rows: 20\n",
      "    })\n",
      "})\n"
     ]
    }
   ],
   "source": [
    "from datasets import DatasetDict\n",
    "\n",
    "# Split the combined dataset into train, validation, and test sets\n",
    "train_test_split = combined_dataset.train_test_split(test_size=0.2, seed=42)\n",
    "validation_test_split = train_test_split[\"test\"].train_test_split(test_size=0.5, seed=42)\n",
    "\n",
    "# Create a DatasetDict\n",
    "final_dataset = DatasetDict({\n",
    "    \"train\": train_test_split[\"train\"],\n",
    "    \"validation\": validation_test_split[\"train\"],\n",
    "    \"test\": validation_test_split[\"test\"]\n",
    "})\n",
    "\n",
    "# Verify the splits\n",
    "print(final_dataset)"
   ]
  },
  {
   "cell_type": "code",
   "execution_count": 15,
   "metadata": {},
   "outputs": [
    {
     "name": "stderr",
     "output_type": "stream",
     "text": [
      "`low_cpu_mem_usage` was None, now default to True since model is quantized.\n"
     ]
    }
   ],
   "source": [
    "quantization_config = BitsAndBytesConfig(\n",
    "    load_in_4bit=True,  # Enable 4-bit quantization\n",
    "    bnb_4bit_use_double_quant=True,  # Use double quantization for better accuracy\n",
    "    bnb_4bit_quant_type=\"nf4\",  # Use 4-bit NormalFloat quantization\n",
    "    bnb_4bit_compute_dtype=torch.float16  # Use FP16 for computation\n",
    ")\n",
    "\n",
    "model = AutoModelForSeq2SeqLM.from_pretrained(\n",
    "    \"facebook/m2m100_418M\",\n",
    "    quantization_config=quantization_config\n",
    ")\n",
    "\n",
    "tokenizer = AutoTokenizer.from_pretrained('facebook/m2m100_418M', src_lang=\"en\", tgt_lang=\"hi\")\n",
    "\n"
   ]
  },
  {
   "cell_type": "code",
   "execution_count": 16,
   "metadata": {},
   "outputs": [
    {
     "data": {
      "application/vnd.jupyter.widget-view+json": {
       "model_id": "367cb466d5d641d7ae1d1e2b68ebf3c3",
       "version_major": 2,
       "version_minor": 0
      },
      "text/plain": [
       "Map:   0%|          | 0/160 [00:00<?, ? examples/s]"
      ]
     },
     "metadata": {},
     "output_type": "display_data"
    },
    {
     "name": "stderr",
     "output_type": "stream",
     "text": [
      "/home/aktheroy/miniconda3/envs/Fython/lib/python3.12/site-packages/transformers/tokenization_utils_base.py:3961: UserWarning: `as_target_tokenizer` is deprecated and will be removed in v5 of Transformers. You can tokenize your labels by using the argument `text_target` of the regular `__call__` method (either in the same call as your input texts if you use the same keyword arguments, or in a separate call.\n",
      "  warnings.warn(\n"
     ]
    },
    {
     "data": {
      "application/vnd.jupyter.widget-view+json": {
       "model_id": "c386797cc9bd46cf9bf123aee7f1b97f",
       "version_major": 2,
       "version_minor": 0
      },
      "text/plain": [
       "Map:   0%|          | 0/20 [00:00<?, ? examples/s]"
      ]
     },
     "metadata": {},
     "output_type": "display_data"
    },
    {
     "data": {
      "application/vnd.jupyter.widget-view+json": {
       "model_id": "93960c59456740a48004307c74925e93",
       "version_major": 2,
       "version_minor": 0
      },
      "text/plain": [
       "Map:   0%|          | 0/20 [00:00<?, ? examples/s]"
      ]
     },
     "metadata": {},
     "output_type": "display_data"
    },
    {
     "name": "stdout",
     "output_type": "stream",
     "text": [
      "{'source': '<hi> it received the name \"wizard\\'s eye\" because it looks like an eye.', 'target': \"इसने 'जादूगर की आँख' का नाम पाया क्योंकि यह एक आंख की तरह लगता है।\", 'input_ids': [128022, 5966, 612, 3473, 862, 126618, 1197, 33969, 33, 61000, 1069, 12, 55, 80180, 64, 117122, 862, 119309, 14906, 48, 80180, 5, 2, 1, 1, 1, 1, 1, 1, 1, 1, 1, 1, 1, 1, 1, 1, 1, 1, 1, 1, 1, 1, 1, 1, 1, 1, 1, 1, 1, 1, 1, 1, 1, 1, 1, 1, 1, 1, 1, 1, 1, 1, 1, 1, 1, 1, 1, 1, 1, 1, 1, 1, 1, 1, 1, 1, 1, 1, 1, 1, 1, 1, 1, 1, 1, 1, 1, 1, 1, 1, 1, 1, 1, 1, 1, 1, 1, 1, 1, 1, 1, 1, 1, 1, 1, 1, 1, 1, 1, 1, 1, 1, 1, 1, 1, 1, 1, 1, 1, 1, 1, 1, 1, 1, 1, 1, 1], 'attention_mask': [1, 1, 1, 1, 1, 1, 1, 1, 1, 1, 1, 1, 1, 1, 1, 1, 1, 1, 1, 1, 1, 1, 1, 0, 0, 0, 0, 0, 0, 0, 0, 0, 0, 0, 0, 0, 0, 0, 0, 0, 0, 0, 0, 0, 0, 0, 0, 0, 0, 0, 0, 0, 0, 0, 0, 0, 0, 0, 0, 0, 0, 0, 0, 0, 0, 0, 0, 0, 0, 0, 0, 0, 0, 0, 0, 0, 0, 0, 0, 0, 0, 0, 0, 0, 0, 0, 0, 0, 0, 0, 0, 0, 0, 0, 0, 0, 0, 0, 0, 0, 0, 0, 0, 0, 0, 0, 0, 0, 0, 0, 0, 0, 0, 0, 0, 0, 0, 0, 0, 0, 0, 0, 0, 0, 0, 0, 0, 0], 'labels': [128036, 5163, 983, 244, 5709, 82398, 18092, 783, 62113, 3872, 12, 978, 15392, 4293, 3645, 76878, 8594, 1618, 1843, 95271, 783, 24994, 93055, 776, 209, 2, 1, 1, 1, 1, 1, 1, 1, 1, 1, 1, 1, 1, 1, 1, 1, 1, 1, 1, 1, 1, 1, 1, 1, 1, 1, 1, 1, 1, 1, 1, 1, 1, 1, 1, 1, 1, 1, 1, 1, 1, 1, 1, 1, 1, 1, 1, 1, 1, 1, 1, 1, 1, 1, 1, 1, 1, 1, 1, 1, 1, 1, 1, 1, 1, 1, 1, 1, 1, 1, 1, 1, 1, 1, 1, 1, 1, 1, 1, 1, 1, 1, 1, 1, 1, 1, 1, 1, 1, 1, 1, 1, 1, 1, 1, 1, 1, 1, 1, 1, 1, 1, 1]}\n"
     ]
    }
   ],
   "source": [
    "def tokenize_function(examples):\n",
    "    # Tokenize the source text\n",
    "    model_inputs = tokenizer(\n",
    "        examples[\"source\"],\n",
    "        max_length=128,\n",
    "        truncation=True,\n",
    "        padding=\"max_length\"\n",
    "    )\n",
    "    \n",
    "    # Tokenize the target text\n",
    "    with tokenizer.as_target_tokenizer():\n",
    "        labels = tokenizer(\n",
    "            examples[\"target\"],\n",
    "            max_length=128,\n",
    "            truncation=True,\n",
    "            padding=\"max_length\"\n",
    "        )\n",
    "    \n",
    "    # Add the labels to the model inputs\n",
    "    model_inputs[\"labels\"] = labels[\"input_ids\"]\n",
    "    return model_inputs\n",
    "\n",
    "# Apply tokenization to the dataset\n",
    "tokenized_dataset = final_dataset.map(tokenize_function, batched=True)\n",
    "\n",
    "# Verify the tokenized dataset\n",
    "print(tokenized_dataset[\"train\"][0])"
   ]
  },
  {
   "cell_type": "code",
   "execution_count": 17,
   "metadata": {},
   "outputs": [
    {
     "data": {
      "text/plain": [
       "DatasetDict({\n",
       "    train: Dataset({\n",
       "        features: ['source', 'target', 'input_ids', 'attention_mask', 'labels'],\n",
       "        num_rows: 160\n",
       "    })\n",
       "    validation: Dataset({\n",
       "        features: ['source', 'target', 'input_ids', 'attention_mask', 'labels'],\n",
       "        num_rows: 20\n",
       "    })\n",
       "    test: Dataset({\n",
       "        features: ['source', 'target', 'input_ids', 'attention_mask', 'labels'],\n",
       "        num_rows: 20\n",
       "    })\n",
       "})"
      ]
     },
     "execution_count": 17,
     "metadata": {},
     "output_type": "execute_result"
    }
   ],
   "source": [
    "tokenized_dataset"
   ]
  },
  {
   "cell_type": "code",
   "execution_count": 18,
   "metadata": {},
   "outputs": [],
   "source": [
    "from transformers import DataCollatorForSeq2Seq\n",
    "\n",
    "data_collator = DataCollatorForSeq2Seq(tokenizer=tokenizer, model=model,padding=\"longest\")"
   ]
  },
  {
   "cell_type": "code",
   "execution_count": 19,
   "metadata": {},
   "outputs": [],
   "source": [
    "# Define LoRA configuration\n",
    "lora_config = LoraConfig(\n",
    "    r=32,  # Rank of the low-rank matrices\n",
    "    lora_alpha=64,  # Scaling factor\n",
    "    target_modules=[\"q_proj\", \"v_proj\", \"k_proj\"],  # Target specific layers\n",
    "    lora_dropout=0.1,\n",
    "    bias=\"none\",\n",
    "    task_type=\"SEQ_2_SEQ_LM\"  # Task type for sequence-to-sequence models\n",
    ")\n",
    "\n",
    "# Apply LoRA to the model\n",
    "model = get_peft_model(model, lora_config)"
   ]
  },
  {
   "cell_type": "code",
   "execution_count": 20,
   "metadata": {},
   "outputs": [
    {
     "name": "stdout",
     "output_type": "stream",
     "text": [
      "trainable params: 7,077,888 || all params: 490,983,424 || trainable%: 1.4416\n"
     ]
    }
   ],
   "source": [
    "model.print_trainable_parameters()"
   ]
  },
  {
   "cell_type": "code",
   "execution_count": 21,
   "metadata": {},
   "outputs": [],
   "source": [
    "data_collator = DataCollatorForSeq2Seq(tokenizer=tokenizer, model=model)"
   ]
  },
  {
   "cell_type": "code",
   "execution_count": null,
   "metadata": {},
   "outputs": [
    {
     "name": "stderr",
     "output_type": "stream",
     "text": [
      "/home/aktheroy/miniconda3/envs/Fython/lib/python3.12/site-packages/transformers/training_args.py:1575: FutureWarning: `evaluation_strategy` is deprecated and will be removed in version 4.46 of 🤗 Transformers. Use `eval_strategy` instead\n",
      "  warnings.warn(\n"
     ]
    },
    {
     "data": {
      "text/html": [
       "\n",
       "    <div>\n",
       "      \n",
       "      <progress value='50' max='50' style='width:300px; height:20px; vertical-align: middle;'></progress>\n",
       "      [50/50 01:05, Epoch 10/10]\n",
       "    </div>\n",
       "    <table border=\"1\" class=\"dataframe\">\n",
       "  <thead>\n",
       " <tr style=\"text-align: left;\">\n",
       "      <th>Epoch</th>\n",
       "      <th>Training Loss</th>\n",
       "      <th>Validation Loss</th>\n",
       "    </tr>\n",
       "  </thead>\n",
       "  <tbody>\n",
       "    <tr>\n",
       "      <td>1</td>\n",
       "      <td>11.178000</td>\n",
       "      <td>10.831661</td>\n",
       "    </tr>\n",
       "    <tr>\n",
       "      <td>2</td>\n",
       "      <td>11.193900</td>\n",
       "      <td>10.829941</td>\n",
       "    </tr>\n",
       "    <tr>\n",
       "      <td>3</td>\n",
       "      <td>11.247100</td>\n",
       "      <td>10.826058</td>\n",
       "    </tr>\n",
       "    <tr>\n",
       "      <td>4</td>\n",
       "      <td>11.281100</td>\n",
       "      <td>10.820035</td>\n",
       "    </tr>\n",
       "    <tr>\n",
       "      <td>5</td>\n",
       "      <td>11.188400</td>\n",
       "      <td>10.810964</td>\n",
       "    </tr>\n",
       "    <tr>\n",
       "      <td>6</td>\n",
       "      <td>11.256900</td>\n",
       "      <td>10.799357</td>\n",
       "    </tr>\n",
       "    <tr>\n",
       "      <td>7</td>\n",
       "      <td>11.182700</td>\n",
       "      <td>10.783994</td>\n",
       "    </tr>\n",
       "    <tr>\n",
       "      <td>8</td>\n",
       "      <td>11.251700</td>\n",
       "      <td>10.767180</td>\n",
       "    </tr>\n",
       "    <tr>\n",
       "      <td>9</td>\n",
       "      <td>11.177900</td>\n",
       "      <td>10.748231</td>\n",
       "    </tr>\n",
       "    <tr>\n",
       "      <td>10</td>\n",
       "      <td>11.129700</td>\n",
       "      <td>10.727311</td>\n",
       "    </tr>\n",
       "  </tbody>\n",
       "</table><p>"
      ],
      "text/plain": [
       "<IPython.core.display.HTML object>"
      ]
     },
     "metadata": {},
     "output_type": "display_data"
    },
    {
     "data": {
      "text/plain": [
       "TrainOutput(global_step=50, training_loss=11.208742141723633, metrics={'train_runtime': 66.7483, 'train_samples_per_second': 23.971, 'train_steps_per_second': 0.749, 'total_flos': 442118229196800.0, 'train_loss': 11.208742141723633, 'epoch': 10.0})"
      ]
     },
     "execution_count": 22,
     "metadata": {},
     "output_type": "execute_result"
    }
   ],
   "source": [
    "training_args = Seq2SeqTrainingArguments(\n",
    "    output_dir=\"./results\",\n",
    "    do_train=True,\n",
    "    do_eval=True,\n",
    "    evaluation_strategy=\"epoch\",  # Evaluate after each epoch\n",
    "    save_strategy=\"epoch\",  # Save after each epoch (match evaluation strategy)\n",
    "    num_train_epochs=10,\n",
    "    learning_rate=2e-5,\n",
    "    warmup_steps=500,\n",
    "    per_device_train_batch_size=8,\n",
    "    per_device_eval_batch_size=8,\n",
    "    weight_decay=0.1,\n",
    "    gradient_accumulation_steps=4,\n",
    "    fp16=True,\n",
    "    logging_steps=5,\n",
    "    lr_scheduler_type=\"linear\",  # Linear decay after warmup\n",
    "    metric_for_best_model=\"eval_loss\",\n",
    "    predict_with_generate=True,\n",
    "    greater_is_better=False,  # Lower validation loss is better\n",
    "    load_best_model_at_end= \"Training Loss\",\n",
    "    report_to=None,  # Or \"wandb\" if integrated\n",
    ")\n",
    "\n",
    "\n",
    "trainer = Seq2SeqTrainer(\n",
    "    model=model,\n",
    "    args=training_args,\n",
    "    data_collator=data_collator,\n",
    "    train_dataset=tokenized_dataset[\"train\"],\n",
    "    eval_dataset=tokenized_dataset[\"validation\"],\n",
    ")\n",
    "\n",
    "trainer.train()"
   ]
  },
  {
   "cell_type": "code",
   "execution_count": 23,
   "metadata": {},
   "outputs": [
    {
     "data": {
      "text/plain": [
       "('../Model/lora/M2M100_multi_task/tokenizer_config.json',\n",
       " '../Model/lora/M2M100_multi_task/special_tokens_map.json',\n",
       " '../Model/lora/M2M100_multi_task/vocab.json',\n",
       " '../Model/lora/M2M100_multi_task/sentencepiece.bpe.model',\n",
       " '../Model/lora/M2M100_multi_task/added_tokens.json')"
      ]
     },
     "execution_count": 23,
     "metadata": {},
     "output_type": "execute_result"
    }
   ],
   "source": [
    "model.save_pretrained(\"../Model/lora/M2M100_multi_task/\")\n",
    "tokenizer.save_pretrained(\"../Model/lora/M2M100_multi_task/\")"
   ]
  },
  {
   "cell_type": "code",
   "execution_count": 24,
   "metadata": {},
   "outputs": [],
   "source": [
    "from transformers import AutoModelForSeq2SeqLM, AutoTokenizer, pipeline\n",
    "\n",
    "# Load the fine-tuned model and tokenizer\n",
    "model = AutoModelForSeq2SeqLM.from_pretrained(\"../Model/lora/M2M100_multi_task/\")\n",
    "tokenizer = AutoTokenizer.from_pretrained(\"../Model/lora/M2M100_multi_task/\")"
   ]
  },
  {
   "cell_type": "code",
   "execution_count": 25,
   "metadata": {},
   "outputs": [
    {
     "name": "stderr",
     "output_type": "stream",
     "text": [
      "Device set to use cuda:0\n"
     ]
    },
    {
     "name": "stdout",
     "output_type": "stream",
     "text": [
      "Input: this is a test\n",
      "Translated: यह एक परीक्षण है\n"
     ]
    }
   ],
   "source": [
    "# Set the target language to Hindi\n",
    "tokenizer.tgt_lang = \"hi\"\n",
    "\n",
    "# Create a translation pipeline for English-to-Hindi\n",
    "translator_en_hi = pipeline(\"translation\", model=model, tokenizer=tokenizer, src_lang=\"en\", tgt_lang=\"hi\")\n",
    "\n",
    "# Test the model\n",
    "text = \"this is a test\"\n",
    "translated_text = translator_en_hi(text)\n",
    "\n",
    "# Print the result\n",
    "print(f\"Input: {text}\")\n",
    "print(f\"Translated: {translated_text[0]['translation_text']}\")"
   ]
  },
  {
   "cell_type": "code",
   "execution_count": 26,
   "metadata": {},
   "outputs": [
    {
     "name": "stderr",
     "output_type": "stream",
     "text": [
      "Device set to use cuda:0\n"
     ]
    },
    {
     "name": "stdout",
     "output_type": "stream",
     "text": [
      "Input: this is a test\n",
      "Translated: Αυτή είναι μια δοκιμή\n"
     ]
    }
   ],
   "source": [
    "# Set the target language to Greek\n",
    "tokenizer.tgt_lang = \"el\"\n",
    "\n",
    "# Create a translation pipeline for English-to-Greek\n",
    "translator_en_el = pipeline(\"translation\", model=model, tokenizer=tokenizer, src_lang=\"en\", tgt_lang=\"el\")\n",
    "\n",
    "# Test the model\n",
    "text = \"this is a test\"\n",
    "translated_text = translator_en_el(text)\n",
    "\n",
    "# Print the result\n",
    "print(f\"Input: {text}\")\n",
    "print(f\"Translated: {translated_text[0]['translation_text']}\")"
   ]
  },
  {
   "cell_type": "code",
   "execution_count": 27,
   "metadata": {},
   "outputs": [
    {
     "name": "stdout",
     "output_type": "stream",
     "text": [
      "Input: translate English to Hindi: break a leg\n",
      "Translated: अंग्रेजी में अंग्रेजी में अनुवाद: एक पैर तोड़ना\n",
      "Input: translate English to Greek: break a leg\n",
      "Translated: Μετάφραση Αγγλικών στα Ελληνικά: σπάστε ένα πόδι\n"
     ]
    }
   ],
   "source": [
    "# Test for English-to-Hindi with prefix\n",
    "text = \"translate English to Hindi: break a leg\"\n",
    "translated_text = translator_en_hi(text)\n",
    "print(f\"Input: {text}\")\n",
    "print(f\"Translated: {translated_text[0]['translation_text']}\")\n",
    "\n",
    "# Test for English-to-Greek with prefix\n",
    "text = \"translate English to Greek: break a leg\"\n",
    "translated_text = translator_en_el(text)\n",
    "print(f\"Input: {text}\")\n",
    "print(f\"Translated: {translated_text[0]['translation_text']}\")"
   ]
  },
  {
   "cell_type": "code",
   "execution_count": 30,
   "metadata": {},
   "outputs": [
    {
     "data": {
      "application/vnd.jupyter.widget-view+json": {
       "model_id": "3acdb75bcfa642f2b116ea24dbf8c6b2",
       "version_major": 2,
       "version_minor": 0
      },
      "text/plain": [
       "README.md:   0%|          | 0.00/5.17k [00:00<?, ?B/s]"
      ]
     },
     "metadata": {},
     "output_type": "display_data"
    },
    {
     "name": "stderr",
     "output_type": "stream",
     "text": [
      "No files have been modified since last commit. Skipping to prevent empty commit.\n"
     ]
    },
    {
     "data": {
      "application/vnd.jupyter.widget-view+json": {
       "model_id": "f34335569b0648d0bb3bde59d639c233",
       "version_major": 2,
       "version_minor": 0
      },
      "text/plain": [
       "sentencepiece.bpe.model:   0%|          | 0.00/2.42M [00:00<?, ?B/s]"
      ]
     },
     "metadata": {},
     "output_type": "display_data"
    },
    {
     "data": {
      "text/plain": [
       "CommitInfo(commit_url='https://huggingface.co/aktheroy/4bit_translate_en_el_hi/commit/78f3afd3314ea4bba578a600b5d60c3d7f854c48', commit_message='Upload tokenizer', commit_description='', oid='78f3afd3314ea4bba578a600b5d60c3d7f854c48', pr_url=None, repo_url=RepoUrl('https://huggingface.co/aktheroy/4bit_translate_en_el_hi', endpoint='https://huggingface.co', repo_type='model', repo_id='aktheroy/4bit_translate_en_el_hi'), pr_revision=None, pr_num=None)"
      ]
     },
     "execution_count": 30,
     "metadata": {},
     "output_type": "execute_result"
    }
   ],
   "source": [
    "model.push_to_hub(\"aktheroy/4bit_translate_en_el_hi\")\n",
    "tokenizer.push_to_hub(\"aktheroy/4bit_translate_en_el_hi\")"
   ]
  }
 ],
 "metadata": {
  "kernelspec": {
   "display_name": "Fython",
   "language": "python",
   "name": "python3"
  },
  "language_info": {
   "codemirror_mode": {
    "name": "ipython",
    "version": 3
   },
   "file_extension": ".py",
   "mimetype": "text/x-python",
   "name": "python",
   "nbconvert_exporter": "python",
   "pygments_lexer": "ipython3",
   "version": "3.12.8"
  }
 },
 "nbformat": 4,
 "nbformat_minor": 2
}
