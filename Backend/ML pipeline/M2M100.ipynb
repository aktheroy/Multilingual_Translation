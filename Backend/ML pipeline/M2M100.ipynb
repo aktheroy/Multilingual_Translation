{
 "cells": [
  {
   "cell_type": "markdown",
   "metadata": {},
   "source": [
    "# Imports "
   ]
  },
  {
   "cell_type": "code",
   "execution_count": 1,
   "metadata": {},
   "outputs": [],
   "source": [
    "# Standard library imports\n",
    "from time import time\n",
    "import numpy as np\n",
    "import evaluate\n",
    "import matplotlib as pt\n",
    "\n",
    "# Third-party library imports\n",
    "from datasets import Dataset, DatasetDict, load_dataset\n",
    "from evaluate import load\n",
    "from peft import LoraConfig, PeftModel, get_peft_model\n",
    "from transformers import (\n",
    "    TrainerCallback,\n",
    "    AutoModelForSeq2SeqLM,\n",
    "    DataCollatorForSeq2Seq,\n",
    "    AutoTokenizer,\n",
    "    GenerationConfig,\n",
    "    M2M100Config,\n",
    "    M2M100ForConditionalGeneration,\n",
    "    M2M100Tokenizer,\n",
    "    Seq2SeqTrainingArguments,\n",
    "    Seq2SeqTrainer,\n",
    "    pipeline,\n",
    ")\n",
    "\n",
    "# Local application/library specific imports\n",
    "import torch"
   ]
  },
  {
   "cell_type": "markdown",
   "metadata": {},
   "source": [
    "# 1. Data loading and spliting"
   ]
  },
  {
   "cell_type": "code",
   "execution_count": 12,
   "metadata": {},
   "outputs": [
    {
     "name": "stdout",
     "output_type": "stream",
     "text": [
      "DatasetDict({\n",
      "    train: Dataset({\n",
      "        features: ['English', 'Hindi'],\n",
      "        num_rows: 35871\n",
      "    })\n",
      "    validation: Dataset({\n",
      "        features: ['English', 'Hindi'],\n",
      "        num_rows: 4484\n",
      "    })\n",
      "    test: Dataset({\n",
      "        features: ['English', 'Hindi'],\n",
      "        num_rows: 4484\n",
      "    })\n",
      "})\n"
     ]
    }
   ],
   "source": [
    "percent_data_select = \"train[:20%]\" # add percent sign ie. \"train[:20%]\" to select that percent of data \n",
    "# Load only 20% of the dataset\n",
    "dataset = load_dataset(\"csv\", data_files={\"train\": \"../Datasets/processed_data.csv\"}, split=percent_data_select)\n",
    "\n",
    "# Split into train and test sets (e.g., 80% train, 20% test)\n",
    "train_test_split = dataset.train_test_split(test_size=0.2, seed=42)\n",
    "\n",
    "# Further split the test set into validation and test (e.g., 50-50 split of the 20%)\n",
    "validation_test_split = train_test_split[\"test\"].train_test_split(test_size=0.5, seed=42)\n",
    "\n",
    "# Combine splits into a DatasetDict\n",
    "raw_dataset = {\n",
    "    \"train\": train_test_split[\"train\"],\n",
    "    \"validation\": validation_test_split[\"train\"],\n",
    "    \"test\": validation_test_split[\"test\"]\n",
    "}\n",
    "\n",
    "dataset = DatasetDict(raw_dataset)\n",
    "\n",
    "# Inspect the resulting dataset\n",
    "print(dataset)\n"
   ]
  },
  {
   "cell_type": "code",
   "execution_count": 13,
   "metadata": {},
   "outputs": [
    {
     "name": "stdout",
     "output_type": "stream",
     "text": [
      "{'English': 'participants trained on punching bags (called a korykos).', 'Hindi': 'प्रतिभागियों को पंचिंग बैग, (जिसे कोरिकोस (Korykos) कहा जाता था, पर प्रशिक्षण दिया जाता था।'}\n",
      "{'English': 'shot over a period of twenty days, the film was primarily shot in an apartment at prabhadevi, mumbai.', 'Hindi': 'बीस दिनों की अवधि में, फिल्म को मुख्य रूप से मुंबई के प्रभादेवी क्षेत्र में स्थित एक अपार्टमेंट में शूट किया गया।'}\n",
      "{'English': 'this led the early pioneers in this type of learning to begin to apply it to \"family groups\" — that is, groups located within an organization.', 'Hindi': 'इसने इस प्रकार के प्रशिक्षण के प्रारंभिक प्रवर्तकों को इसे \"परिवार समूहों\"- अर्थात् एक ही संगठन के भीतर स्थित समूहों- पर लागू करने हेतु प्रेरित किया।'}\n",
      "{'English': 'it is the oldest in the country, having been formed in 1832, and is headquartered at 31 maitland crescent, colombo 7, close to the headquarters of sri lanka cricket.', 'Hindi': 'यह देश का सबसे पुराना देश है, जिसका गठन 1832 में हुआ था, और मुख्यालय श्रीलंका क्रिकेट के मुख्यालय के करीब 31 मैटलैंड क्रिसेंट, कोलंबो 7 में मुख्यालय है।'}\n"
     ]
    }
   ],
   "source": [
    "print(dataset['train'][0])\n",
    "print(dataset['train'][1])\n",
    "print(dataset['train'][2])\n",
    "print(dataset['train'][3])"
   ]
  },
  {
   "cell_type": "markdown",
   "metadata": {
    "vscode": {
     "languageId": "plaintext"
    }
   },
   "source": [
    "# 2. Facebook / M2M100 418M\n",
    "- M2M-100 stands for Massively Multilingual Model with 100 languages.\n",
    "- 418M refers to the model size in terms of the number of parameters. Parameters are the learnable weights within the model's neural network. A larger number of parameters generally allows the model to learn more complex patterns and achieve higher accuracy."
   ]
  },
  {
   "cell_type": "markdown",
   "metadata": {},
   "source": [
    "## 2.1 Comparing Tokenizers \n",
    "- Our approach will involve a systematic comparison of tokenization strategies, paying close attention to how each method handles linguistic characteristics specific to Hindi and English."
   ]
  },
  {
   "cell_type": "markdown",
   "metadata": {},
   "source": [
    "#### 2.1.1 AutoTokenizer"
   ]
  },
  {
   "cell_type": "code",
   "execution_count": 14,
   "metadata": {},
   "outputs": [],
   "source": [
    "model_ID = \"facebook/m2m100_418M\"  # Replace with your desired model\n",
    "model = AutoModelForSeq2SeqLM.from_pretrained(model_ID)\n",
    "tokenizer = AutoTokenizer.from_pretrained(model_ID, src_lang=\"en\", tgt_lang=\"hi\")\n",
    "# Create a GenerationConfig with the desired parameters"
   ]
  },
  {
   "cell_type": "code",
   "execution_count": 15,
   "metadata": {},
   "outputs": [
    {
     "name": "stdout",
     "output_type": "stream",
     "text": [
      "Original Hindi Input: translate Hindi to English: पिरपाजल रेलवे सुरंग का कार्य पूरा कर लिया गया था और 2012 में परीक्षण किया जा रहा था।\n",
      "Input Tokens: ['__en__', '▁trans', 'late', '▁Hindi', '▁to', '▁English', ':', '▁प', 'िर', 'पा', 'जल', '▁रेल', 'वे', '▁सुर', 'ंग', '▁का', '▁कार्य', '▁पूरा', '▁कर', '▁लिया', '▁गया', '▁था', '▁और', '▁2012', '▁में', '▁परी', 'क्षण', '▁किया', '▁जा', '▁रहा', '▁था', '।', '</s>']\n",
      "Decoded Input Text: __en__ translate Hindi to English: पिरपाजल रेलवे सुरंग का कार्य पूरा कर लिया गया था और 2012 में परीक्षण किया जा रहा था।</s>\n",
      "\n",
      "Original English Target: pirpanjal railway tunnel was completed and testing was being conducted in 2012.\n",
      "Target Tokens: ['__hi__', '▁pir', 'pan', 'jal', '▁ra', 'il', 'way', '▁tunnel', '▁was', '▁complet', 'ed', '▁and', '▁testing', '▁was', '▁being', '▁condu', 'cted', '▁in', '▁2012.', '</s>']\n",
      "Decoded Target Text: __hi__ pirpanjal railway tunnel was completed and testing was being conducted in 2012.</s>\n"
     ]
    }
   ],
   "source": [
    "# Sample data from the dataset\n",
    "sample = dataset[\"train\"][12]  # Replace with an actual sample index\n",
    "input_text = \"translate Hindi to English: \" + sample[\"Hindi\"]\n",
    "target_text = sample[\"English\"]\n",
    "\n",
    "# Tokenize inputs and targets\n",
    "inputs = tokenizer(input_text, return_tensors=\"pt\", padding=True, truncation=True)\n",
    "with tokenizer.as_target_tokenizer():\n",
    "    targets = tokenizer(target_text, return_tensors=\"pt\", padding=True, truncation=True)\n",
    "\n",
    "# Convert token IDs back to tokens\n",
    "input_tokens = tokenizer.convert_ids_to_tokens(inputs[\"input_ids\"][0])\n",
    "target_tokens = tokenizer.convert_ids_to_tokens(targets[\"input_ids\"][0])\n",
    "\n",
    "# Print the results for inspection\n",
    "print(\"Original Hindi Input:\", input_text)\n",
    "print(\"Input Tokens:\", input_tokens)\n",
    "print(\"Decoded Input Text:\", tokenizer.decode(inputs[\"input_ids\"][0], skip_special_tokens=False))\n",
    "print(\"\\nOriginal English Target:\", target_text)\n",
    "print(\"Target Tokens:\", target_tokens)\n",
    "print(\"Decoded Target Text:\", tokenizer.decode(targets[\"input_ids\"][0], skip_special_tokens=False))"
   ]
  },
  {
   "cell_type": "markdown",
   "metadata": {},
   "source": [
    " **Why are \"__hi__\" and \"__en__\" appearing before the English and Hindi sentences, respectively?**\n",
    "\n",
    "These special tokens, \"__hi__\" and \"__en__\", are often used in machine translation tasks to explicitly indicate the **source language** and **target language**. They serve as markers for the model to understand which language it's currently processing.\n",
    "\n",
    "##### Here's a breakdown of their functions:\n",
    "\n",
    "* **__hi__ and __en__: Language Identifiers:**\n",
    "   - **__hi__**: This token typically represents the Hindi language. When placed at the beginning of a sentence, it tells the model that the following text is in Hindi and should be translated into the target language (in this case, English).\n",
    "   - **__en__**: Similarly, \"__en__\" indicates that the following text is in English. It might be used in scenarios where the model is asked to translate from English to Hindi or for tasks like language identification.\n",
    "\n",
    "##### Why are they added?\n",
    "\n",
    "* **Clarity for the Model:** These markers provide clear and explicit information to the model about the language of the input and output sequences. This helps the model to better understand the context and improve the accuracy of its translations.\n",
    "* **Handling Multiple Language Pairs:** In multilingual models, these tokens can be used to handle various language pairs. For example, if the model is trained on multiple language pairs (e.g., English-French, English-Spanish), these tokens can help the model distinguish between the different language pairs.\n",
    "* **Facilitating Language Identification:** In some cases, these tokens can also be used for language identification tasks, where the model is asked to determine the language of a given text.\n",
    "\n",
    "##### In above given example:\n",
    "\n",
    "* **\"__en__ translate Hindi to English: जॉर्ज मिलर हमेशा एक व्यक्ति को दोनों करना चाहते थे।\"**: This part tells the model that the following text is in English and the task is to translate the Hindi text that follows.\n",
    "* **\"__hi__ george miller always wanted one person to do both .\"**: This indicates that the following text is the English translation of the preceding Hindi text.\n",
    "\n",
    "**Note:** The specific tokens used (e.g., \"__hi__\", \"__en__\") can vary depending on the pre-training data and the specific configuration of the model. However, the general concept of using special tokens to indicate language remains consistent.\n",
    "\n",
    "By understanding the role of these tokens, one can better interpret the model's output and fine-tune your training data for more accurate translations.\n"
   ]
  },
  {
   "cell_type": "markdown",
   "metadata": {},
   "source": [
    "#### 2.1.2 M2M100 Tokenizer"
   ]
  },
  {
   "cell_type": "code",
   "execution_count": 6,
   "metadata": {},
   "outputs": [],
   "source": [
    "model_ID_fb = M2M100ForConditionalGeneration.from_pretrained(\"facebook/m2m100_418M\",)\n",
    "tokenizer_fb = M2M100Tokenizer.from_pretrained(\"facebook/m2m100_418M\", src_lang=\"en\", tgt_lang=\"hi\")\n"
   ]
  },
  {
   "cell_type": "code",
   "execution_count": 7,
   "metadata": {},
   "outputs": [
    {
     "name": "stdout",
     "output_type": "stream",
     "text": [
      "Original Hindi Input: translate Hindi to English: पिरपाजल रेलवे सुरंग का कार्य पूरा कर लिया गया था और 2012 में परीक्षण किया जा रहा था।\n",
      "Input Tokens: ['__en__', '▁trans', 'late', '▁Hindi', '▁to', '▁English', ':', '▁प', 'िर', 'पा', 'जल', '▁रेल', 'वे', '▁सुर', 'ंग', '▁का', '▁कार्य', '▁पूरा', '▁कर', '▁लिया', '▁गया', '▁था', '▁और', '▁2012', '▁में', '▁परी', 'क्षण', '▁किया', '▁जा', '▁रहा', '▁था', '।', '</s>']\n",
      "Decoded Input Text: __en__ translate Hindi to English: पिरपाजल रेलवे सुरंग का कार्य पूरा कर लिया गया था और 2012 में परीक्षण किया जा रहा था।</s>\n",
      "\n",
      "Original English Target: pirpanjal railway tunnel was completed and testing was being conducted in 2012.\n",
      "Target Tokens: ['__hi__', '▁pir', 'pan', 'jal', '▁ra', 'il', 'way', '▁tunnel', '▁was', '▁complet', 'ed', '▁and', '▁testing', '▁was', '▁being', '▁condu', 'cted', '▁in', '▁2012.', '</s>']\n",
      "Decoded Target Text: __hi__ pirpanjal railway tunnel was completed and testing was being conducted in 2012.</s>\n"
     ]
    }
   ],
   "source": [
    "# Sample data from the dataset\n",
    "sample2 = dataset[\"train\"][12]  # Replace with an actual sample index\n",
    "input_text2 = \"translate Hindi to English: \" + sample2[\"Hindi\"]\n",
    "target_text2 = sample2[\"English\"]\n",
    "\n",
    "# Tokenize inputs and targets\n",
    "inputs2 = tokenizer_fb(input_text2, return_tensors=\"pt\", padding=True, truncation=True)\n",
    "with tokenizer_fb.as_target_tokenizer():\n",
    "    targets2 = tokenizer_fb(target_text2, return_tensors=\"pt\", padding=True, truncation=True)\n",
    "\n",
    "# Convert token IDs back to tokens\n",
    "input_tokens2 = tokenizer_fb.convert_ids_to_tokens(inputs2[\"input_ids\"][0])\n",
    "target_tokens2 = tokenizer_fb.convert_ids_to_tokens(targets2[\"input_ids\"][0])\n",
    "\n",
    "# Print the results for inspection\n",
    "print(\"Original Hindi Input:\", input_text2)\n",
    "print(\"Input Tokens:\", input_tokens2)\n",
    "print(\"Decoded Input Text:\", tokenizer_fb.decode(inputs2[\"input_ids\"][0], skip_special_tokens=False))\n",
    "print(\"\\nOriginal English Target:\", target_text2)\n",
    "print(\"Target Tokens:\", target_tokens2)\n",
    "print(\"Decoded Target Text:\", tokenizer_fb.decode(targets2[\"input_ids\"][0], skip_special_tokens=False))"
   ]
  },
  {
   "cell_type": "code",
   "execution_count": 8,
   "metadata": {},
   "outputs": [
    {
     "name": "stdout",
     "output_type": "stream",
     "text": [
      "{'bos_token': '<s>', 'eos_token': '</s>', 'unk_token': '<unk>', 'sep_token': '</s>', 'pad_token': '<pad>', 'additional_special_tokens': ['__af__', '__am__', '__ar__', '__ast__', '__az__', '__ba__', '__be__', '__bg__', '__bn__', '__br__', '__bs__', '__ca__', '__ceb__', '__cs__', '__cy__', '__da__', '__de__', '__el__', '__en__', '__es__', '__et__', '__fa__', '__ff__', '__fi__', '__fr__', '__fy__', '__ga__', '__gd__', '__gl__', '__gu__', '__ha__', '__he__', '__hi__', '__hr__', '__ht__', '__hu__', '__hy__', '__id__', '__ig__', '__ilo__', '__is__', '__it__', '__ja__', '__jv__', '__ka__', '__kk__', '__km__', '__kn__', '__ko__', '__lb__', '__lg__', '__ln__', '__lo__', '__lt__', '__lv__', '__mg__', '__mk__', '__ml__', '__mn__', '__mr__', '__ms__', '__my__', '__ne__', '__nl__', '__no__', '__ns__', '__oc__', '__or__', '__pa__', '__pl__', '__ps__', '__pt__', '__ro__', '__ru__', '__sd__', '__si__', '__sk__', '__sl__', '__so__', '__sq__', '__sr__', '__ss__', '__su__', '__sv__', '__sw__', '__ta__', '__th__', '__tl__', '__tn__', '__tr__', '__uk__', '__ur__', '__uz__', '__vi__', '__wo__', '__xh__', '__yi__', '__yo__', '__zh__', '__zu__']}\n"
     ]
    }
   ],
   "source": [
    "print(tokenizer.special_tokens_map)  # Check special tokens (e.g., <pad>, <unk>, etc.)\n"
   ]
  },
  {
   "cell_type": "code",
   "execution_count": 9,
   "metadata": {},
   "outputs": [
    {
     "name": "stdout",
     "output_type": "stream",
     "text": [
      "{'bos_token': '<s>', 'eos_token': '</s>', 'unk_token': '<unk>', 'sep_token': '</s>', 'pad_token': '<pad>', 'additional_special_tokens': ['__af__', '__am__', '__ar__', '__ast__', '__az__', '__ba__', '__be__', '__bg__', '__bn__', '__br__', '__bs__', '__ca__', '__ceb__', '__cs__', '__cy__', '__da__', '__de__', '__el__', '__en__', '__es__', '__et__', '__fa__', '__ff__', '__fi__', '__fr__', '__fy__', '__ga__', '__gd__', '__gl__', '__gu__', '__ha__', '__he__', '__hi__', '__hr__', '__ht__', '__hu__', '__hy__', '__id__', '__ig__', '__ilo__', '__is__', '__it__', '__ja__', '__jv__', '__ka__', '__kk__', '__km__', '__kn__', '__ko__', '__lb__', '__lg__', '__ln__', '__lo__', '__lt__', '__lv__', '__mg__', '__mk__', '__ml__', '__mn__', '__mr__', '__ms__', '__my__', '__ne__', '__nl__', '__no__', '__ns__', '__oc__', '__or__', '__pa__', '__pl__', '__ps__', '__pt__', '__ro__', '__ru__', '__sd__', '__si__', '__sk__', '__sl__', '__so__', '__sq__', '__sr__', '__ss__', '__su__', '__sv__', '__sw__', '__ta__', '__th__', '__tl__', '__tn__', '__tr__', '__uk__', '__ur__', '__uz__', '__vi__', '__wo__', '__xh__', '__yi__', '__yo__', '__zh__', '__zu__']}\n"
     ]
    }
   ],
   "source": [
    "print(tokenizer_fb.special_tokens_map)  # Check special tokens (e.g., <pad>, <unk>, etc.)\n"
   ]
  },
  {
   "cell_type": "markdown",
   "metadata": {},
   "source": [
    "**Both tokenizers i.e. pretrained models and model-specific tokenizers can yield similar outputs in many scenarios, but this isn't a universal rule.**\n",
    "\n",
    "  -  ***When comparing different models, such as `M2M100` and `Google's T5 small`, we'll encounter variations in how unknown words are processed. The Google T5 small model, for instance, tends to generate more `<unk>` tokens when encountering vocabulary outside its training set, which can pose challenges for translation*** "
   ]
  },
  {
   "cell_type": "markdown",
   "metadata": {},
   "source": [
    "## 2.2 text preprocessing\n"
   ]
  },
  {
   "cell_type": "markdown",
   "metadata": {},
   "source": [
    "\n",
    "**Importance of Text Preprocessing:**\n",
    "\n",
    "1. **Converting Text to Numbers:** Machine learning models can't directly understand raw text. Preprocessing transforms text into numerical representations (tokens) that the model can process.\n",
    "\n",
    "2. **Normalization and Consistency:** Text data can have inconsistencies like capitalization, punctuation, and variations in word forms (e.g., singular vs. plural). Preprocessing steps like lowercasing or stemming/lemmatization can address these issues, promoting consistency in the data.\n",
    "\n",
    "3. **Feature Engineering:** Preprocessing can create new features for the model. In your example, prepending \"translate Hindi to English: \" to the source sentences might help the model understand the context of translation.\n",
    "\n",
    "4. **Handling Text Length:** Different models have limitations on input and output lengths. Preprocessing techniques like truncation and padding ensure your data adheres to these limitations."
   ]
  },
  {
   "cell_type": "code",
   "execution_count": 18,
   "metadata": {},
   "outputs": [],
   "source": [
    "\n",
    "def preprocess_function(examples, src_lang, tgt_lang):\n",
    "    inputs = [f\"translate {src_lang} to {tgt_lang}: \" + ex for ex in examples[src_lang]]\n",
    "    targets = examples[tgt_lang]\n",
    "    model_inputs = tokenizer(inputs, max_length=128, truncation=True, padding=\"max_length\")\n",
    "    with tokenizer.as_target_tokenizer():\n",
    "        labels = tokenizer(targets, max_length=128, truncation=True, padding=\"max_length\")\n",
    "    model_inputs[\"labels\"] = labels[\"input_ids\"]\n",
    "    return model_inputs\n"
   ]
  },
  {
   "cell_type": "code",
   "execution_count": 19,
   "metadata": {},
   "outputs": [
    {
     "data": {
      "application/vnd.jupyter.widget-view+json": {
       "model_id": "39dae838423f48a49f47f3ccdfb9f926",
       "version_major": 2,
       "version_minor": 0
      },
      "text/plain": [
       "Map:   0%|          | 0/35871 [00:00<?, ? examples/s]"
      ]
     },
     "metadata": {},
     "output_type": "display_data"
    },
    {
     "data": {
      "application/vnd.jupyter.widget-view+json": {
       "model_id": "e178e1cb7d6a47dfb5023d85805f0e6c",
       "version_major": 2,
       "version_minor": 0
      },
      "text/plain": [
       "Map:   0%|          | 0/4484 [00:00<?, ? examples/s]"
      ]
     },
     "metadata": {},
     "output_type": "display_data"
    },
    {
     "data": {
      "application/vnd.jupyter.widget-view+json": {
       "model_id": "894b5de13a0148b185b3c2b0fb77099d",
       "version_major": 2,
       "version_minor": 0
      },
      "text/plain": [
       "Map:   0%|          | 0/4484 [00:00<?, ? examples/s]"
      ]
     },
     "metadata": {},
     "output_type": "display_data"
    },
    {
     "data": {
      "application/vnd.jupyter.widget-view+json": {
       "model_id": "a2e9928d78d84a978a60044524439417",
       "version_major": 2,
       "version_minor": 0
      },
      "text/plain": [
       "Map:   0%|          | 0/35871 [00:00<?, ? examples/s]"
      ]
     },
     "metadata": {},
     "output_type": "display_data"
    },
    {
     "data": {
      "application/vnd.jupyter.widget-view+json": {
       "model_id": "c37fccc6e6eb4d6f9ab2bbddc506829c",
       "version_major": 2,
       "version_minor": 0
      },
      "text/plain": [
       "Map:   0%|          | 0/4484 [00:00<?, ? examples/s]"
      ]
     },
     "metadata": {},
     "output_type": "display_data"
    },
    {
     "data": {
      "application/vnd.jupyter.widget-view+json": {
       "model_id": "89c0bb52563745538c34374057233e0b",
       "version_major": 2,
       "version_minor": 0
      },
      "text/plain": [
       "Map:   0%|          | 0/4484 [00:00<?, ? examples/s]"
      ]
     },
     "metadata": {},
     "output_type": "display_data"
    }
   ],
   "source": [
    "tokenized_datasets_hindi_to_english = dataset.map(lambda x: preprocess_function(x, \"Hindi\", \"English\"), batched=True)\n",
    "tokenized_datasets_english_to_hindi = dataset.map(lambda x: preprocess_function(x, \"English\", \"Hindi\"), batched=True)"
   ]
  },
  {
   "cell_type": "code",
   "execution_count": 20,
   "metadata": {},
   "outputs": [
    {
     "name": "stdout",
     "output_type": "stream",
     "text": [
      "Original Hindi: प्रतिभागियों को पंचिंग बैग, (जिसे कोरिकोस (Korykos) कहा जाता था, पर प्रशिक्षण दिया जाता था।\n",
      "Original English: participants trained on punching bags (called a korykos).\n",
      "Tokenized Input IDs: [128022, 5815, 80447, 11631, 128, 18006, 9, 11209, 46644, 10531, 929, 2846, 14095, 52053, 36608, 2568, 4, 11, 16071, 5398, 929, 19404, 530, 961, 11, 358, 178, 1844, 63, 17, 11259, 27741, 6904, 4, 1664, 82554, 23441, 15795, 27741, 6904, 209, 2, 1, 1, 1, 1, 1, 1, 1, 1, 1, 1, 1, 1, 1, 1, 1, 1, 1, 1, 1, 1, 1, 1, 1, 1, 1, 1, 1, 1, 1, 1, 1, 1, 1, 1, 1, 1, 1, 1, 1, 1, 1, 1, 1, 1, 1, 1, 1, 1, 1, 1, 1, 1, 1, 1, 1, 1, 1, 1, 1, 1, 1, 1, 1, 1, 1, 1, 1, 1, 1, 1, 1, 1, 1, 1, 1, 1, 1, 1, 1, 1, 1, 1, 1, 1, 1, 1]\n",
      "Decoded Input: __en__ translate Hindi to English: प्रतिभागियों को पंचिंग बैग, (जिसे कोरिकोस (Korykos) कहा जाता था, पर प्रशिक्षण दिया जाता था।</s><pad><pad><pad><pad><pad><pad><pad><pad><pad><pad><pad><pad><pad><pad><pad><pad><pad><pad><pad><pad><pad><pad><pad><pad><pad><pad><pad><pad><pad><pad><pad><pad><pad><pad><pad><pad><pad><pad><pad><pad><pad><pad><pad><pad><pad><pad><pad><pad><pad><pad><pad><pad><pad><pad><pad><pad><pad><pad><pad><pad><pad><pad><pad><pad><pad><pad><pad><pad><pad><pad><pad><pad><pad><pad><pad><pad><pad><pad><pad><pad><pad><pad><pad><pad><pad><pad>\n",
      "Tokenized Label IDs: [128036, 87587, 1368, 97863, 149, 2560, 117259, 98329, 11, 143, 916, 241, 8, 1986, 1844, 63, 188, 2, 1, 1, 1, 1, 1, 1, 1, 1, 1, 1, 1, 1, 1, 1, 1, 1, 1, 1, 1, 1, 1, 1, 1, 1, 1, 1, 1, 1, 1, 1, 1, 1, 1, 1, 1, 1, 1, 1, 1, 1, 1, 1, 1, 1, 1, 1, 1, 1, 1, 1, 1, 1, 1, 1, 1, 1, 1, 1, 1, 1, 1, 1, 1, 1, 1, 1, 1, 1, 1, 1, 1, 1, 1, 1, 1, 1, 1, 1, 1, 1, 1, 1, 1, 1, 1, 1, 1, 1, 1, 1, 1, 1, 1, 1, 1, 1, 1, 1, 1, 1, 1, 1, 1, 1, 1, 1, 1, 1, 1, 1]\n",
      "Decoded Label: __hi__ participants trained on punching bags (called a korykos).</s><pad><pad><pad><pad><pad><pad><pad><pad><pad><pad><pad><pad><pad><pad><pad><pad><pad><pad><pad><pad><pad><pad><pad><pad><pad><pad><pad><pad><pad><pad><pad><pad><pad><pad><pad><pad><pad><pad><pad><pad><pad><pad><pad><pad><pad><pad><pad><pad><pad><pad><pad><pad><pad><pad><pad><pad><pad><pad><pad><pad><pad><pad><pad><pad><pad><pad><pad><pad><pad><pad><pad><pad><pad><pad><pad><pad><pad><pad><pad><pad><pad><pad><pad><pad><pad><pad><pad><pad><pad><pad><pad><pad><pad><pad><pad><pad><pad><pad><pad><pad><pad><pad><pad><pad><pad><pad><pad><pad><pad><pad>\n",
      "==========\n",
      "Original Hindi: बीस दिनों की अवधि में, फिल्म को मुख्य रूप से मुंबई के प्रभादेवी क्षेत्र में स्थित एक अपार्टमेंट में शूट किया गया।\n",
      "Original English: shot over a period of twenty days, the film was primarily shot in an apartment at prabhadevi, mumbai.\n",
      "Tokenized Input IDs: [128022, 5815, 80447, 11631, 128, 18006, 9, 20682, 961, 87753, 783, 17378, 16814, 698, 4, 20046, 929, 20393, 25753, 1044, 25765, 456, 2860, 13140, 15865, 5509, 16013, 698, 74863, 1618, 17012, 5927, 25886, 67318, 698, 3776, 47094, 8053, 10397, 209, 2, 1, 1, 1, 1, 1, 1, 1, 1, 1, 1, 1, 1, 1, 1, 1, 1, 1, 1, 1, 1, 1, 1, 1, 1, 1, 1, 1, 1, 1, 1, 1, 1, 1, 1, 1, 1, 1, 1, 1, 1, 1, 1, 1, 1, 1, 1, 1, 1, 1, 1, 1, 1, 1, 1, 1, 1, 1, 1, 1, 1, 1, 1, 1, 1, 1, 1, 1, 1, 1, 1, 1, 1, 1, 1, 1, 1, 1, 1, 1, 1, 1, 1, 1, 1, 1, 1, 1]\n",
      "Decoded Input: __en__ translate Hindi to English: बीस दिनों की अवधि में, फिल्म को मुख्य रूप से मुंबई के प्रभादेवी क्षेत्र में स्थित एक अपार्टमेंट में शूट किया गया।</s><pad><pad><pad><pad><pad><pad><pad><pad><pad><pad><pad><pad><pad><pad><pad><pad><pad><pad><pad><pad><pad><pad><pad><pad><pad><pad><pad><pad><pad><pad><pad><pad><pad><pad><pad><pad><pad><pad><pad><pad><pad><pad><pad><pad><pad><pad><pad><pad><pad><pad><pad><pad><pad><pad><pad><pad><pad><pad><pad><pad><pad><pad><pad><pad><pad><pad><pad><pad><pad><pad><pad><pad><pad><pad><pad><pad><pad><pad><pad><pad><pad><pad><pad><pad><pad><pad><pad>\n",
      "Tokenized Label IDs: [128036, 119398, 1120, 8, 17569, 432, 31993, 60853, 70398, 4, 1197, 2140, 1513, 116275, 10287, 119398, 28, 48, 122333, 120, 2688, 4843, 692, 737, 4, 172, 4766, 293, 5, 2, 1, 1, 1, 1, 1, 1, 1, 1, 1, 1, 1, 1, 1, 1, 1, 1, 1, 1, 1, 1, 1, 1, 1, 1, 1, 1, 1, 1, 1, 1, 1, 1, 1, 1, 1, 1, 1, 1, 1, 1, 1, 1, 1, 1, 1, 1, 1, 1, 1, 1, 1, 1, 1, 1, 1, 1, 1, 1, 1, 1, 1, 1, 1, 1, 1, 1, 1, 1, 1, 1, 1, 1, 1, 1, 1, 1, 1, 1, 1, 1, 1, 1, 1, 1, 1, 1, 1, 1, 1, 1, 1, 1, 1, 1, 1, 1, 1, 1]\n",
      "Decoded Label: __hi__ shot over a period of twenty days, the film was primarily shot in an apartment at prabhadevi, mumbai.</s><pad><pad><pad><pad><pad><pad><pad><pad><pad><pad><pad><pad><pad><pad><pad><pad><pad><pad><pad><pad><pad><pad><pad><pad><pad><pad><pad><pad><pad><pad><pad><pad><pad><pad><pad><pad><pad><pad><pad><pad><pad><pad><pad><pad><pad><pad><pad><pad><pad><pad><pad><pad><pad><pad><pad><pad><pad><pad><pad><pad><pad><pad><pad><pad><pad><pad><pad><pad><pad><pad><pad><pad><pad><pad><pad><pad><pad><pad><pad><pad><pad><pad><pad><pad><pad><pad><pad><pad><pad><pad><pad><pad><pad><pad><pad><pad><pad><pad>\n",
      "==========\n",
      "Original Hindi: इसने इस प्रकार के प्रशिक्षण के प्रारंभिक प्रवर्तकों को इसे \"परिवार समूहों\"- अर्थात् एक ही संगठन के भीतर स्थित समूहों- पर लागू करने हेतु प्रेरित किया।\n",
      "Original English: this led the early pioneers in this type of learning to begin to apply it to \"family groups\" — that is, groups located within an organization.\n",
      "Tokenized Input IDs: [128022, 5815, 80447, 11631, 128, 18006, 9, 5163, 983, 5163, 29414, 456, 82554, 23441, 456, 108100, 101381, 2877, 55506, 88209, 23196, 929, 52374, 33, 25238, 17710, 5927, 56420, 1839, 30808, 79820, 11432, 1618, 4105, 81094, 456, 3211, 18561, 74863, 56420, 1839, 7, 1664, 67250, 7988, 6174, 30335, 114419, 2903, 8053, 209, 2, 1, 1, 1, 1, 1, 1, 1, 1, 1, 1, 1, 1, 1, 1, 1, 1, 1, 1, 1, 1, 1, 1, 1, 1, 1, 1, 1, 1, 1, 1, 1, 1, 1, 1, 1, 1, 1, 1, 1, 1, 1, 1, 1, 1, 1, 1, 1, 1, 1, 1, 1, 1, 1, 1, 1, 1, 1, 1, 1, 1, 1, 1, 1, 1, 1, 1, 1, 1, 1, 1, 1, 1, 1, 1, 1, 1]\n",
      "Decoded Input: __en__ translate Hindi to English: इसने इस प्रकार के प्रशिक्षण के प्रारंभिक प्रवर्तकों को इसे \"परिवार समूहों\"- अर्थात् एक ही संगठन के भीतर स्थित समूहों- पर लागू करने हेतु प्रेरित किया।</s><pad><pad><pad><pad><pad><pad><pad><pad><pad><pad><pad><pad><pad><pad><pad><pad><pad><pad><pad><pad><pad><pad><pad><pad><pad><pad><pad><pad><pad><pad><pad><pad><pad><pad><pad><pad><pad><pad><pad><pad><pad><pad><pad><pad><pad><pad><pad><pad><pad><pad><pad><pad><pad><pad><pad><pad><pad><pad><pad><pad><pad><pad><pad><pad><pad><pad><pad><pad><pad><pad><pad><pad><pad><pad><pad><pad>\n",
      "Tokenized Label IDs: [128036, 15911, 7587, 1197, 123665, 266, 2840, 397, 28, 15911, 24434, 432, 120932, 128, 24952, 128, 123086, 862, 128, 33, 34187, 10287, 125115, 64, 355, 16076, 117, 4, 125115, 125560, 123502, 48, 125521, 5, 2, 1, 1, 1, 1, 1, 1, 1, 1, 1, 1, 1, 1, 1, 1, 1, 1, 1, 1, 1, 1, 1, 1, 1, 1, 1, 1, 1, 1, 1, 1, 1, 1, 1, 1, 1, 1, 1, 1, 1, 1, 1, 1, 1, 1, 1, 1, 1, 1, 1, 1, 1, 1, 1, 1, 1, 1, 1, 1, 1, 1, 1, 1, 1, 1, 1, 1, 1, 1, 1, 1, 1, 1, 1, 1, 1, 1, 1, 1, 1, 1, 1, 1, 1, 1, 1, 1, 1, 1, 1, 1, 1, 1, 1]\n",
      "Decoded Label: __hi__ this led the early pioneers in this type of learning to begin to apply it to \"family groups\" — that is, groups located within an organization.</s><pad><pad><pad><pad><pad><pad><pad><pad><pad><pad><pad><pad><pad><pad><pad><pad><pad><pad><pad><pad><pad><pad><pad><pad><pad><pad><pad><pad><pad><pad><pad><pad><pad><pad><pad><pad><pad><pad><pad><pad><pad><pad><pad><pad><pad><pad><pad><pad><pad><pad><pad><pad><pad><pad><pad><pad><pad><pad><pad><pad><pad><pad><pad><pad><pad><pad><pad><pad><pad><pad><pad><pad><pad><pad><pad><pad><pad><pad><pad><pad><pad><pad><pad><pad><pad><pad><pad><pad><pad><pad><pad><pad><pad>\n",
      "==========\n"
     ]
    }
   ],
   "source": [
    "# Inspect the first example\n",
    "for idx in range(3):  # Print first 3 examples as a sample\n",
    "    print(f\"Original Hindi: {dataset['train'][idx]['Hindi']}\")\n",
    "    print(f\"Original English: {dataset['train'][idx]['English']}\")\n",
    "\n",
    "    # Tokenized inputs\n",
    "    tokenized_input = tokenized_datasets_hindi_to_english[\"train\"][idx][\"input_ids\"]\n",
    "    print(f\"Tokenized Input IDs: {tokenized_input}\")\n",
    "    print(f\"Decoded Input: {tokenizer.decode(tokenized_input, skip_special_tokens=False)}\")\n",
    "\n",
    "    # Tokenized outputs\n",
    "    tokenized_label = tokenized_datasets_hindi_to_english[\"train\"][idx][\"labels\"]\n",
    "    print(f\"Tokenized Label IDs: {tokenized_label}\")\n",
    "    print(f\"Decoded Label: {tokenizer.decode(tokenized_label, skip_special_tokens=False)}\")\n",
    "\n",
    "    print(\"=\" * 10)"
   ]
  },
  {
   "cell_type": "markdown",
   "metadata": {},
   "source": [
    "**Specific Breakdown to Code:**\n",
    "\n",
    "- **`inputs = [\"translate Hindi to English: \" + ex for ex in examples[\"Hindi\"]]`**: This line creates a new list (`inputs`) by prepending a context string to each sentence in the `Hindi` column of the dataset.\n",
    "\n",
    "- **`model_inputs = tokenizer(inputs, max_length=128, truncation=True, padding=\"max_length\")`**: This tokenizes the `inputs` list, converting them into numerical representations using the `tokenizer`. The `max_length` argument limits the length of each sequence, and `truncation=True` ensures sequences exceeding the limit are shortened. `padding=\"max_length\"` pads shorter sequences with special tokens to create a uniform length.\n",
    "\n",
    "- **`with tokenizer.as_target_tokenizer():`**: This context manager configures the tokenizer for handling the target language (English) by setting the appropriate attributes.\n",
    "\n",
    "- **`labels = tokenizer(targets, max_length=128, truncation=True, padding=\"max_length\")`**: This tokenizes the target sentences (`English`) with similar parameters as the input.\n",
    "\n",
    "- **`model_inputs[\"labels\"] = labels[\"input_ids\"]`**: This adds the tokenized target sentence IDs (stored as `input_ids` in the `labels` dictionary) as a new key \"labels\" within the `model_inputs` dictionary.\n",
    "\n",
    "- **`tokenized_datasets = dataset.map(preprocess_function, batched=True)`**: This line applies the `preprocess_function` to each element of the dataset (`dataset`) in batches using `batched=True` for efficiency. The resulting processed data is stored in `tokenized_datasets`.\n",
    "\n",
    "In summary, this text preprocessing step transforms your raw text data into a format suitable for training your machine translation model. It ensures consistency, handles sequence lengths, and potentially adds contextual information to aid the translation process."
   ]
  },
  {
   "cell_type": "markdown",
   "metadata": {},
   "source": [
    "## 2.3 Data collator\n"
   ]
  },
  {
   "cell_type": "markdown",
   "metadata": {},
   "source": [
    "In machine learning, particularly for transformer models, a data collator plays a crucial role in preparing batches of data for training. It's essentially a function that takes individual samples and combines them into batches in a way that's efficient and optimized for the model's processing.\n",
    "\n",
    "\n",
    "For sequence-to-sequence tasks like translation, a specialized data collator (often DataCollatorForSeq2Seq) becomes critical. It ensures that:\n",
    "- Source and target sequences are properly aligned\n",
    "- Padding is applied consistently\n",
    "- Attention mechanisms can correctly ignore padded tokens\n",
    "- Labels are prepared in a format that allows for loss calculation during training\n",
    "\n",
    "\n",
    "\n",
    "Without a proper data collator, you'd need to manually handle sequence padding, masking, and batch preparation, which would be computationally expensive and error-prone."
   ]
  },
  {
   "cell_type": "code",
   "execution_count": 21,
   "metadata": {},
   "outputs": [],
   "source": [
    "data_collator = DataCollatorForSeq2Seq(tokenizer=tokenizer, model=model_ID)"
   ]
  },
  {
   "cell_type": "markdown",
   "metadata": {},
   "source": [
    "## 2.4 BLEU (Bilingual Evaluation Understudy): \n"
   ]
  },
  {
   "cell_type": "code",
   "execution_count": 22,
   "metadata": {},
   "outputs": [],
   "source": [
    "metric = evaluate.load(\"sacrebleu\")"
   ]
  },
  {
   "cell_type": "code",
   "execution_count": 23,
   "metadata": {},
   "outputs": [],
   "source": [
    "def postprocess_text(preds, labels):\n",
    "    preds = [pred.strip() for pred in preds]\n",
    "    labels = [[label.strip()] for label in labels]\n",
    "\n",
    "    return preds, labels\n",
    "\n",
    "\n",
    "def compute_metrics(eval_preds, tokenizer, metric):\n",
    "    preds, labels = eval_preds\n",
    "    if isinstance(preds, tuple):\n",
    "        preds = preds[0]\n",
    "    decoded_preds = tokenizer.batch_decode(preds, skip_special_tokens=True)\n",
    "    labels = np.where(labels != -100, labels, tokenizer.pad_token_id)\n",
    "    decoded_labels = tokenizer.batch_decode(labels, skip_special_tokens=True)\n",
    "    decoded_preds, decoded_labels = postprocess_text(decoded_preds, decoded_labels)\n",
    "    result = metric.compute(predictions=decoded_preds, references=decoded_labels)\n",
    "    result = {\"bleu\": result[\"score\"]}\n",
    "    prediction_lens = [np.count_nonzero(pred != tokenizer.pad_token_id) for pred in preds]\n",
    "    result[\"gen_len\"] = np.mean(prediction_lens)\n",
    "    result = {k: round(v, 4) for k, v in result.items()}\n",
    "    return result"
   ]
  },
  {
   "cell_type": "markdown",
   "metadata": {},
   "source": [
    "## 2.5 Fine Tuning\n"
   ]
  },
  {
   "cell_type": "code",
   "execution_count": null,
   "metadata": {},
   "outputs": [
    {
     "name": "stderr",
     "output_type": "stream",
     "text": [
      "C:\\Users\\akthe\\AppData\\Local\\Temp\\ipykernel_5952\\902773401.py:14: FutureWarning: `tokenizer` is deprecated and will be removed in version 5.0.0 for `Seq2SeqTrainer.__init__`. Use `processing_class` instead.\n",
      "  trainer = Seq2SeqTrainer(\n"
     ]
    },
    {
     "data": {
      "application/vnd.jupyter.widget-view+json": {
       "model_id": "c0a364153afb46d2984cdd8c41aed8f5",
       "version_major": 2,
       "version_minor": 0
      },
      "text/plain": [
       "  0%|          | 0/13452 [00:00<?, ?it/s]"
      ]
     },
     "metadata": {},
     "output_type": "display_data"
    },
    {
     "name": "stdout",
     "output_type": "stream",
     "text": [
      "{'loss': 1.7837, 'grad_norm': 1.3042411804199219, 'learning_rate': 1.9262563187630093e-05, 'epoch': 0.11}\n"
     ]
    },
    {
     "name": "stderr",
     "output_type": "stream",
     "text": [
      "c:\\Users\\akthe\\miniconda3\\envs\\WPanda\\Lib\\site-packages\\transformers\\modeling_utils.py:2748: UserWarning: Moving the following attributes in the config to the generation config: {'max_length': 200, 'early_stopping': True, 'num_beams': 5}. You are seeing this warning because you've set generation parameters in the model config, as opposed to in the generation config.\n",
      "  warnings.warn(\n"
     ]
    }
   ],
   "source": [
    "training_args = Seq2SeqTrainingArguments(\n",
    "    output_dir=\"../Model/fb/Base/Checkpoint/\",\n",
    "    eval_strategy=\"epoch\",\n",
    "    learning_rate=2e-5,\n",
    "    per_device_train_batch_size=8,\n",
    "    per_device_eval_batch_size=8,\n",
    "    weight_decay=0.01,\n",
    "    save_total_limit=3,\n",
    "    num_train_epochs=3,\n",
    "    predict_with_generate=True,\n",
    "    fp16=True,\n",
    ")\n",
    "\n",
    "trainer = Seq2SeqTrainer(\n",
    "    model=model,\n",
    "    args=training_args,\n",
    "    train_dataset=tokenized_datasets_hindi_to_english[\"train\"],\n",
    "    eval_dataset=tokenized_datasets_hindi_to_english[\"test\"],\n",
    "    tokenizer=tokenizer,\n",
    "    data_collator=data_collator,\n",
    "    compute_metrics=lambda x: compute_metrics(x, tokenizer, metric),\n",
    ")\n",
    "\n",
    "trainer.train()\n",
    "\n",
    "# Fine-tune for English to Hindi\n",
    "trainer = Seq2SeqTrainer(\n",
    "    model=model,\n",
    "    args=training_args,\n",
    "    train_dataset=tokenized_datasets_english_to_hindi[\"train\"],\n",
    "    eval_dataset=tokenized_datasets_english_to_hindi[\"test\"],\n",
    "    tokenizer=tokenizer,\n",
    "    data_collator=data_collator,\n",
    "    compute_metrics=lambda x: compute_metrics(x, tokenizer, metric),\n",
    ")\n",
    "\n",
    "trainer.train()"
   ]
  },
  {
   "cell_type": "markdown",
   "metadata": {},
   "source": [
    "## 2.6 Saving Finetuned Model\n"
   ]
  },
  {
   "cell_type": "code",
   "execution_count": 43,
   "metadata": {},
   "outputs": [
    {
     "data": {
      "text/plain": [
       "('../Model/fb/Base/M2M100/tokenizer_config.json',\n",
       " '../Model/fb/Base/M2M100/special_tokens_map.json',\n",
       " '..\\\\Model\\\\fb\\\\Base\\\\M2M100\\\\vocab.json',\n",
       " '..\\\\Model\\\\fb\\\\Base\\\\M2M100\\\\sentencepiece.bpe.model',\n",
       " '../Model/fb/Base/M2M100/added_tokens.json')"
      ]
     },
     "execution_count": 43,
     "metadata": {},
     "output_type": "execute_result"
    }
   ],
   "source": [
    "trainer.save_model(\"../Model/fb/Base/M2M100/\")\n",
    "tokenizer.save_pretrained(\"../Model/fb/Base/M2M100/\")\n"
   ]
  },
  {
   "cell_type": "markdown",
   "metadata": {},
   "source": [
    "## 2.7 laoding & testing Finetuned Model\n"
   ]
  },
  {
   "cell_type": "code",
   "execution_count": 45,
   "metadata": {},
   "outputs": [
    {
     "name": "stderr",
     "output_type": "stream",
     "text": [
      "Device set to use cuda:0\n"
     ]
    },
    {
     "data": {
      "text/plain": [
       "[{'translation_text': 'एक पैर तोड़ना'}]"
      ]
     },
     "execution_count": 45,
     "metadata": {},
     "output_type": "execute_result"
    }
   ],
   "source": [
    "from transformers import pipeline\n",
    "text = 'break a leg'\n",
    "translator = pipeline(\"translation_en_to_hi\", model=\"../Model/fb/Base/M2M100/\")\n",
    "translator(text)\n"
   ]
  },
  {
   "cell_type": "code",
   "execution_count": 44,
   "metadata": {},
   "outputs": [
    {
     "name": "stderr",
     "output_type": "stream",
     "text": [
      "Device set to use cuda:0\n"
     ]
    },
    {
     "name": "stdout",
     "output_type": "stream",
     "text": [
      "[{'translation_text': 'It is a test.'}]\n"
     ]
    },
    {
     "name": "stderr",
     "output_type": "stream",
     "text": [
      "Device set to use cuda:0\n"
     ]
    },
    {
     "name": "stdout",
     "output_type": "stream",
     "text": [
      "[{'translation_text': 'यह एक परीक्षण है।'}]\n"
     ]
    }
   ],
   "source": [
    "# Test Hindi to English\n",
    "translator_hindi_to_english = pipeline(\"translation_hi_to_en\", model=\"../Model/fb/Base/M2M100/\")\n",
    "result_hindi_to_english = translator_hindi_to_english(\"यह एक परीक्षण है\")\n",
    "print(result_hindi_to_english)\n",
    "\n",
    "# Test English to Hindi\n",
    "translator_english_to_hindi = pipeline(\"translation_en_to_hi\", model=\"../Model/fb/Base/M2M100/\")\n",
    "result_english_to_hindi = translator_english_to_hindi(\"This is a test\")\n",
    "print(result_english_to_hindi)"
   ]
  },
  {
   "cell_type": "code",
   "execution_count": 19,
   "metadata": {},
   "outputs": [],
   "source": [
    "import torch, gc\n",
    "gc.collect()\n",
    "torch.cuda.empty_cache()"
   ]
  },
  {
   "cell_type": "markdown",
   "metadata": {},
   "source": [
    "# 3.\tFacebook / M2M100 418M + LoRa\n",
    "- LoRA (Low-Rank Adaptation) refers to a parameter-efficient fine-tuning technique.\n"
   ]
  },
  {
   "cell_type": "markdown",
   "metadata": {},
   "source": [
    "![alt text](image.png)"
   ]
  },
  {
   "cell_type": "markdown",
   "metadata": {},
   "source": [
    "In the context of Large Language Models (LLMs), LoRA (Low-Rank Adaptation) refers to a parameter-efficient fine-tuning technique. \n",
    "\n",
    "**Key Concepts:**\n",
    "\n",
    "* **Fine-tuning:** LLMs are often pre-trained on massive datasets. Fine-tuning involves adapting these pre-trained models to specific tasks or domains using smaller, more relevant datasets.\n",
    "* **Parameter-Efficiency:** Fine-tuning LLMs can be computationally expensive, especially for very large models. LoRA addresses this by significantly reducing the number of parameters that need to be updated during fine-tuning.\n",
    "\n",
    "**How LoRA Works:**\n",
    "\n",
    "Instead of fine-tuning all the parameters of the base LLM, LoRA introduces two small, trainable matrices (A and B) for each attention layer:\n",
    "\n",
    "1. **Decomposition:** The update to the original weight matrix (W) is approximated as the product of these two smaller matrices: W' = W + A * B.\n",
    "2. **Reduced Parameters:** Since A and B have significantly fewer parameters than the original weight matrix, the overall number of trainable parameters is drastically reduced.\n",
    "3. **Fine-tuning:** Only the parameters of A and B are trained during fine-tuning, while the original weights of the base LLM remain frozen.\n",
    "\n",
    "**Benefits of LoRA:**\n",
    "\n",
    "* **Reduced Training Time and Cost:** By training only a small subset of parameters, LoRA significantly reduces training time and computational resources.\n",
    "* **Improved Efficiency:** The smaller number of parameters leads to faster inference times.\n",
    "* **Preserving Base Model:** Since the base model's weights are frozen, it retains its general knowledge and capabilities while being adapted to the specific task.\n",
    "* **Easier Deployment:** Smaller models are easier to deploy and run on devices with limited resources.\n",
    "\n",
    "**Applications:**\n",
    "\n",
    "LoRA has been successfully applied to a wide range of LLM fine-tuning tasks, including:\n",
    "\n",
    "* **Domain Adaptation:** Adapting LLMs to specific domains like finance, medicine, or law.\n",
    "* **Task-Specific Fine-tuning:** Fine-tuning LLMs for specific tasks such as question answering, text summarization, and code generation.\n",
    "* **Personalization:** Creating personalized LLMs for individual users or groups.\n",
    "\n",
    "**In summary:**\n",
    "\n",
    "LoRA is a powerful technique that enables efficient and effective fine-tuning of LLMs. By significantly reducing the number of trainable parameters, LoRA makes it possible to customize large models for specific applications while minimizing training costs and preserving the valuable knowledge of the base model.\n"
   ]
  },
  {
   "cell_type": "markdown",
   "metadata": {},
   "source": [
    "## 3.1 Model self attention layer\n",
    "- it is crucial to know self attention module defined as in lora weight changes of these metrics are tracked"
   ]
  },
  {
   "cell_type": "code",
   "execution_count": 20,
   "metadata": {},
   "outputs": [
    {
     "name": "stdout",
     "output_type": "stream",
     "text": [
      " M2M100ForConditionalGeneration(\n",
      "  (model): M2M100Model(\n",
      "    (shared): M2M100ScaledWordEmbedding(128112, 1024, padding_idx=1)\n",
      "    (encoder): M2M100Encoder(\n",
      "      (embed_tokens): M2M100ScaledWordEmbedding(128112, 1024, padding_idx=1)\n",
      "      (embed_positions): M2M100SinusoidalPositionalEmbedding()\n",
      "      (layers): ModuleList(\n",
      "        (0-11): 12 x M2M100EncoderLayer(\n",
      "          (self_attn): M2M100SdpaAttention(\n",
      "            (k_proj): Linear(in_features=1024, out_features=1024, bias=True)\n",
      "            (v_proj): Linear(in_features=1024, out_features=1024, bias=True)\n",
      "            (q_proj): Linear(in_features=1024, out_features=1024, bias=True)\n",
      "            (out_proj): Linear(in_features=1024, out_features=1024, bias=True)\n",
      "          )\n",
      "          (self_attn_layer_norm): LayerNorm((1024,), eps=1e-05, elementwise_affine=True)\n",
      "          (activation_fn): ReLU()\n",
      "          (fc1): Linear(in_features=1024, out_features=4096, bias=True)\n",
      "          (fc2): Linear(in_features=4096, out_features=1024, bias=True)\n",
      "          (final_layer_norm): LayerNorm((1024,), eps=1e-05, elementwise_affine=True)\n",
      "        )\n",
      "      )\n",
      "      (layer_norm): LayerNorm((1024,), eps=1e-05, elementwise_affine=True)\n",
      "    )\n",
      "    (decoder): M2M100Decoder(\n",
      "      (embed_tokens): M2M100ScaledWordEmbedding(128112, 1024, padding_idx=1)\n",
      "      (embed_positions): M2M100SinusoidalPositionalEmbedding()\n",
      "      (layers): ModuleList(\n",
      "        (0-11): 12 x M2M100DecoderLayer(\n",
      "          (self_attn): M2M100SdpaAttention(\n",
      "            (k_proj): Linear(in_features=1024, out_features=1024, bias=True)\n",
      "            (v_proj): Linear(in_features=1024, out_features=1024, bias=True)\n",
      "            (q_proj): Linear(in_features=1024, out_features=1024, bias=True)\n",
      "            (out_proj): Linear(in_features=1024, out_features=1024, bias=True)\n",
      "          )\n",
      "          (activation_fn): ReLU()\n",
      "          (self_attn_layer_norm): LayerNorm((1024,), eps=1e-05, elementwise_affine=True)\n",
      "          (encoder_attn): M2M100SdpaAttention(\n",
      "            (k_proj): Linear(in_features=1024, out_features=1024, bias=True)\n",
      "            (v_proj): Linear(in_features=1024, out_features=1024, bias=True)\n",
      "            (q_proj): Linear(in_features=1024, out_features=1024, bias=True)\n",
      "            (out_proj): Linear(in_features=1024, out_features=1024, bias=True)\n",
      "          )\n",
      "          (encoder_attn_layer_norm): LayerNorm((1024,), eps=1e-05, elementwise_affine=True)\n",
      "          (fc1): Linear(in_features=1024, out_features=4096, bias=True)\n",
      "          (fc2): Linear(in_features=4096, out_features=1024, bias=True)\n",
      "          (final_layer_norm): LayerNorm((1024,), eps=1e-05, elementwise_affine=True)\n",
      "        )\n",
      "      )\n",
      "      (layer_norm): LayerNorm((1024,), eps=1e-05, elementwise_affine=True)\n",
      "    )\n",
      "  )\n",
      "  (lm_head): Linear(in_features=1024, out_features=128112, bias=False)\n",
      ")\n",
      "model M2M100Model(\n",
      "  (shared): M2M100ScaledWordEmbedding(128112, 1024, padding_idx=1)\n",
      "  (encoder): M2M100Encoder(\n",
      "    (embed_tokens): M2M100ScaledWordEmbedding(128112, 1024, padding_idx=1)\n",
      "    (embed_positions): M2M100SinusoidalPositionalEmbedding()\n",
      "    (layers): ModuleList(\n",
      "      (0-11): 12 x M2M100EncoderLayer(\n",
      "        (self_attn): M2M100SdpaAttention(\n",
      "          (k_proj): Linear(in_features=1024, out_features=1024, bias=True)\n",
      "          (v_proj): Linear(in_features=1024, out_features=1024, bias=True)\n",
      "          (q_proj): Linear(in_features=1024, out_features=1024, bias=True)\n",
      "          (out_proj): Linear(in_features=1024, out_features=1024, bias=True)\n",
      "        )\n",
      "        (self_attn_layer_norm): LayerNorm((1024,), eps=1e-05, elementwise_affine=True)\n",
      "        (activation_fn): ReLU()\n",
      "        (fc1): Linear(in_features=1024, out_features=4096, bias=True)\n",
      "        (fc2): Linear(in_features=4096, out_features=1024, bias=True)\n",
      "        (final_layer_norm): LayerNorm((1024,), eps=1e-05, elementwise_affine=True)\n",
      "      )\n",
      "    )\n",
      "    (layer_norm): LayerNorm((1024,), eps=1e-05, elementwise_affine=True)\n",
      "  )\n",
      "  (decoder): M2M100Decoder(\n",
      "    (embed_tokens): M2M100ScaledWordEmbedding(128112, 1024, padding_idx=1)\n",
      "    (embed_positions): M2M100SinusoidalPositionalEmbedding()\n",
      "    (layers): ModuleList(\n",
      "      (0-11): 12 x M2M100DecoderLayer(\n",
      "        (self_attn): M2M100SdpaAttention(\n",
      "          (k_proj): Linear(in_features=1024, out_features=1024, bias=True)\n",
      "          (v_proj): Linear(in_features=1024, out_features=1024, bias=True)\n",
      "          (q_proj): Linear(in_features=1024, out_features=1024, bias=True)\n",
      "          (out_proj): Linear(in_features=1024, out_features=1024, bias=True)\n",
      "        )\n",
      "        (activation_fn): ReLU()\n",
      "        (self_attn_layer_norm): LayerNorm((1024,), eps=1e-05, elementwise_affine=True)\n",
      "        (encoder_attn): M2M100SdpaAttention(\n",
      "          (k_proj): Linear(in_features=1024, out_features=1024, bias=True)\n",
      "          (v_proj): Linear(in_features=1024, out_features=1024, bias=True)\n",
      "          (q_proj): Linear(in_features=1024, out_features=1024, bias=True)\n",
      "          (out_proj): Linear(in_features=1024, out_features=1024, bias=True)\n",
      "        )\n",
      "        (encoder_attn_layer_norm): LayerNorm((1024,), eps=1e-05, elementwise_affine=True)\n",
      "        (fc1): Linear(in_features=1024, out_features=4096, bias=True)\n",
      "        (fc2): Linear(in_features=4096, out_features=1024, bias=True)\n",
      "        (final_layer_norm): LayerNorm((1024,), eps=1e-05, elementwise_affine=True)\n",
      "      )\n",
      "    )\n",
      "    (layer_norm): LayerNorm((1024,), eps=1e-05, elementwise_affine=True)\n",
      "  )\n",
      ")\n",
      "model.shared M2M100ScaledWordEmbedding(128112, 1024, padding_idx=1)\n",
      "model.encoder M2M100Encoder(\n",
      "  (embed_tokens): M2M100ScaledWordEmbedding(128112, 1024, padding_idx=1)\n",
      "  (embed_positions): M2M100SinusoidalPositionalEmbedding()\n",
      "  (layers): ModuleList(\n",
      "    (0-11): 12 x M2M100EncoderLayer(\n",
      "      (self_attn): M2M100SdpaAttention(\n",
      "        (k_proj): Linear(in_features=1024, out_features=1024, bias=True)\n",
      "        (v_proj): Linear(in_features=1024, out_features=1024, bias=True)\n",
      "        (q_proj): Linear(in_features=1024, out_features=1024, bias=True)\n",
      "        (out_proj): Linear(in_features=1024, out_features=1024, bias=True)\n",
      "      )\n",
      "      (self_attn_layer_norm): LayerNorm((1024,), eps=1e-05, elementwise_affine=True)\n",
      "      (activation_fn): ReLU()\n",
      "      (fc1): Linear(in_features=1024, out_features=4096, bias=True)\n",
      "      (fc2): Linear(in_features=4096, out_features=1024, bias=True)\n",
      "      (final_layer_norm): LayerNorm((1024,), eps=1e-05, elementwise_affine=True)\n",
      "    )\n",
      "  )\n",
      "  (layer_norm): LayerNorm((1024,), eps=1e-05, elementwise_affine=True)\n",
      ")\n",
      "model.encoder.embed_tokens M2M100ScaledWordEmbedding(128112, 1024, padding_idx=1)\n",
      "model.encoder.embed_positions M2M100SinusoidalPositionalEmbedding()\n",
      "model.encoder.layers ModuleList(\n",
      "  (0-11): 12 x M2M100EncoderLayer(\n",
      "    (self_attn): M2M100SdpaAttention(\n",
      "      (k_proj): Linear(in_features=1024, out_features=1024, bias=True)\n",
      "      (v_proj): Linear(in_features=1024, out_features=1024, bias=True)\n",
      "      (q_proj): Linear(in_features=1024, out_features=1024, bias=True)\n",
      "      (out_proj): Linear(in_features=1024, out_features=1024, bias=True)\n",
      "    )\n",
      "    (self_attn_layer_norm): LayerNorm((1024,), eps=1e-05, elementwise_affine=True)\n",
      "    (activation_fn): ReLU()\n",
      "    (fc1): Linear(in_features=1024, out_features=4096, bias=True)\n",
      "    (fc2): Linear(in_features=4096, out_features=1024, bias=True)\n",
      "    (final_layer_norm): LayerNorm((1024,), eps=1e-05, elementwise_affine=True)\n",
      "  )\n",
      ")\n",
      "model.encoder.layers.0 M2M100EncoderLayer(\n",
      "  (self_attn): M2M100SdpaAttention(\n",
      "    (k_proj): Linear(in_features=1024, out_features=1024, bias=True)\n",
      "    (v_proj): Linear(in_features=1024, out_features=1024, bias=True)\n",
      "    (q_proj): Linear(in_features=1024, out_features=1024, bias=True)\n",
      "    (out_proj): Linear(in_features=1024, out_features=1024, bias=True)\n",
      "  )\n",
      "  (self_attn_layer_norm): LayerNorm((1024,), eps=1e-05, elementwise_affine=True)\n",
      "  (activation_fn): ReLU()\n",
      "  (fc1): Linear(in_features=1024, out_features=4096, bias=True)\n",
      "  (fc2): Linear(in_features=4096, out_features=1024, bias=True)\n",
      "  (final_layer_norm): LayerNorm((1024,), eps=1e-05, elementwise_affine=True)\n",
      ")\n",
      "model.encoder.layers.0.self_attn M2M100SdpaAttention(\n",
      "  (k_proj): Linear(in_features=1024, out_features=1024, bias=True)\n",
      "  (v_proj): Linear(in_features=1024, out_features=1024, bias=True)\n",
      "  (q_proj): Linear(in_features=1024, out_features=1024, bias=True)\n",
      "  (out_proj): Linear(in_features=1024, out_features=1024, bias=True)\n",
      ")\n",
      "model.encoder.layers.0.self_attn.k_proj Linear(in_features=1024, out_features=1024, bias=True)\n",
      "model.encoder.layers.0.self_attn.v_proj Linear(in_features=1024, out_features=1024, bias=True)\n",
      "model.encoder.layers.0.self_attn.q_proj Linear(in_features=1024, out_features=1024, bias=True)\n",
      "model.encoder.layers.0.self_attn.out_proj Linear(in_features=1024, out_features=1024, bias=True)\n",
      "model.encoder.layers.0.self_attn_layer_norm LayerNorm((1024,), eps=1e-05, elementwise_affine=True)\n",
      "model.encoder.layers.0.activation_fn ReLU()\n",
      "model.encoder.layers.0.fc1 Linear(in_features=1024, out_features=4096, bias=True)\n",
      "model.encoder.layers.0.fc2 Linear(in_features=4096, out_features=1024, bias=True)\n",
      "model.encoder.layers.0.final_layer_norm LayerNorm((1024,), eps=1e-05, elementwise_affine=True)\n",
      "model.encoder.layers.1 M2M100EncoderLayer(\n",
      "  (self_attn): M2M100SdpaAttention(\n",
      "    (k_proj): Linear(in_features=1024, out_features=1024, bias=True)\n",
      "    (v_proj): Linear(in_features=1024, out_features=1024, bias=True)\n",
      "    (q_proj): Linear(in_features=1024, out_features=1024, bias=True)\n",
      "    (out_proj): Linear(in_features=1024, out_features=1024, bias=True)\n",
      "  )\n",
      "  (self_attn_layer_norm): LayerNorm((1024,), eps=1e-05, elementwise_affine=True)\n",
      "  (activation_fn): ReLU()\n",
      "  (fc1): Linear(in_features=1024, out_features=4096, bias=True)\n",
      "  (fc2): Linear(in_features=4096, out_features=1024, bias=True)\n",
      "  (final_layer_norm): LayerNorm((1024,), eps=1e-05, elementwise_affine=True)\n",
      ")\n",
      "model.encoder.layers.1.self_attn M2M100SdpaAttention(\n",
      "  (k_proj): Linear(in_features=1024, out_features=1024, bias=True)\n",
      "  (v_proj): Linear(in_features=1024, out_features=1024, bias=True)\n",
      "  (q_proj): Linear(in_features=1024, out_features=1024, bias=True)\n",
      "  (out_proj): Linear(in_features=1024, out_features=1024, bias=True)\n",
      ")\n",
      "model.encoder.layers.1.self_attn.k_proj Linear(in_features=1024, out_features=1024, bias=True)\n",
      "model.encoder.layers.1.self_attn.v_proj Linear(in_features=1024, out_features=1024, bias=True)\n",
      "model.encoder.layers.1.self_attn.q_proj Linear(in_features=1024, out_features=1024, bias=True)\n",
      "model.encoder.layers.1.self_attn.out_proj Linear(in_features=1024, out_features=1024, bias=True)\n",
      "model.encoder.layers.1.self_attn_layer_norm LayerNorm((1024,), eps=1e-05, elementwise_affine=True)\n",
      "model.encoder.layers.1.activation_fn ReLU()\n",
      "model.encoder.layers.1.fc1 Linear(in_features=1024, out_features=4096, bias=True)\n",
      "model.encoder.layers.1.fc2 Linear(in_features=4096, out_features=1024, bias=True)\n",
      "model.encoder.layers.1.final_layer_norm LayerNorm((1024,), eps=1e-05, elementwise_affine=True)\n",
      "model.encoder.layers.2 M2M100EncoderLayer(\n",
      "  (self_attn): M2M100SdpaAttention(\n",
      "    (k_proj): Linear(in_features=1024, out_features=1024, bias=True)\n",
      "    (v_proj): Linear(in_features=1024, out_features=1024, bias=True)\n",
      "    (q_proj): Linear(in_features=1024, out_features=1024, bias=True)\n",
      "    (out_proj): Linear(in_features=1024, out_features=1024, bias=True)\n",
      "  )\n",
      "  (self_attn_layer_norm): LayerNorm((1024,), eps=1e-05, elementwise_affine=True)\n",
      "  (activation_fn): ReLU()\n",
      "  (fc1): Linear(in_features=1024, out_features=4096, bias=True)\n",
      "  (fc2): Linear(in_features=4096, out_features=1024, bias=True)\n",
      "  (final_layer_norm): LayerNorm((1024,), eps=1e-05, elementwise_affine=True)\n",
      ")\n",
      "model.encoder.layers.2.self_attn M2M100SdpaAttention(\n",
      "  (k_proj): Linear(in_features=1024, out_features=1024, bias=True)\n",
      "  (v_proj): Linear(in_features=1024, out_features=1024, bias=True)\n",
      "  (q_proj): Linear(in_features=1024, out_features=1024, bias=True)\n",
      "  (out_proj): Linear(in_features=1024, out_features=1024, bias=True)\n",
      ")\n",
      "model.encoder.layers.2.self_attn.k_proj Linear(in_features=1024, out_features=1024, bias=True)\n",
      "model.encoder.layers.2.self_attn.v_proj Linear(in_features=1024, out_features=1024, bias=True)\n",
      "model.encoder.layers.2.self_attn.q_proj Linear(in_features=1024, out_features=1024, bias=True)\n",
      "model.encoder.layers.2.self_attn.out_proj Linear(in_features=1024, out_features=1024, bias=True)\n",
      "model.encoder.layers.2.self_attn_layer_norm LayerNorm((1024,), eps=1e-05, elementwise_affine=True)\n",
      "model.encoder.layers.2.activation_fn ReLU()\n",
      "model.encoder.layers.2.fc1 Linear(in_features=1024, out_features=4096, bias=True)\n",
      "model.encoder.layers.2.fc2 Linear(in_features=4096, out_features=1024, bias=True)\n",
      "model.encoder.layers.2.final_layer_norm LayerNorm((1024,), eps=1e-05, elementwise_affine=True)\n",
      "model.encoder.layers.3 M2M100EncoderLayer(\n",
      "  (self_attn): M2M100SdpaAttention(\n",
      "    (k_proj): Linear(in_features=1024, out_features=1024, bias=True)\n",
      "    (v_proj): Linear(in_features=1024, out_features=1024, bias=True)\n",
      "    (q_proj): Linear(in_features=1024, out_features=1024, bias=True)\n",
      "    (out_proj): Linear(in_features=1024, out_features=1024, bias=True)\n",
      "  )\n",
      "  (self_attn_layer_norm): LayerNorm((1024,), eps=1e-05, elementwise_affine=True)\n",
      "  (activation_fn): ReLU()\n",
      "  (fc1): Linear(in_features=1024, out_features=4096, bias=True)\n",
      "  (fc2): Linear(in_features=4096, out_features=1024, bias=True)\n",
      "  (final_layer_norm): LayerNorm((1024,), eps=1e-05, elementwise_affine=True)\n",
      ")\n",
      "model.encoder.layers.3.self_attn M2M100SdpaAttention(\n",
      "  (k_proj): Linear(in_features=1024, out_features=1024, bias=True)\n",
      "  (v_proj): Linear(in_features=1024, out_features=1024, bias=True)\n",
      "  (q_proj): Linear(in_features=1024, out_features=1024, bias=True)\n",
      "  (out_proj): Linear(in_features=1024, out_features=1024, bias=True)\n",
      ")\n",
      "model.encoder.layers.3.self_attn.k_proj Linear(in_features=1024, out_features=1024, bias=True)\n",
      "model.encoder.layers.3.self_attn.v_proj Linear(in_features=1024, out_features=1024, bias=True)\n",
      "model.encoder.layers.3.self_attn.q_proj Linear(in_features=1024, out_features=1024, bias=True)\n",
      "model.encoder.layers.3.self_attn.out_proj Linear(in_features=1024, out_features=1024, bias=True)\n",
      "model.encoder.layers.3.self_attn_layer_norm LayerNorm((1024,), eps=1e-05, elementwise_affine=True)\n",
      "model.encoder.layers.3.activation_fn ReLU()\n",
      "model.encoder.layers.3.fc1 Linear(in_features=1024, out_features=4096, bias=True)\n",
      "model.encoder.layers.3.fc2 Linear(in_features=4096, out_features=1024, bias=True)\n",
      "model.encoder.layers.3.final_layer_norm LayerNorm((1024,), eps=1e-05, elementwise_affine=True)\n",
      "model.encoder.layers.4 M2M100EncoderLayer(\n",
      "  (self_attn): M2M100SdpaAttention(\n",
      "    (k_proj): Linear(in_features=1024, out_features=1024, bias=True)\n",
      "    (v_proj): Linear(in_features=1024, out_features=1024, bias=True)\n",
      "    (q_proj): Linear(in_features=1024, out_features=1024, bias=True)\n",
      "    (out_proj): Linear(in_features=1024, out_features=1024, bias=True)\n",
      "  )\n",
      "  (self_attn_layer_norm): LayerNorm((1024,), eps=1e-05, elementwise_affine=True)\n",
      "  (activation_fn): ReLU()\n",
      "  (fc1): Linear(in_features=1024, out_features=4096, bias=True)\n",
      "  (fc2): Linear(in_features=4096, out_features=1024, bias=True)\n",
      "  (final_layer_norm): LayerNorm((1024,), eps=1e-05, elementwise_affine=True)\n",
      ")\n",
      "model.encoder.layers.4.self_attn M2M100SdpaAttention(\n",
      "  (k_proj): Linear(in_features=1024, out_features=1024, bias=True)\n",
      "  (v_proj): Linear(in_features=1024, out_features=1024, bias=True)\n",
      "  (q_proj): Linear(in_features=1024, out_features=1024, bias=True)\n",
      "  (out_proj): Linear(in_features=1024, out_features=1024, bias=True)\n",
      ")\n",
      "model.encoder.layers.4.self_attn.k_proj Linear(in_features=1024, out_features=1024, bias=True)\n",
      "model.encoder.layers.4.self_attn.v_proj Linear(in_features=1024, out_features=1024, bias=True)\n",
      "model.encoder.layers.4.self_attn.q_proj Linear(in_features=1024, out_features=1024, bias=True)\n",
      "model.encoder.layers.4.self_attn.out_proj Linear(in_features=1024, out_features=1024, bias=True)\n",
      "model.encoder.layers.4.self_attn_layer_norm LayerNorm((1024,), eps=1e-05, elementwise_affine=True)\n",
      "model.encoder.layers.4.activation_fn ReLU()\n",
      "model.encoder.layers.4.fc1 Linear(in_features=1024, out_features=4096, bias=True)\n",
      "model.encoder.layers.4.fc2 Linear(in_features=4096, out_features=1024, bias=True)\n",
      "model.encoder.layers.4.final_layer_norm LayerNorm((1024,), eps=1e-05, elementwise_affine=True)\n",
      "model.encoder.layers.5 M2M100EncoderLayer(\n",
      "  (self_attn): M2M100SdpaAttention(\n",
      "    (k_proj): Linear(in_features=1024, out_features=1024, bias=True)\n",
      "    (v_proj): Linear(in_features=1024, out_features=1024, bias=True)\n",
      "    (q_proj): Linear(in_features=1024, out_features=1024, bias=True)\n",
      "    (out_proj): Linear(in_features=1024, out_features=1024, bias=True)\n",
      "  )\n",
      "  (self_attn_layer_norm): LayerNorm((1024,), eps=1e-05, elementwise_affine=True)\n",
      "  (activation_fn): ReLU()\n",
      "  (fc1): Linear(in_features=1024, out_features=4096, bias=True)\n",
      "  (fc2): Linear(in_features=4096, out_features=1024, bias=True)\n",
      "  (final_layer_norm): LayerNorm((1024,), eps=1e-05, elementwise_affine=True)\n",
      ")\n",
      "model.encoder.layers.5.self_attn M2M100SdpaAttention(\n",
      "  (k_proj): Linear(in_features=1024, out_features=1024, bias=True)\n",
      "  (v_proj): Linear(in_features=1024, out_features=1024, bias=True)\n",
      "  (q_proj): Linear(in_features=1024, out_features=1024, bias=True)\n",
      "  (out_proj): Linear(in_features=1024, out_features=1024, bias=True)\n",
      ")\n",
      "model.encoder.layers.5.self_attn.k_proj Linear(in_features=1024, out_features=1024, bias=True)\n",
      "model.encoder.layers.5.self_attn.v_proj Linear(in_features=1024, out_features=1024, bias=True)\n",
      "model.encoder.layers.5.self_attn.q_proj Linear(in_features=1024, out_features=1024, bias=True)\n",
      "model.encoder.layers.5.self_attn.out_proj Linear(in_features=1024, out_features=1024, bias=True)\n",
      "model.encoder.layers.5.self_attn_layer_norm LayerNorm((1024,), eps=1e-05, elementwise_affine=True)\n",
      "model.encoder.layers.5.activation_fn ReLU()\n",
      "model.encoder.layers.5.fc1 Linear(in_features=1024, out_features=4096, bias=True)\n",
      "model.encoder.layers.5.fc2 Linear(in_features=4096, out_features=1024, bias=True)\n",
      "model.encoder.layers.5.final_layer_norm LayerNorm((1024,), eps=1e-05, elementwise_affine=True)\n",
      "model.encoder.layers.6 M2M100EncoderLayer(\n",
      "  (self_attn): M2M100SdpaAttention(\n",
      "    (k_proj): Linear(in_features=1024, out_features=1024, bias=True)\n",
      "    (v_proj): Linear(in_features=1024, out_features=1024, bias=True)\n",
      "    (q_proj): Linear(in_features=1024, out_features=1024, bias=True)\n",
      "    (out_proj): Linear(in_features=1024, out_features=1024, bias=True)\n",
      "  )\n",
      "  (self_attn_layer_norm): LayerNorm((1024,), eps=1e-05, elementwise_affine=True)\n",
      "  (activation_fn): ReLU()\n",
      "  (fc1): Linear(in_features=1024, out_features=4096, bias=True)\n",
      "  (fc2): Linear(in_features=4096, out_features=1024, bias=True)\n",
      "  (final_layer_norm): LayerNorm((1024,), eps=1e-05, elementwise_affine=True)\n",
      ")\n",
      "model.encoder.layers.6.self_attn M2M100SdpaAttention(\n",
      "  (k_proj): Linear(in_features=1024, out_features=1024, bias=True)\n",
      "  (v_proj): Linear(in_features=1024, out_features=1024, bias=True)\n",
      "  (q_proj): Linear(in_features=1024, out_features=1024, bias=True)\n",
      "  (out_proj): Linear(in_features=1024, out_features=1024, bias=True)\n",
      ")\n",
      "model.encoder.layers.6.self_attn.k_proj Linear(in_features=1024, out_features=1024, bias=True)\n",
      "model.encoder.layers.6.self_attn.v_proj Linear(in_features=1024, out_features=1024, bias=True)\n",
      "model.encoder.layers.6.self_attn.q_proj Linear(in_features=1024, out_features=1024, bias=True)\n",
      "model.encoder.layers.6.self_attn.out_proj Linear(in_features=1024, out_features=1024, bias=True)\n",
      "model.encoder.layers.6.self_attn_layer_norm LayerNorm((1024,), eps=1e-05, elementwise_affine=True)\n",
      "model.encoder.layers.6.activation_fn ReLU()\n",
      "model.encoder.layers.6.fc1 Linear(in_features=1024, out_features=4096, bias=True)\n",
      "model.encoder.layers.6.fc2 Linear(in_features=4096, out_features=1024, bias=True)\n",
      "model.encoder.layers.6.final_layer_norm LayerNorm((1024,), eps=1e-05, elementwise_affine=True)\n",
      "model.encoder.layers.7 M2M100EncoderLayer(\n",
      "  (self_attn): M2M100SdpaAttention(\n",
      "    (k_proj): Linear(in_features=1024, out_features=1024, bias=True)\n",
      "    (v_proj): Linear(in_features=1024, out_features=1024, bias=True)\n",
      "    (q_proj): Linear(in_features=1024, out_features=1024, bias=True)\n",
      "    (out_proj): Linear(in_features=1024, out_features=1024, bias=True)\n",
      "  )\n",
      "  (self_attn_layer_norm): LayerNorm((1024,), eps=1e-05, elementwise_affine=True)\n",
      "  (activation_fn): ReLU()\n",
      "  (fc1): Linear(in_features=1024, out_features=4096, bias=True)\n",
      "  (fc2): Linear(in_features=4096, out_features=1024, bias=True)\n",
      "  (final_layer_norm): LayerNorm((1024,), eps=1e-05, elementwise_affine=True)\n",
      ")\n",
      "model.encoder.layers.7.self_attn M2M100SdpaAttention(\n",
      "  (k_proj): Linear(in_features=1024, out_features=1024, bias=True)\n",
      "  (v_proj): Linear(in_features=1024, out_features=1024, bias=True)\n",
      "  (q_proj): Linear(in_features=1024, out_features=1024, bias=True)\n",
      "  (out_proj): Linear(in_features=1024, out_features=1024, bias=True)\n",
      ")\n",
      "model.encoder.layers.7.self_attn.k_proj Linear(in_features=1024, out_features=1024, bias=True)\n",
      "model.encoder.layers.7.self_attn.v_proj Linear(in_features=1024, out_features=1024, bias=True)\n",
      "model.encoder.layers.7.self_attn.q_proj Linear(in_features=1024, out_features=1024, bias=True)\n",
      "model.encoder.layers.7.self_attn.out_proj Linear(in_features=1024, out_features=1024, bias=True)\n",
      "model.encoder.layers.7.self_attn_layer_norm LayerNorm((1024,), eps=1e-05, elementwise_affine=True)\n",
      "model.encoder.layers.7.activation_fn ReLU()\n",
      "model.encoder.layers.7.fc1 Linear(in_features=1024, out_features=4096, bias=True)\n",
      "model.encoder.layers.7.fc2 Linear(in_features=4096, out_features=1024, bias=True)\n",
      "model.encoder.layers.7.final_layer_norm LayerNorm((1024,), eps=1e-05, elementwise_affine=True)\n",
      "model.encoder.layers.8 M2M100EncoderLayer(\n",
      "  (self_attn): M2M100SdpaAttention(\n",
      "    (k_proj): Linear(in_features=1024, out_features=1024, bias=True)\n",
      "    (v_proj): Linear(in_features=1024, out_features=1024, bias=True)\n",
      "    (q_proj): Linear(in_features=1024, out_features=1024, bias=True)\n",
      "    (out_proj): Linear(in_features=1024, out_features=1024, bias=True)\n",
      "  )\n",
      "  (self_attn_layer_norm): LayerNorm((1024,), eps=1e-05, elementwise_affine=True)\n",
      "  (activation_fn): ReLU()\n",
      "  (fc1): Linear(in_features=1024, out_features=4096, bias=True)\n",
      "  (fc2): Linear(in_features=4096, out_features=1024, bias=True)\n",
      "  (final_layer_norm): LayerNorm((1024,), eps=1e-05, elementwise_affine=True)\n",
      ")\n",
      "model.encoder.layers.8.self_attn M2M100SdpaAttention(\n",
      "  (k_proj): Linear(in_features=1024, out_features=1024, bias=True)\n",
      "  (v_proj): Linear(in_features=1024, out_features=1024, bias=True)\n",
      "  (q_proj): Linear(in_features=1024, out_features=1024, bias=True)\n",
      "  (out_proj): Linear(in_features=1024, out_features=1024, bias=True)\n",
      ")\n",
      "model.encoder.layers.8.self_attn.k_proj Linear(in_features=1024, out_features=1024, bias=True)\n",
      "model.encoder.layers.8.self_attn.v_proj Linear(in_features=1024, out_features=1024, bias=True)\n",
      "model.encoder.layers.8.self_attn.q_proj Linear(in_features=1024, out_features=1024, bias=True)\n",
      "model.encoder.layers.8.self_attn.out_proj Linear(in_features=1024, out_features=1024, bias=True)\n",
      "model.encoder.layers.8.self_attn_layer_norm LayerNorm((1024,), eps=1e-05, elementwise_affine=True)\n",
      "model.encoder.layers.8.activation_fn ReLU()\n",
      "model.encoder.layers.8.fc1 Linear(in_features=1024, out_features=4096, bias=True)\n",
      "model.encoder.layers.8.fc2 Linear(in_features=4096, out_features=1024, bias=True)\n",
      "model.encoder.layers.8.final_layer_norm LayerNorm((1024,), eps=1e-05, elementwise_affine=True)\n",
      "model.encoder.layers.9 M2M100EncoderLayer(\n",
      "  (self_attn): M2M100SdpaAttention(\n",
      "    (k_proj): Linear(in_features=1024, out_features=1024, bias=True)\n",
      "    (v_proj): Linear(in_features=1024, out_features=1024, bias=True)\n",
      "    (q_proj): Linear(in_features=1024, out_features=1024, bias=True)\n",
      "    (out_proj): Linear(in_features=1024, out_features=1024, bias=True)\n",
      "  )\n",
      "  (self_attn_layer_norm): LayerNorm((1024,), eps=1e-05, elementwise_affine=True)\n",
      "  (activation_fn): ReLU()\n",
      "  (fc1): Linear(in_features=1024, out_features=4096, bias=True)\n",
      "  (fc2): Linear(in_features=4096, out_features=1024, bias=True)\n",
      "  (final_layer_norm): LayerNorm((1024,), eps=1e-05, elementwise_affine=True)\n",
      ")\n",
      "model.encoder.layers.9.self_attn M2M100SdpaAttention(\n",
      "  (k_proj): Linear(in_features=1024, out_features=1024, bias=True)\n",
      "  (v_proj): Linear(in_features=1024, out_features=1024, bias=True)\n",
      "  (q_proj): Linear(in_features=1024, out_features=1024, bias=True)\n",
      "  (out_proj): Linear(in_features=1024, out_features=1024, bias=True)\n",
      ")\n",
      "model.encoder.layers.9.self_attn.k_proj Linear(in_features=1024, out_features=1024, bias=True)\n",
      "model.encoder.layers.9.self_attn.v_proj Linear(in_features=1024, out_features=1024, bias=True)\n",
      "model.encoder.layers.9.self_attn.q_proj Linear(in_features=1024, out_features=1024, bias=True)\n",
      "model.encoder.layers.9.self_attn.out_proj Linear(in_features=1024, out_features=1024, bias=True)\n",
      "model.encoder.layers.9.self_attn_layer_norm LayerNorm((1024,), eps=1e-05, elementwise_affine=True)\n",
      "model.encoder.layers.9.activation_fn ReLU()\n",
      "model.encoder.layers.9.fc1 Linear(in_features=1024, out_features=4096, bias=True)\n",
      "model.encoder.layers.9.fc2 Linear(in_features=4096, out_features=1024, bias=True)\n",
      "model.encoder.layers.9.final_layer_norm LayerNorm((1024,), eps=1e-05, elementwise_affine=True)\n",
      "model.encoder.layers.10 M2M100EncoderLayer(\n",
      "  (self_attn): M2M100SdpaAttention(\n",
      "    (k_proj): Linear(in_features=1024, out_features=1024, bias=True)\n",
      "    (v_proj): Linear(in_features=1024, out_features=1024, bias=True)\n",
      "    (q_proj): Linear(in_features=1024, out_features=1024, bias=True)\n",
      "    (out_proj): Linear(in_features=1024, out_features=1024, bias=True)\n",
      "  )\n",
      "  (self_attn_layer_norm): LayerNorm((1024,), eps=1e-05, elementwise_affine=True)\n",
      "  (activation_fn): ReLU()\n",
      "  (fc1): Linear(in_features=1024, out_features=4096, bias=True)\n",
      "  (fc2): Linear(in_features=4096, out_features=1024, bias=True)\n",
      "  (final_layer_norm): LayerNorm((1024,), eps=1e-05, elementwise_affine=True)\n",
      ")\n",
      "model.encoder.layers.10.self_attn M2M100SdpaAttention(\n",
      "  (k_proj): Linear(in_features=1024, out_features=1024, bias=True)\n",
      "  (v_proj): Linear(in_features=1024, out_features=1024, bias=True)\n",
      "  (q_proj): Linear(in_features=1024, out_features=1024, bias=True)\n",
      "  (out_proj): Linear(in_features=1024, out_features=1024, bias=True)\n",
      ")\n",
      "model.encoder.layers.10.self_attn.k_proj Linear(in_features=1024, out_features=1024, bias=True)\n",
      "model.encoder.layers.10.self_attn.v_proj Linear(in_features=1024, out_features=1024, bias=True)\n",
      "model.encoder.layers.10.self_attn.q_proj Linear(in_features=1024, out_features=1024, bias=True)\n",
      "model.encoder.layers.10.self_attn.out_proj Linear(in_features=1024, out_features=1024, bias=True)\n",
      "model.encoder.layers.10.self_attn_layer_norm LayerNorm((1024,), eps=1e-05, elementwise_affine=True)\n",
      "model.encoder.layers.10.activation_fn ReLU()\n",
      "model.encoder.layers.10.fc1 Linear(in_features=1024, out_features=4096, bias=True)\n",
      "model.encoder.layers.10.fc2 Linear(in_features=4096, out_features=1024, bias=True)\n",
      "model.encoder.layers.10.final_layer_norm LayerNorm((1024,), eps=1e-05, elementwise_affine=True)\n",
      "model.encoder.layers.11 M2M100EncoderLayer(\n",
      "  (self_attn): M2M100SdpaAttention(\n",
      "    (k_proj): Linear(in_features=1024, out_features=1024, bias=True)\n",
      "    (v_proj): Linear(in_features=1024, out_features=1024, bias=True)\n",
      "    (q_proj): Linear(in_features=1024, out_features=1024, bias=True)\n",
      "    (out_proj): Linear(in_features=1024, out_features=1024, bias=True)\n",
      "  )\n",
      "  (self_attn_layer_norm): LayerNorm((1024,), eps=1e-05, elementwise_affine=True)\n",
      "  (activation_fn): ReLU()\n",
      "  (fc1): Linear(in_features=1024, out_features=4096, bias=True)\n",
      "  (fc2): Linear(in_features=4096, out_features=1024, bias=True)\n",
      "  (final_layer_norm): LayerNorm((1024,), eps=1e-05, elementwise_affine=True)\n",
      ")\n",
      "model.encoder.layers.11.self_attn M2M100SdpaAttention(\n",
      "  (k_proj): Linear(in_features=1024, out_features=1024, bias=True)\n",
      "  (v_proj): Linear(in_features=1024, out_features=1024, bias=True)\n",
      "  (q_proj): Linear(in_features=1024, out_features=1024, bias=True)\n",
      "  (out_proj): Linear(in_features=1024, out_features=1024, bias=True)\n",
      ")\n",
      "model.encoder.layers.11.self_attn.k_proj Linear(in_features=1024, out_features=1024, bias=True)\n",
      "model.encoder.layers.11.self_attn.v_proj Linear(in_features=1024, out_features=1024, bias=True)\n",
      "model.encoder.layers.11.self_attn.q_proj Linear(in_features=1024, out_features=1024, bias=True)\n",
      "model.encoder.layers.11.self_attn.out_proj Linear(in_features=1024, out_features=1024, bias=True)\n",
      "model.encoder.layers.11.self_attn_layer_norm LayerNorm((1024,), eps=1e-05, elementwise_affine=True)\n",
      "model.encoder.layers.11.activation_fn ReLU()\n",
      "model.encoder.layers.11.fc1 Linear(in_features=1024, out_features=4096, bias=True)\n",
      "model.encoder.layers.11.fc2 Linear(in_features=4096, out_features=1024, bias=True)\n",
      "model.encoder.layers.11.final_layer_norm LayerNorm((1024,), eps=1e-05, elementwise_affine=True)\n",
      "model.encoder.layer_norm LayerNorm((1024,), eps=1e-05, elementwise_affine=True)\n",
      "model.decoder M2M100Decoder(\n",
      "  (embed_tokens): M2M100ScaledWordEmbedding(128112, 1024, padding_idx=1)\n",
      "  (embed_positions): M2M100SinusoidalPositionalEmbedding()\n",
      "  (layers): ModuleList(\n",
      "    (0-11): 12 x M2M100DecoderLayer(\n",
      "      (self_attn): M2M100SdpaAttention(\n",
      "        (k_proj): Linear(in_features=1024, out_features=1024, bias=True)\n",
      "        (v_proj): Linear(in_features=1024, out_features=1024, bias=True)\n",
      "        (q_proj): Linear(in_features=1024, out_features=1024, bias=True)\n",
      "        (out_proj): Linear(in_features=1024, out_features=1024, bias=True)\n",
      "      )\n",
      "      (activation_fn): ReLU()\n",
      "      (self_attn_layer_norm): LayerNorm((1024,), eps=1e-05, elementwise_affine=True)\n",
      "      (encoder_attn): M2M100SdpaAttention(\n",
      "        (k_proj): Linear(in_features=1024, out_features=1024, bias=True)\n",
      "        (v_proj): Linear(in_features=1024, out_features=1024, bias=True)\n",
      "        (q_proj): Linear(in_features=1024, out_features=1024, bias=True)\n",
      "        (out_proj): Linear(in_features=1024, out_features=1024, bias=True)\n",
      "      )\n",
      "      (encoder_attn_layer_norm): LayerNorm((1024,), eps=1e-05, elementwise_affine=True)\n",
      "      (fc1): Linear(in_features=1024, out_features=4096, bias=True)\n",
      "      (fc2): Linear(in_features=4096, out_features=1024, bias=True)\n",
      "      (final_layer_norm): LayerNorm((1024,), eps=1e-05, elementwise_affine=True)\n",
      "    )\n",
      "  )\n",
      "  (layer_norm): LayerNorm((1024,), eps=1e-05, elementwise_affine=True)\n",
      ")\n",
      "model.decoder.embed_tokens M2M100ScaledWordEmbedding(128112, 1024, padding_idx=1)\n",
      "model.decoder.embed_positions M2M100SinusoidalPositionalEmbedding()\n",
      "model.decoder.layers ModuleList(\n",
      "  (0-11): 12 x M2M100DecoderLayer(\n",
      "    (self_attn): M2M100SdpaAttention(\n",
      "      (k_proj): Linear(in_features=1024, out_features=1024, bias=True)\n",
      "      (v_proj): Linear(in_features=1024, out_features=1024, bias=True)\n",
      "      (q_proj): Linear(in_features=1024, out_features=1024, bias=True)\n",
      "      (out_proj): Linear(in_features=1024, out_features=1024, bias=True)\n",
      "    )\n",
      "    (activation_fn): ReLU()\n",
      "    (self_attn_layer_norm): LayerNorm((1024,), eps=1e-05, elementwise_affine=True)\n",
      "    (encoder_attn): M2M100SdpaAttention(\n",
      "      (k_proj): Linear(in_features=1024, out_features=1024, bias=True)\n",
      "      (v_proj): Linear(in_features=1024, out_features=1024, bias=True)\n",
      "      (q_proj): Linear(in_features=1024, out_features=1024, bias=True)\n",
      "      (out_proj): Linear(in_features=1024, out_features=1024, bias=True)\n",
      "    )\n",
      "    (encoder_attn_layer_norm): LayerNorm((1024,), eps=1e-05, elementwise_affine=True)\n",
      "    (fc1): Linear(in_features=1024, out_features=4096, bias=True)\n",
      "    (fc2): Linear(in_features=4096, out_features=1024, bias=True)\n",
      "    (final_layer_norm): LayerNorm((1024,), eps=1e-05, elementwise_affine=True)\n",
      "  )\n",
      ")\n",
      "model.decoder.layers.0 M2M100DecoderLayer(\n",
      "  (self_attn): M2M100SdpaAttention(\n",
      "    (k_proj): Linear(in_features=1024, out_features=1024, bias=True)\n",
      "    (v_proj): Linear(in_features=1024, out_features=1024, bias=True)\n",
      "    (q_proj): Linear(in_features=1024, out_features=1024, bias=True)\n",
      "    (out_proj): Linear(in_features=1024, out_features=1024, bias=True)\n",
      "  )\n",
      "  (activation_fn): ReLU()\n",
      "  (self_attn_layer_norm): LayerNorm((1024,), eps=1e-05, elementwise_affine=True)\n",
      "  (encoder_attn): M2M100SdpaAttention(\n",
      "    (k_proj): Linear(in_features=1024, out_features=1024, bias=True)\n",
      "    (v_proj): Linear(in_features=1024, out_features=1024, bias=True)\n",
      "    (q_proj): Linear(in_features=1024, out_features=1024, bias=True)\n",
      "    (out_proj): Linear(in_features=1024, out_features=1024, bias=True)\n",
      "  )\n",
      "  (encoder_attn_layer_norm): LayerNorm((1024,), eps=1e-05, elementwise_affine=True)\n",
      "  (fc1): Linear(in_features=1024, out_features=4096, bias=True)\n",
      "  (fc2): Linear(in_features=4096, out_features=1024, bias=True)\n",
      "  (final_layer_norm): LayerNorm((1024,), eps=1e-05, elementwise_affine=True)\n",
      ")\n",
      "model.decoder.layers.0.self_attn M2M100SdpaAttention(\n",
      "  (k_proj): Linear(in_features=1024, out_features=1024, bias=True)\n",
      "  (v_proj): Linear(in_features=1024, out_features=1024, bias=True)\n",
      "  (q_proj): Linear(in_features=1024, out_features=1024, bias=True)\n",
      "  (out_proj): Linear(in_features=1024, out_features=1024, bias=True)\n",
      ")\n",
      "model.decoder.layers.0.self_attn.k_proj Linear(in_features=1024, out_features=1024, bias=True)\n",
      "model.decoder.layers.0.self_attn.v_proj Linear(in_features=1024, out_features=1024, bias=True)\n",
      "model.decoder.layers.0.self_attn.q_proj Linear(in_features=1024, out_features=1024, bias=True)\n",
      "model.decoder.layers.0.self_attn.out_proj Linear(in_features=1024, out_features=1024, bias=True)\n",
      "model.decoder.layers.0.activation_fn ReLU()\n",
      "model.decoder.layers.0.self_attn_layer_norm LayerNorm((1024,), eps=1e-05, elementwise_affine=True)\n",
      "model.decoder.layers.0.encoder_attn M2M100SdpaAttention(\n",
      "  (k_proj): Linear(in_features=1024, out_features=1024, bias=True)\n",
      "  (v_proj): Linear(in_features=1024, out_features=1024, bias=True)\n",
      "  (q_proj): Linear(in_features=1024, out_features=1024, bias=True)\n",
      "  (out_proj): Linear(in_features=1024, out_features=1024, bias=True)\n",
      ")\n",
      "model.decoder.layers.0.encoder_attn.k_proj Linear(in_features=1024, out_features=1024, bias=True)\n",
      "model.decoder.layers.0.encoder_attn.v_proj Linear(in_features=1024, out_features=1024, bias=True)\n",
      "model.decoder.layers.0.encoder_attn.q_proj Linear(in_features=1024, out_features=1024, bias=True)\n",
      "model.decoder.layers.0.encoder_attn.out_proj Linear(in_features=1024, out_features=1024, bias=True)\n",
      "model.decoder.layers.0.encoder_attn_layer_norm LayerNorm((1024,), eps=1e-05, elementwise_affine=True)\n",
      "model.decoder.layers.0.fc1 Linear(in_features=1024, out_features=4096, bias=True)\n",
      "model.decoder.layers.0.fc2 Linear(in_features=4096, out_features=1024, bias=True)\n",
      "model.decoder.layers.0.final_layer_norm LayerNorm((1024,), eps=1e-05, elementwise_affine=True)\n",
      "model.decoder.layers.1 M2M100DecoderLayer(\n",
      "  (self_attn): M2M100SdpaAttention(\n",
      "    (k_proj): Linear(in_features=1024, out_features=1024, bias=True)\n",
      "    (v_proj): Linear(in_features=1024, out_features=1024, bias=True)\n",
      "    (q_proj): Linear(in_features=1024, out_features=1024, bias=True)\n",
      "    (out_proj): Linear(in_features=1024, out_features=1024, bias=True)\n",
      "  )\n",
      "  (activation_fn): ReLU()\n",
      "  (self_attn_layer_norm): LayerNorm((1024,), eps=1e-05, elementwise_affine=True)\n",
      "  (encoder_attn): M2M100SdpaAttention(\n",
      "    (k_proj): Linear(in_features=1024, out_features=1024, bias=True)\n",
      "    (v_proj): Linear(in_features=1024, out_features=1024, bias=True)\n",
      "    (q_proj): Linear(in_features=1024, out_features=1024, bias=True)\n",
      "    (out_proj): Linear(in_features=1024, out_features=1024, bias=True)\n",
      "  )\n",
      "  (encoder_attn_layer_norm): LayerNorm((1024,), eps=1e-05, elementwise_affine=True)\n",
      "  (fc1): Linear(in_features=1024, out_features=4096, bias=True)\n",
      "  (fc2): Linear(in_features=4096, out_features=1024, bias=True)\n",
      "  (final_layer_norm): LayerNorm((1024,), eps=1e-05, elementwise_affine=True)\n",
      ")\n",
      "model.decoder.layers.1.self_attn M2M100SdpaAttention(\n",
      "  (k_proj): Linear(in_features=1024, out_features=1024, bias=True)\n",
      "  (v_proj): Linear(in_features=1024, out_features=1024, bias=True)\n",
      "  (q_proj): Linear(in_features=1024, out_features=1024, bias=True)\n",
      "  (out_proj): Linear(in_features=1024, out_features=1024, bias=True)\n",
      ")\n",
      "model.decoder.layers.1.self_attn.k_proj Linear(in_features=1024, out_features=1024, bias=True)\n",
      "model.decoder.layers.1.self_attn.v_proj Linear(in_features=1024, out_features=1024, bias=True)\n",
      "model.decoder.layers.1.self_attn.q_proj Linear(in_features=1024, out_features=1024, bias=True)\n",
      "model.decoder.layers.1.self_attn.out_proj Linear(in_features=1024, out_features=1024, bias=True)\n",
      "model.decoder.layers.1.activation_fn ReLU()\n",
      "model.decoder.layers.1.self_attn_layer_norm LayerNorm((1024,), eps=1e-05, elementwise_affine=True)\n",
      "model.decoder.layers.1.encoder_attn M2M100SdpaAttention(\n",
      "  (k_proj): Linear(in_features=1024, out_features=1024, bias=True)\n",
      "  (v_proj): Linear(in_features=1024, out_features=1024, bias=True)\n",
      "  (q_proj): Linear(in_features=1024, out_features=1024, bias=True)\n",
      "  (out_proj): Linear(in_features=1024, out_features=1024, bias=True)\n",
      ")\n",
      "model.decoder.layers.1.encoder_attn.k_proj Linear(in_features=1024, out_features=1024, bias=True)\n",
      "model.decoder.layers.1.encoder_attn.v_proj Linear(in_features=1024, out_features=1024, bias=True)\n",
      "model.decoder.layers.1.encoder_attn.q_proj Linear(in_features=1024, out_features=1024, bias=True)\n",
      "model.decoder.layers.1.encoder_attn.out_proj Linear(in_features=1024, out_features=1024, bias=True)\n",
      "model.decoder.layers.1.encoder_attn_layer_norm LayerNorm((1024,), eps=1e-05, elementwise_affine=True)\n",
      "model.decoder.layers.1.fc1 Linear(in_features=1024, out_features=4096, bias=True)\n",
      "model.decoder.layers.1.fc2 Linear(in_features=4096, out_features=1024, bias=True)\n",
      "model.decoder.layers.1.final_layer_norm LayerNorm((1024,), eps=1e-05, elementwise_affine=True)\n",
      "model.decoder.layers.2 M2M100DecoderLayer(\n",
      "  (self_attn): M2M100SdpaAttention(\n",
      "    (k_proj): Linear(in_features=1024, out_features=1024, bias=True)\n",
      "    (v_proj): Linear(in_features=1024, out_features=1024, bias=True)\n",
      "    (q_proj): Linear(in_features=1024, out_features=1024, bias=True)\n",
      "    (out_proj): Linear(in_features=1024, out_features=1024, bias=True)\n",
      "  )\n",
      "  (activation_fn): ReLU()\n",
      "  (self_attn_layer_norm): LayerNorm((1024,), eps=1e-05, elementwise_affine=True)\n",
      "  (encoder_attn): M2M100SdpaAttention(\n",
      "    (k_proj): Linear(in_features=1024, out_features=1024, bias=True)\n",
      "    (v_proj): Linear(in_features=1024, out_features=1024, bias=True)\n",
      "    (q_proj): Linear(in_features=1024, out_features=1024, bias=True)\n",
      "    (out_proj): Linear(in_features=1024, out_features=1024, bias=True)\n",
      "  )\n",
      "  (encoder_attn_layer_norm): LayerNorm((1024,), eps=1e-05, elementwise_affine=True)\n",
      "  (fc1): Linear(in_features=1024, out_features=4096, bias=True)\n",
      "  (fc2): Linear(in_features=4096, out_features=1024, bias=True)\n",
      "  (final_layer_norm): LayerNorm((1024,), eps=1e-05, elementwise_affine=True)\n",
      ")\n",
      "model.decoder.layers.2.self_attn M2M100SdpaAttention(\n",
      "  (k_proj): Linear(in_features=1024, out_features=1024, bias=True)\n",
      "  (v_proj): Linear(in_features=1024, out_features=1024, bias=True)\n",
      "  (q_proj): Linear(in_features=1024, out_features=1024, bias=True)\n",
      "  (out_proj): Linear(in_features=1024, out_features=1024, bias=True)\n",
      ")\n",
      "model.decoder.layers.2.self_attn.k_proj Linear(in_features=1024, out_features=1024, bias=True)\n",
      "model.decoder.layers.2.self_attn.v_proj Linear(in_features=1024, out_features=1024, bias=True)\n",
      "model.decoder.layers.2.self_attn.q_proj Linear(in_features=1024, out_features=1024, bias=True)\n",
      "model.decoder.layers.2.self_attn.out_proj Linear(in_features=1024, out_features=1024, bias=True)\n",
      "model.decoder.layers.2.activation_fn ReLU()\n",
      "model.decoder.layers.2.self_attn_layer_norm LayerNorm((1024,), eps=1e-05, elementwise_affine=True)\n",
      "model.decoder.layers.2.encoder_attn M2M100SdpaAttention(\n",
      "  (k_proj): Linear(in_features=1024, out_features=1024, bias=True)\n",
      "  (v_proj): Linear(in_features=1024, out_features=1024, bias=True)\n",
      "  (q_proj): Linear(in_features=1024, out_features=1024, bias=True)\n",
      "  (out_proj): Linear(in_features=1024, out_features=1024, bias=True)\n",
      ")\n",
      "model.decoder.layers.2.encoder_attn.k_proj Linear(in_features=1024, out_features=1024, bias=True)\n",
      "model.decoder.layers.2.encoder_attn.v_proj Linear(in_features=1024, out_features=1024, bias=True)\n",
      "model.decoder.layers.2.encoder_attn.q_proj Linear(in_features=1024, out_features=1024, bias=True)\n",
      "model.decoder.layers.2.encoder_attn.out_proj Linear(in_features=1024, out_features=1024, bias=True)\n",
      "model.decoder.layers.2.encoder_attn_layer_norm LayerNorm((1024,), eps=1e-05, elementwise_affine=True)\n",
      "model.decoder.layers.2.fc1 Linear(in_features=1024, out_features=4096, bias=True)\n",
      "model.decoder.layers.2.fc2 Linear(in_features=4096, out_features=1024, bias=True)\n",
      "model.decoder.layers.2.final_layer_norm LayerNorm((1024,), eps=1e-05, elementwise_affine=True)\n",
      "model.decoder.layers.3 M2M100DecoderLayer(\n",
      "  (self_attn): M2M100SdpaAttention(\n",
      "    (k_proj): Linear(in_features=1024, out_features=1024, bias=True)\n",
      "    (v_proj): Linear(in_features=1024, out_features=1024, bias=True)\n",
      "    (q_proj): Linear(in_features=1024, out_features=1024, bias=True)\n",
      "    (out_proj): Linear(in_features=1024, out_features=1024, bias=True)\n",
      "  )\n",
      "  (activation_fn): ReLU()\n",
      "  (self_attn_layer_norm): LayerNorm((1024,), eps=1e-05, elementwise_affine=True)\n",
      "  (encoder_attn): M2M100SdpaAttention(\n",
      "    (k_proj): Linear(in_features=1024, out_features=1024, bias=True)\n",
      "    (v_proj): Linear(in_features=1024, out_features=1024, bias=True)\n",
      "    (q_proj): Linear(in_features=1024, out_features=1024, bias=True)\n",
      "    (out_proj): Linear(in_features=1024, out_features=1024, bias=True)\n",
      "  )\n",
      "  (encoder_attn_layer_norm): LayerNorm((1024,), eps=1e-05, elementwise_affine=True)\n",
      "  (fc1): Linear(in_features=1024, out_features=4096, bias=True)\n",
      "  (fc2): Linear(in_features=4096, out_features=1024, bias=True)\n",
      "  (final_layer_norm): LayerNorm((1024,), eps=1e-05, elementwise_affine=True)\n",
      ")\n",
      "model.decoder.layers.3.self_attn M2M100SdpaAttention(\n",
      "  (k_proj): Linear(in_features=1024, out_features=1024, bias=True)\n",
      "  (v_proj): Linear(in_features=1024, out_features=1024, bias=True)\n",
      "  (q_proj): Linear(in_features=1024, out_features=1024, bias=True)\n",
      "  (out_proj): Linear(in_features=1024, out_features=1024, bias=True)\n",
      ")\n",
      "model.decoder.layers.3.self_attn.k_proj Linear(in_features=1024, out_features=1024, bias=True)\n",
      "model.decoder.layers.3.self_attn.v_proj Linear(in_features=1024, out_features=1024, bias=True)\n",
      "model.decoder.layers.3.self_attn.q_proj Linear(in_features=1024, out_features=1024, bias=True)\n",
      "model.decoder.layers.3.self_attn.out_proj Linear(in_features=1024, out_features=1024, bias=True)\n",
      "model.decoder.layers.3.activation_fn ReLU()\n",
      "model.decoder.layers.3.self_attn_layer_norm LayerNorm((1024,), eps=1e-05, elementwise_affine=True)\n",
      "model.decoder.layers.3.encoder_attn M2M100SdpaAttention(\n",
      "  (k_proj): Linear(in_features=1024, out_features=1024, bias=True)\n",
      "  (v_proj): Linear(in_features=1024, out_features=1024, bias=True)\n",
      "  (q_proj): Linear(in_features=1024, out_features=1024, bias=True)\n",
      "  (out_proj): Linear(in_features=1024, out_features=1024, bias=True)\n",
      ")\n",
      "model.decoder.layers.3.encoder_attn.k_proj Linear(in_features=1024, out_features=1024, bias=True)\n",
      "model.decoder.layers.3.encoder_attn.v_proj Linear(in_features=1024, out_features=1024, bias=True)\n",
      "model.decoder.layers.3.encoder_attn.q_proj Linear(in_features=1024, out_features=1024, bias=True)\n",
      "model.decoder.layers.3.encoder_attn.out_proj Linear(in_features=1024, out_features=1024, bias=True)\n",
      "model.decoder.layers.3.encoder_attn_layer_norm LayerNorm((1024,), eps=1e-05, elementwise_affine=True)\n",
      "model.decoder.layers.3.fc1 Linear(in_features=1024, out_features=4096, bias=True)\n",
      "model.decoder.layers.3.fc2 Linear(in_features=4096, out_features=1024, bias=True)\n",
      "model.decoder.layers.3.final_layer_norm LayerNorm((1024,), eps=1e-05, elementwise_affine=True)\n",
      "model.decoder.layers.4 M2M100DecoderLayer(\n",
      "  (self_attn): M2M100SdpaAttention(\n",
      "    (k_proj): Linear(in_features=1024, out_features=1024, bias=True)\n",
      "    (v_proj): Linear(in_features=1024, out_features=1024, bias=True)\n",
      "    (q_proj): Linear(in_features=1024, out_features=1024, bias=True)\n",
      "    (out_proj): Linear(in_features=1024, out_features=1024, bias=True)\n",
      "  )\n",
      "  (activation_fn): ReLU()\n",
      "  (self_attn_layer_norm): LayerNorm((1024,), eps=1e-05, elementwise_affine=True)\n",
      "  (encoder_attn): M2M100SdpaAttention(\n",
      "    (k_proj): Linear(in_features=1024, out_features=1024, bias=True)\n",
      "    (v_proj): Linear(in_features=1024, out_features=1024, bias=True)\n",
      "    (q_proj): Linear(in_features=1024, out_features=1024, bias=True)\n",
      "    (out_proj): Linear(in_features=1024, out_features=1024, bias=True)\n",
      "  )\n",
      "  (encoder_attn_layer_norm): LayerNorm((1024,), eps=1e-05, elementwise_affine=True)\n",
      "  (fc1): Linear(in_features=1024, out_features=4096, bias=True)\n",
      "  (fc2): Linear(in_features=4096, out_features=1024, bias=True)\n",
      "  (final_layer_norm): LayerNorm((1024,), eps=1e-05, elementwise_affine=True)\n",
      ")\n",
      "model.decoder.layers.4.self_attn M2M100SdpaAttention(\n",
      "  (k_proj): Linear(in_features=1024, out_features=1024, bias=True)\n",
      "  (v_proj): Linear(in_features=1024, out_features=1024, bias=True)\n",
      "  (q_proj): Linear(in_features=1024, out_features=1024, bias=True)\n",
      "  (out_proj): Linear(in_features=1024, out_features=1024, bias=True)\n",
      ")\n",
      "model.decoder.layers.4.self_attn.k_proj Linear(in_features=1024, out_features=1024, bias=True)\n",
      "model.decoder.layers.4.self_attn.v_proj Linear(in_features=1024, out_features=1024, bias=True)\n",
      "model.decoder.layers.4.self_attn.q_proj Linear(in_features=1024, out_features=1024, bias=True)\n",
      "model.decoder.layers.4.self_attn.out_proj Linear(in_features=1024, out_features=1024, bias=True)\n",
      "model.decoder.layers.4.activation_fn ReLU()\n",
      "model.decoder.layers.4.self_attn_layer_norm LayerNorm((1024,), eps=1e-05, elementwise_affine=True)\n",
      "model.decoder.layers.4.encoder_attn M2M100SdpaAttention(\n",
      "  (k_proj): Linear(in_features=1024, out_features=1024, bias=True)\n",
      "  (v_proj): Linear(in_features=1024, out_features=1024, bias=True)\n",
      "  (q_proj): Linear(in_features=1024, out_features=1024, bias=True)\n",
      "  (out_proj): Linear(in_features=1024, out_features=1024, bias=True)\n",
      ")\n",
      "model.decoder.layers.4.encoder_attn.k_proj Linear(in_features=1024, out_features=1024, bias=True)\n",
      "model.decoder.layers.4.encoder_attn.v_proj Linear(in_features=1024, out_features=1024, bias=True)\n",
      "model.decoder.layers.4.encoder_attn.q_proj Linear(in_features=1024, out_features=1024, bias=True)\n",
      "model.decoder.layers.4.encoder_attn.out_proj Linear(in_features=1024, out_features=1024, bias=True)\n",
      "model.decoder.layers.4.encoder_attn_layer_norm LayerNorm((1024,), eps=1e-05, elementwise_affine=True)\n",
      "model.decoder.layers.4.fc1 Linear(in_features=1024, out_features=4096, bias=True)\n",
      "model.decoder.layers.4.fc2 Linear(in_features=4096, out_features=1024, bias=True)\n",
      "model.decoder.layers.4.final_layer_norm LayerNorm((1024,), eps=1e-05, elementwise_affine=True)\n",
      "model.decoder.layers.5 M2M100DecoderLayer(\n",
      "  (self_attn): M2M100SdpaAttention(\n",
      "    (k_proj): Linear(in_features=1024, out_features=1024, bias=True)\n",
      "    (v_proj): Linear(in_features=1024, out_features=1024, bias=True)\n",
      "    (q_proj): Linear(in_features=1024, out_features=1024, bias=True)\n",
      "    (out_proj): Linear(in_features=1024, out_features=1024, bias=True)\n",
      "  )\n",
      "  (activation_fn): ReLU()\n",
      "  (self_attn_layer_norm): LayerNorm((1024,), eps=1e-05, elementwise_affine=True)\n",
      "  (encoder_attn): M2M100SdpaAttention(\n",
      "    (k_proj): Linear(in_features=1024, out_features=1024, bias=True)\n",
      "    (v_proj): Linear(in_features=1024, out_features=1024, bias=True)\n",
      "    (q_proj): Linear(in_features=1024, out_features=1024, bias=True)\n",
      "    (out_proj): Linear(in_features=1024, out_features=1024, bias=True)\n",
      "  )\n",
      "  (encoder_attn_layer_norm): LayerNorm((1024,), eps=1e-05, elementwise_affine=True)\n",
      "  (fc1): Linear(in_features=1024, out_features=4096, bias=True)\n",
      "  (fc2): Linear(in_features=4096, out_features=1024, bias=True)\n",
      "  (final_layer_norm): LayerNorm((1024,), eps=1e-05, elementwise_affine=True)\n",
      ")\n",
      "model.decoder.layers.5.self_attn M2M100SdpaAttention(\n",
      "  (k_proj): Linear(in_features=1024, out_features=1024, bias=True)\n",
      "  (v_proj): Linear(in_features=1024, out_features=1024, bias=True)\n",
      "  (q_proj): Linear(in_features=1024, out_features=1024, bias=True)\n",
      "  (out_proj): Linear(in_features=1024, out_features=1024, bias=True)\n",
      ")\n",
      "model.decoder.layers.5.self_attn.k_proj Linear(in_features=1024, out_features=1024, bias=True)\n",
      "model.decoder.layers.5.self_attn.v_proj Linear(in_features=1024, out_features=1024, bias=True)\n",
      "model.decoder.layers.5.self_attn.q_proj Linear(in_features=1024, out_features=1024, bias=True)\n",
      "model.decoder.layers.5.self_attn.out_proj Linear(in_features=1024, out_features=1024, bias=True)\n",
      "model.decoder.layers.5.activation_fn ReLU()\n",
      "model.decoder.layers.5.self_attn_layer_norm LayerNorm((1024,), eps=1e-05, elementwise_affine=True)\n",
      "model.decoder.layers.5.encoder_attn M2M100SdpaAttention(\n",
      "  (k_proj): Linear(in_features=1024, out_features=1024, bias=True)\n",
      "  (v_proj): Linear(in_features=1024, out_features=1024, bias=True)\n",
      "  (q_proj): Linear(in_features=1024, out_features=1024, bias=True)\n",
      "  (out_proj): Linear(in_features=1024, out_features=1024, bias=True)\n",
      ")\n",
      "model.decoder.layers.5.encoder_attn.k_proj Linear(in_features=1024, out_features=1024, bias=True)\n",
      "model.decoder.layers.5.encoder_attn.v_proj Linear(in_features=1024, out_features=1024, bias=True)\n",
      "model.decoder.layers.5.encoder_attn.q_proj Linear(in_features=1024, out_features=1024, bias=True)\n",
      "model.decoder.layers.5.encoder_attn.out_proj Linear(in_features=1024, out_features=1024, bias=True)\n",
      "model.decoder.layers.5.encoder_attn_layer_norm LayerNorm((1024,), eps=1e-05, elementwise_affine=True)\n",
      "model.decoder.layers.5.fc1 Linear(in_features=1024, out_features=4096, bias=True)\n",
      "model.decoder.layers.5.fc2 Linear(in_features=4096, out_features=1024, bias=True)\n",
      "model.decoder.layers.5.final_layer_norm LayerNorm((1024,), eps=1e-05, elementwise_affine=True)\n",
      "model.decoder.layers.6 M2M100DecoderLayer(\n",
      "  (self_attn): M2M100SdpaAttention(\n",
      "    (k_proj): Linear(in_features=1024, out_features=1024, bias=True)\n",
      "    (v_proj): Linear(in_features=1024, out_features=1024, bias=True)\n",
      "    (q_proj): Linear(in_features=1024, out_features=1024, bias=True)\n",
      "    (out_proj): Linear(in_features=1024, out_features=1024, bias=True)\n",
      "  )\n",
      "  (activation_fn): ReLU()\n",
      "  (self_attn_layer_norm): LayerNorm((1024,), eps=1e-05, elementwise_affine=True)\n",
      "  (encoder_attn): M2M100SdpaAttention(\n",
      "    (k_proj): Linear(in_features=1024, out_features=1024, bias=True)\n",
      "    (v_proj): Linear(in_features=1024, out_features=1024, bias=True)\n",
      "    (q_proj): Linear(in_features=1024, out_features=1024, bias=True)\n",
      "    (out_proj): Linear(in_features=1024, out_features=1024, bias=True)\n",
      "  )\n",
      "  (encoder_attn_layer_norm): LayerNorm((1024,), eps=1e-05, elementwise_affine=True)\n",
      "  (fc1): Linear(in_features=1024, out_features=4096, bias=True)\n",
      "  (fc2): Linear(in_features=4096, out_features=1024, bias=True)\n",
      "  (final_layer_norm): LayerNorm((1024,), eps=1e-05, elementwise_affine=True)\n",
      ")\n",
      "model.decoder.layers.6.self_attn M2M100SdpaAttention(\n",
      "  (k_proj): Linear(in_features=1024, out_features=1024, bias=True)\n",
      "  (v_proj): Linear(in_features=1024, out_features=1024, bias=True)\n",
      "  (q_proj): Linear(in_features=1024, out_features=1024, bias=True)\n",
      "  (out_proj): Linear(in_features=1024, out_features=1024, bias=True)\n",
      ")\n",
      "model.decoder.layers.6.self_attn.k_proj Linear(in_features=1024, out_features=1024, bias=True)\n",
      "model.decoder.layers.6.self_attn.v_proj Linear(in_features=1024, out_features=1024, bias=True)\n",
      "model.decoder.layers.6.self_attn.q_proj Linear(in_features=1024, out_features=1024, bias=True)\n",
      "model.decoder.layers.6.self_attn.out_proj Linear(in_features=1024, out_features=1024, bias=True)\n",
      "model.decoder.layers.6.activation_fn ReLU()\n",
      "model.decoder.layers.6.self_attn_layer_norm LayerNorm((1024,), eps=1e-05, elementwise_affine=True)\n",
      "model.decoder.layers.6.encoder_attn M2M100SdpaAttention(\n",
      "  (k_proj): Linear(in_features=1024, out_features=1024, bias=True)\n",
      "  (v_proj): Linear(in_features=1024, out_features=1024, bias=True)\n",
      "  (q_proj): Linear(in_features=1024, out_features=1024, bias=True)\n",
      "  (out_proj): Linear(in_features=1024, out_features=1024, bias=True)\n",
      ")\n",
      "model.decoder.layers.6.encoder_attn.k_proj Linear(in_features=1024, out_features=1024, bias=True)\n",
      "model.decoder.layers.6.encoder_attn.v_proj Linear(in_features=1024, out_features=1024, bias=True)\n",
      "model.decoder.layers.6.encoder_attn.q_proj Linear(in_features=1024, out_features=1024, bias=True)\n",
      "model.decoder.layers.6.encoder_attn.out_proj Linear(in_features=1024, out_features=1024, bias=True)\n",
      "model.decoder.layers.6.encoder_attn_layer_norm LayerNorm((1024,), eps=1e-05, elementwise_affine=True)\n",
      "model.decoder.layers.6.fc1 Linear(in_features=1024, out_features=4096, bias=True)\n",
      "model.decoder.layers.6.fc2 Linear(in_features=4096, out_features=1024, bias=True)\n",
      "model.decoder.layers.6.final_layer_norm LayerNorm((1024,), eps=1e-05, elementwise_affine=True)\n",
      "model.decoder.layers.7 M2M100DecoderLayer(\n",
      "  (self_attn): M2M100SdpaAttention(\n",
      "    (k_proj): Linear(in_features=1024, out_features=1024, bias=True)\n",
      "    (v_proj): Linear(in_features=1024, out_features=1024, bias=True)\n",
      "    (q_proj): Linear(in_features=1024, out_features=1024, bias=True)\n",
      "    (out_proj): Linear(in_features=1024, out_features=1024, bias=True)\n",
      "  )\n",
      "  (activation_fn): ReLU()\n",
      "  (self_attn_layer_norm): LayerNorm((1024,), eps=1e-05, elementwise_affine=True)\n",
      "  (encoder_attn): M2M100SdpaAttention(\n",
      "    (k_proj): Linear(in_features=1024, out_features=1024, bias=True)\n",
      "    (v_proj): Linear(in_features=1024, out_features=1024, bias=True)\n",
      "    (q_proj): Linear(in_features=1024, out_features=1024, bias=True)\n",
      "    (out_proj): Linear(in_features=1024, out_features=1024, bias=True)\n",
      "  )\n",
      "  (encoder_attn_layer_norm): LayerNorm((1024,), eps=1e-05, elementwise_affine=True)\n",
      "  (fc1): Linear(in_features=1024, out_features=4096, bias=True)\n",
      "  (fc2): Linear(in_features=4096, out_features=1024, bias=True)\n",
      "  (final_layer_norm): LayerNorm((1024,), eps=1e-05, elementwise_affine=True)\n",
      ")\n",
      "model.decoder.layers.7.self_attn M2M100SdpaAttention(\n",
      "  (k_proj): Linear(in_features=1024, out_features=1024, bias=True)\n",
      "  (v_proj): Linear(in_features=1024, out_features=1024, bias=True)\n",
      "  (q_proj): Linear(in_features=1024, out_features=1024, bias=True)\n",
      "  (out_proj): Linear(in_features=1024, out_features=1024, bias=True)\n",
      ")\n",
      "model.decoder.layers.7.self_attn.k_proj Linear(in_features=1024, out_features=1024, bias=True)\n",
      "model.decoder.layers.7.self_attn.v_proj Linear(in_features=1024, out_features=1024, bias=True)\n",
      "model.decoder.layers.7.self_attn.q_proj Linear(in_features=1024, out_features=1024, bias=True)\n",
      "model.decoder.layers.7.self_attn.out_proj Linear(in_features=1024, out_features=1024, bias=True)\n",
      "model.decoder.layers.7.activation_fn ReLU()\n",
      "model.decoder.layers.7.self_attn_layer_norm LayerNorm((1024,), eps=1e-05, elementwise_affine=True)\n",
      "model.decoder.layers.7.encoder_attn M2M100SdpaAttention(\n",
      "  (k_proj): Linear(in_features=1024, out_features=1024, bias=True)\n",
      "  (v_proj): Linear(in_features=1024, out_features=1024, bias=True)\n",
      "  (q_proj): Linear(in_features=1024, out_features=1024, bias=True)\n",
      "  (out_proj): Linear(in_features=1024, out_features=1024, bias=True)\n",
      ")\n",
      "model.decoder.layers.7.encoder_attn.k_proj Linear(in_features=1024, out_features=1024, bias=True)\n",
      "model.decoder.layers.7.encoder_attn.v_proj Linear(in_features=1024, out_features=1024, bias=True)\n",
      "model.decoder.layers.7.encoder_attn.q_proj Linear(in_features=1024, out_features=1024, bias=True)\n",
      "model.decoder.layers.7.encoder_attn.out_proj Linear(in_features=1024, out_features=1024, bias=True)\n",
      "model.decoder.layers.7.encoder_attn_layer_norm LayerNorm((1024,), eps=1e-05, elementwise_affine=True)\n",
      "model.decoder.layers.7.fc1 Linear(in_features=1024, out_features=4096, bias=True)\n",
      "model.decoder.layers.7.fc2 Linear(in_features=4096, out_features=1024, bias=True)\n",
      "model.decoder.layers.7.final_layer_norm LayerNorm((1024,), eps=1e-05, elementwise_affine=True)\n",
      "model.decoder.layers.8 M2M100DecoderLayer(\n",
      "  (self_attn): M2M100SdpaAttention(\n",
      "    (k_proj): Linear(in_features=1024, out_features=1024, bias=True)\n",
      "    (v_proj): Linear(in_features=1024, out_features=1024, bias=True)\n",
      "    (q_proj): Linear(in_features=1024, out_features=1024, bias=True)\n",
      "    (out_proj): Linear(in_features=1024, out_features=1024, bias=True)\n",
      "  )\n",
      "  (activation_fn): ReLU()\n",
      "  (self_attn_layer_norm): LayerNorm((1024,), eps=1e-05, elementwise_affine=True)\n",
      "  (encoder_attn): M2M100SdpaAttention(\n",
      "    (k_proj): Linear(in_features=1024, out_features=1024, bias=True)\n",
      "    (v_proj): Linear(in_features=1024, out_features=1024, bias=True)\n",
      "    (q_proj): Linear(in_features=1024, out_features=1024, bias=True)\n",
      "    (out_proj): Linear(in_features=1024, out_features=1024, bias=True)\n",
      "  )\n",
      "  (encoder_attn_layer_norm): LayerNorm((1024,), eps=1e-05, elementwise_affine=True)\n",
      "  (fc1): Linear(in_features=1024, out_features=4096, bias=True)\n",
      "  (fc2): Linear(in_features=4096, out_features=1024, bias=True)\n",
      "  (final_layer_norm): LayerNorm((1024,), eps=1e-05, elementwise_affine=True)\n",
      ")\n",
      "model.decoder.layers.8.self_attn M2M100SdpaAttention(\n",
      "  (k_proj): Linear(in_features=1024, out_features=1024, bias=True)\n",
      "  (v_proj): Linear(in_features=1024, out_features=1024, bias=True)\n",
      "  (q_proj): Linear(in_features=1024, out_features=1024, bias=True)\n",
      "  (out_proj): Linear(in_features=1024, out_features=1024, bias=True)\n",
      ")\n",
      "model.decoder.layers.8.self_attn.k_proj Linear(in_features=1024, out_features=1024, bias=True)\n",
      "model.decoder.layers.8.self_attn.v_proj Linear(in_features=1024, out_features=1024, bias=True)\n",
      "model.decoder.layers.8.self_attn.q_proj Linear(in_features=1024, out_features=1024, bias=True)\n",
      "model.decoder.layers.8.self_attn.out_proj Linear(in_features=1024, out_features=1024, bias=True)\n",
      "model.decoder.layers.8.activation_fn ReLU()\n",
      "model.decoder.layers.8.self_attn_layer_norm LayerNorm((1024,), eps=1e-05, elementwise_affine=True)\n",
      "model.decoder.layers.8.encoder_attn M2M100SdpaAttention(\n",
      "  (k_proj): Linear(in_features=1024, out_features=1024, bias=True)\n",
      "  (v_proj): Linear(in_features=1024, out_features=1024, bias=True)\n",
      "  (q_proj): Linear(in_features=1024, out_features=1024, bias=True)\n",
      "  (out_proj): Linear(in_features=1024, out_features=1024, bias=True)\n",
      ")\n",
      "model.decoder.layers.8.encoder_attn.k_proj Linear(in_features=1024, out_features=1024, bias=True)\n",
      "model.decoder.layers.8.encoder_attn.v_proj Linear(in_features=1024, out_features=1024, bias=True)\n",
      "model.decoder.layers.8.encoder_attn.q_proj Linear(in_features=1024, out_features=1024, bias=True)\n",
      "model.decoder.layers.8.encoder_attn.out_proj Linear(in_features=1024, out_features=1024, bias=True)\n",
      "model.decoder.layers.8.encoder_attn_layer_norm LayerNorm((1024,), eps=1e-05, elementwise_affine=True)\n",
      "model.decoder.layers.8.fc1 Linear(in_features=1024, out_features=4096, bias=True)\n",
      "model.decoder.layers.8.fc2 Linear(in_features=4096, out_features=1024, bias=True)\n",
      "model.decoder.layers.8.final_layer_norm LayerNorm((1024,), eps=1e-05, elementwise_affine=True)\n",
      "model.decoder.layers.9 M2M100DecoderLayer(\n",
      "  (self_attn): M2M100SdpaAttention(\n",
      "    (k_proj): Linear(in_features=1024, out_features=1024, bias=True)\n",
      "    (v_proj): Linear(in_features=1024, out_features=1024, bias=True)\n",
      "    (q_proj): Linear(in_features=1024, out_features=1024, bias=True)\n",
      "    (out_proj): Linear(in_features=1024, out_features=1024, bias=True)\n",
      "  )\n",
      "  (activation_fn): ReLU()\n",
      "  (self_attn_layer_norm): LayerNorm((1024,), eps=1e-05, elementwise_affine=True)\n",
      "  (encoder_attn): M2M100SdpaAttention(\n",
      "    (k_proj): Linear(in_features=1024, out_features=1024, bias=True)\n",
      "    (v_proj): Linear(in_features=1024, out_features=1024, bias=True)\n",
      "    (q_proj): Linear(in_features=1024, out_features=1024, bias=True)\n",
      "    (out_proj): Linear(in_features=1024, out_features=1024, bias=True)\n",
      "  )\n",
      "  (encoder_attn_layer_norm): LayerNorm((1024,), eps=1e-05, elementwise_affine=True)\n",
      "  (fc1): Linear(in_features=1024, out_features=4096, bias=True)\n",
      "  (fc2): Linear(in_features=4096, out_features=1024, bias=True)\n",
      "  (final_layer_norm): LayerNorm((1024,), eps=1e-05, elementwise_affine=True)\n",
      ")\n",
      "model.decoder.layers.9.self_attn M2M100SdpaAttention(\n",
      "  (k_proj): Linear(in_features=1024, out_features=1024, bias=True)\n",
      "  (v_proj): Linear(in_features=1024, out_features=1024, bias=True)\n",
      "  (q_proj): Linear(in_features=1024, out_features=1024, bias=True)\n",
      "  (out_proj): Linear(in_features=1024, out_features=1024, bias=True)\n",
      ")\n",
      "model.decoder.layers.9.self_attn.k_proj Linear(in_features=1024, out_features=1024, bias=True)\n",
      "model.decoder.layers.9.self_attn.v_proj Linear(in_features=1024, out_features=1024, bias=True)\n",
      "model.decoder.layers.9.self_attn.q_proj Linear(in_features=1024, out_features=1024, bias=True)\n",
      "model.decoder.layers.9.self_attn.out_proj Linear(in_features=1024, out_features=1024, bias=True)\n",
      "model.decoder.layers.9.activation_fn ReLU()\n",
      "model.decoder.layers.9.self_attn_layer_norm LayerNorm((1024,), eps=1e-05, elementwise_affine=True)\n",
      "model.decoder.layers.9.encoder_attn M2M100SdpaAttention(\n",
      "  (k_proj): Linear(in_features=1024, out_features=1024, bias=True)\n",
      "  (v_proj): Linear(in_features=1024, out_features=1024, bias=True)\n",
      "  (q_proj): Linear(in_features=1024, out_features=1024, bias=True)\n",
      "  (out_proj): Linear(in_features=1024, out_features=1024, bias=True)\n",
      ")\n",
      "model.decoder.layers.9.encoder_attn.k_proj Linear(in_features=1024, out_features=1024, bias=True)\n",
      "model.decoder.layers.9.encoder_attn.v_proj Linear(in_features=1024, out_features=1024, bias=True)\n",
      "model.decoder.layers.9.encoder_attn.q_proj Linear(in_features=1024, out_features=1024, bias=True)\n",
      "model.decoder.layers.9.encoder_attn.out_proj Linear(in_features=1024, out_features=1024, bias=True)\n",
      "model.decoder.layers.9.encoder_attn_layer_norm LayerNorm((1024,), eps=1e-05, elementwise_affine=True)\n",
      "model.decoder.layers.9.fc1 Linear(in_features=1024, out_features=4096, bias=True)\n",
      "model.decoder.layers.9.fc2 Linear(in_features=4096, out_features=1024, bias=True)\n",
      "model.decoder.layers.9.final_layer_norm LayerNorm((1024,), eps=1e-05, elementwise_affine=True)\n",
      "model.decoder.layers.10 M2M100DecoderLayer(\n",
      "  (self_attn): M2M100SdpaAttention(\n",
      "    (k_proj): Linear(in_features=1024, out_features=1024, bias=True)\n",
      "    (v_proj): Linear(in_features=1024, out_features=1024, bias=True)\n",
      "    (q_proj): Linear(in_features=1024, out_features=1024, bias=True)\n",
      "    (out_proj): Linear(in_features=1024, out_features=1024, bias=True)\n",
      "  )\n",
      "  (activation_fn): ReLU()\n",
      "  (self_attn_layer_norm): LayerNorm((1024,), eps=1e-05, elementwise_affine=True)\n",
      "  (encoder_attn): M2M100SdpaAttention(\n",
      "    (k_proj): Linear(in_features=1024, out_features=1024, bias=True)\n",
      "    (v_proj): Linear(in_features=1024, out_features=1024, bias=True)\n",
      "    (q_proj): Linear(in_features=1024, out_features=1024, bias=True)\n",
      "    (out_proj): Linear(in_features=1024, out_features=1024, bias=True)\n",
      "  )\n",
      "  (encoder_attn_layer_norm): LayerNorm((1024,), eps=1e-05, elementwise_affine=True)\n",
      "  (fc1): Linear(in_features=1024, out_features=4096, bias=True)\n",
      "  (fc2): Linear(in_features=4096, out_features=1024, bias=True)\n",
      "  (final_layer_norm): LayerNorm((1024,), eps=1e-05, elementwise_affine=True)\n",
      ")\n",
      "model.decoder.layers.10.self_attn M2M100SdpaAttention(\n",
      "  (k_proj): Linear(in_features=1024, out_features=1024, bias=True)\n",
      "  (v_proj): Linear(in_features=1024, out_features=1024, bias=True)\n",
      "  (q_proj): Linear(in_features=1024, out_features=1024, bias=True)\n",
      "  (out_proj): Linear(in_features=1024, out_features=1024, bias=True)\n",
      ")\n",
      "model.decoder.layers.10.self_attn.k_proj Linear(in_features=1024, out_features=1024, bias=True)\n",
      "model.decoder.layers.10.self_attn.v_proj Linear(in_features=1024, out_features=1024, bias=True)\n",
      "model.decoder.layers.10.self_attn.q_proj Linear(in_features=1024, out_features=1024, bias=True)\n",
      "model.decoder.layers.10.self_attn.out_proj Linear(in_features=1024, out_features=1024, bias=True)\n",
      "model.decoder.layers.10.activation_fn ReLU()\n",
      "model.decoder.layers.10.self_attn_layer_norm LayerNorm((1024,), eps=1e-05, elementwise_affine=True)\n",
      "model.decoder.layers.10.encoder_attn M2M100SdpaAttention(\n",
      "  (k_proj): Linear(in_features=1024, out_features=1024, bias=True)\n",
      "  (v_proj): Linear(in_features=1024, out_features=1024, bias=True)\n",
      "  (q_proj): Linear(in_features=1024, out_features=1024, bias=True)\n",
      "  (out_proj): Linear(in_features=1024, out_features=1024, bias=True)\n",
      ")\n",
      "model.decoder.layers.10.encoder_attn.k_proj Linear(in_features=1024, out_features=1024, bias=True)\n",
      "model.decoder.layers.10.encoder_attn.v_proj Linear(in_features=1024, out_features=1024, bias=True)\n",
      "model.decoder.layers.10.encoder_attn.q_proj Linear(in_features=1024, out_features=1024, bias=True)\n",
      "model.decoder.layers.10.encoder_attn.out_proj Linear(in_features=1024, out_features=1024, bias=True)\n",
      "model.decoder.layers.10.encoder_attn_layer_norm LayerNorm((1024,), eps=1e-05, elementwise_affine=True)\n",
      "model.decoder.layers.10.fc1 Linear(in_features=1024, out_features=4096, bias=True)\n",
      "model.decoder.layers.10.fc2 Linear(in_features=4096, out_features=1024, bias=True)\n",
      "model.decoder.layers.10.final_layer_norm LayerNorm((1024,), eps=1e-05, elementwise_affine=True)\n",
      "model.decoder.layers.11 M2M100DecoderLayer(\n",
      "  (self_attn): M2M100SdpaAttention(\n",
      "    (k_proj): Linear(in_features=1024, out_features=1024, bias=True)\n",
      "    (v_proj): Linear(in_features=1024, out_features=1024, bias=True)\n",
      "    (q_proj): Linear(in_features=1024, out_features=1024, bias=True)\n",
      "    (out_proj): Linear(in_features=1024, out_features=1024, bias=True)\n",
      "  )\n",
      "  (activation_fn): ReLU()\n",
      "  (self_attn_layer_norm): LayerNorm((1024,), eps=1e-05, elementwise_affine=True)\n",
      "  (encoder_attn): M2M100SdpaAttention(\n",
      "    (k_proj): Linear(in_features=1024, out_features=1024, bias=True)\n",
      "    (v_proj): Linear(in_features=1024, out_features=1024, bias=True)\n",
      "    (q_proj): Linear(in_features=1024, out_features=1024, bias=True)\n",
      "    (out_proj): Linear(in_features=1024, out_features=1024, bias=True)\n",
      "  )\n",
      "  (encoder_attn_layer_norm): LayerNorm((1024,), eps=1e-05, elementwise_affine=True)\n",
      "  (fc1): Linear(in_features=1024, out_features=4096, bias=True)\n",
      "  (fc2): Linear(in_features=4096, out_features=1024, bias=True)\n",
      "  (final_layer_norm): LayerNorm((1024,), eps=1e-05, elementwise_affine=True)\n",
      ")\n",
      "model.decoder.layers.11.self_attn M2M100SdpaAttention(\n",
      "  (k_proj): Linear(in_features=1024, out_features=1024, bias=True)\n",
      "  (v_proj): Linear(in_features=1024, out_features=1024, bias=True)\n",
      "  (q_proj): Linear(in_features=1024, out_features=1024, bias=True)\n",
      "  (out_proj): Linear(in_features=1024, out_features=1024, bias=True)\n",
      ")\n",
      "model.decoder.layers.11.self_attn.k_proj Linear(in_features=1024, out_features=1024, bias=True)\n",
      "model.decoder.layers.11.self_attn.v_proj Linear(in_features=1024, out_features=1024, bias=True)\n",
      "model.decoder.layers.11.self_attn.q_proj Linear(in_features=1024, out_features=1024, bias=True)\n",
      "model.decoder.layers.11.self_attn.out_proj Linear(in_features=1024, out_features=1024, bias=True)\n",
      "model.decoder.layers.11.activation_fn ReLU()\n",
      "model.decoder.layers.11.self_attn_layer_norm LayerNorm((1024,), eps=1e-05, elementwise_affine=True)\n",
      "model.decoder.layers.11.encoder_attn M2M100SdpaAttention(\n",
      "  (k_proj): Linear(in_features=1024, out_features=1024, bias=True)\n",
      "  (v_proj): Linear(in_features=1024, out_features=1024, bias=True)\n",
      "  (q_proj): Linear(in_features=1024, out_features=1024, bias=True)\n",
      "  (out_proj): Linear(in_features=1024, out_features=1024, bias=True)\n",
      ")\n",
      "model.decoder.layers.11.encoder_attn.k_proj Linear(in_features=1024, out_features=1024, bias=True)\n",
      "model.decoder.layers.11.encoder_attn.v_proj Linear(in_features=1024, out_features=1024, bias=True)\n",
      "model.decoder.layers.11.encoder_attn.q_proj Linear(in_features=1024, out_features=1024, bias=True)\n",
      "model.decoder.layers.11.encoder_attn.out_proj Linear(in_features=1024, out_features=1024, bias=True)\n",
      "model.decoder.layers.11.encoder_attn_layer_norm LayerNorm((1024,), eps=1e-05, elementwise_affine=True)\n",
      "model.decoder.layers.11.fc1 Linear(in_features=1024, out_features=4096, bias=True)\n",
      "model.decoder.layers.11.fc2 Linear(in_features=4096, out_features=1024, bias=True)\n",
      "model.decoder.layers.11.final_layer_norm LayerNorm((1024,), eps=1e-05, elementwise_affine=True)\n",
      "model.decoder.layer_norm LayerNorm((1024,), eps=1e-05, elementwise_affine=True)\n",
      "lm_head Linear(in_features=1024, out_features=128112, bias=False)\n"
     ]
    }
   ],
   "source": [
    "# Access the model's named modules\n",
    "for name, module in model.named_modules():\n",
    "    print(name, module)"
   ]
  },
  {
   "cell_type": "markdown",
   "metadata": {},
   "source": [
    "## 3.2 Defining lora Config\n"
   ]
  },
  {
   "cell_type": "code",
   "execution_count": 12,
   "metadata": {},
   "outputs": [],
   "source": [
    "model_ID = \"facebook/m2m100_418M\"  # Replace with your desired model\n",
    "model_lora = AutoModelForSeq2SeqLM.from_pretrained(model_ID)\n",
    "tokenizer_lora = AutoTokenizer.from_pretrained(model_ID, src_lang=\"en\", tgt_lang=\"hi\")\n",
    "# Create a GenerationConfig with the desired parameters"
   ]
  },
  {
   "cell_type": "code",
   "execution_count": 17,
   "metadata": {},
   "outputs": [],
   "source": [
    "# Define LoRA configuration\n",
    "lora_config = LoraConfig(\n",
    "    r=4,  # Low rank (fewer trainable parameters)\n",
    "    lora_alpha=32,  # Scaling factor\n",
    "    target_modules=[\"q_proj\", \"v_proj\"],  # Apply LoRA to attention layers (query and value)\n",
    "    bias=\"none\",  # Specify which biases to train\n",
    "    task_type=\"SEQ_2_SEQ_LM\",  # Task type (sequence-to-sequence)\n",
    ")\n",
    "\n",
    "# Wrap the base model with LoRA\n",
    "model_lora = get_peft_model(model_lora, lora_config)"
   ]
  },
  {
   "cell_type": "markdown",
   "metadata": {},
   "source": [
    "## 3.3 loading and spliting datasets for lora \n"
   ]
  },
  {
   "cell_type": "code",
   "execution_count": 19,
   "metadata": {},
   "outputs": [
    {
     "name": "stdout",
     "output_type": "stream",
     "text": [
      "DatasetDict({\n",
      "    train: Dataset({\n",
      "        features: ['English', 'Hindi'],\n",
      "        num_rows: 17935\n",
      "    })\n",
      "    validation: Dataset({\n",
      "        features: ['English', 'Hindi'],\n",
      "        num_rows: 2242\n",
      "    })\n",
      "    test: Dataset({\n",
      "        features: ['English', 'Hindi'],\n",
      "        num_rows: 2242\n",
      "    })\n",
      "})\n"
     ]
    }
   ],
   "source": [
    "percent_data_select_lora = \"train[:10%]\" # add percent sign ie. \"train[:20%]\" to select that percent of data \n",
    "# Load only 20% of the dataset\n",
    "dataset_lora = load_dataset(\"csv\", data_files={\"train\": \"../Datasets/processed_data.csv\"}, split=percent_data_select_lora)\n",
    "\n",
    "# Split into train and test sets (e.g., 80% train, 20% test)\n",
    "train_test_split = dataset_lora.train_test_split(test_size=0.2, seed=42)\n",
    "\n",
    "# Further split the test set into validation and test (e.g., 50-50 split of the 20%)\n",
    "validation_test_split = train_test_split[\"test\"].train_test_split(test_size=0.5, seed=42)\n",
    "\n",
    "# Combine splits into a DatasetDict\n",
    "raw_dataset = {\n",
    "    \"train\": train_test_split[\"train\"],\n",
    "    \"validation\": validation_test_split[\"train\"],\n",
    "    \"test\": validation_test_split[\"test\"]\n",
    "}\n",
    "\n",
    "dataset_lora = DatasetDict(raw_dataset)\n",
    "\n",
    "# Inspect the resulting dataset\n",
    "print(dataset_lora)"
   ]
  },
  {
   "cell_type": "markdown",
   "metadata": {},
   "source": [
    "## 3.4 Tokenising dataset for lora \n"
   ]
  },
  {
   "cell_type": "code",
   "execution_count": 22,
   "metadata": {},
   "outputs": [
    {
     "data": {
      "application/vnd.jupyter.widget-view+json": {
       "model_id": "4521d5cab8c1443e9379ea218199e7aa",
       "version_major": 2,
       "version_minor": 0
      },
      "text/plain": [
       "Map:   0%|          | 0/17935 [00:00<?, ? examples/s]"
      ]
     },
     "metadata": {},
     "output_type": "display_data"
    },
    {
     "name": "stderr",
     "output_type": "stream",
     "text": [
      "c:\\Users\\akthe\\miniconda3\\envs\\WPanda\\Lib\\site-packages\\transformers\\tokenization_utils_base.py:3957: UserWarning: `as_target_tokenizer` is deprecated and will be removed in v5 of Transformers. You can tokenize your labels by using the argument `text_target` of the regular `__call__` method (either in the same call as your input texts if you use the same keyword arguments, or in a separate call.\n",
      "  warnings.warn(\n"
     ]
    },
    {
     "data": {
      "application/vnd.jupyter.widget-view+json": {
       "model_id": "64aeb4e3b46e4befb68a026afb030424",
       "version_major": 2,
       "version_minor": 0
      },
      "text/plain": [
       "Map:   0%|          | 0/2242 [00:00<?, ? examples/s]"
      ]
     },
     "metadata": {},
     "output_type": "display_data"
    },
    {
     "data": {
      "application/vnd.jupyter.widget-view+json": {
       "model_id": "b283a7e4b2bd4238a023712a7e975a3a",
       "version_major": 2,
       "version_minor": 0
      },
      "text/plain": [
       "Map:   0%|          | 0/2242 [00:00<?, ? examples/s]"
      ]
     },
     "metadata": {},
     "output_type": "display_data"
    }
   ],
   "source": [
    "def preprocess_function(examples):\n",
    "    inputs = [\"translate Hindi to English: \" + ex for ex in examples[\"Hindi\"]]\n",
    "    targets = examples[\"English\"]\n",
    "    model_inputs = tokenizer_lora(inputs, max_length=128, truncation=True, padding=\"max_length\")\n",
    "    with tokenizer_lora.as_target_tokenizer():\n",
    "        labels = tokenizer_lora(targets, max_length=128, truncation=True, padding=\"max_length\")\n",
    "    model_inputs[\"labels\"] = labels[\"input_ids\"]\n",
    "    return model_inputs\n",
    "\n",
    "# Apply preprocessing\n",
    "tokenized_dataset_lora = dataset_lora.map(preprocess_function, batched=True)\n"
   ]
  },
  {
   "cell_type": "code",
   "execution_count": 23,
   "metadata": {},
   "outputs": [
    {
     "data": {
      "text/plain": [
       "DatasetDict({\n",
       "    train: Dataset({\n",
       "        features: ['English', 'Hindi', 'input_ids', 'attention_mask', 'labels'],\n",
       "        num_rows: 17935\n",
       "    })\n",
       "    validation: Dataset({\n",
       "        features: ['English', 'Hindi', 'input_ids', 'attention_mask', 'labels'],\n",
       "        num_rows: 2242\n",
       "    })\n",
       "    test: Dataset({\n",
       "        features: ['English', 'Hindi', 'input_ids', 'attention_mask', 'labels'],\n",
       "        num_rows: 2242\n",
       "    })\n",
       "})"
      ]
     },
     "execution_count": 23,
     "metadata": {},
     "output_type": "execute_result"
    }
   ],
   "source": [
    "tokenized_dataset_lora"
   ]
  },
  {
   "cell_type": "markdown",
   "metadata": {},
   "source": [
    "## 3.5 Data collator"
   ]
  },
  {
   "cell_type": "code",
   "execution_count": 24,
   "metadata": {},
   "outputs": [],
   "source": [
    "data_collator = DataCollatorForSeq2Seq(tokenizer=tokenizer_lora, model=model_lora)"
   ]
  },
  {
   "cell_type": "markdown",
   "metadata": {},
   "source": [
    "## 3.6 FineTuning\n"
   ]
  },
  {
   "cell_type": "code",
   "execution_count": 26,
   "metadata": {},
   "outputs": [
    {
     "ename": "NameError",
     "evalue": "name 'compute_metrics' is not defined",
     "output_type": "error",
     "traceback": [
      "\u001b[1;31m---------------------------------------------------------------------------\u001b[0m",
      "\u001b[1;31mNameError\u001b[0m                                 Traceback (most recent call last)",
      "Cell \u001b[1;32mIn[26], line 23\u001b[0m\n\u001b[0;32m      1\u001b[0m training_args \u001b[38;5;241m=\u001b[39m Seq2SeqTrainingArguments(\n\u001b[0;32m      2\u001b[0m     output_dir\u001b[38;5;241m=\u001b[39m\u001b[38;5;124m\"\u001b[39m\u001b[38;5;124m../Model/fb/LoRa/Checkpoint/\u001b[39m\u001b[38;5;124m\"\u001b[39m,\n\u001b[0;32m      3\u001b[0m     eval_strategy\u001b[38;5;241m=\u001b[39m\u001b[38;5;124m\"\u001b[39m\u001b[38;5;124mepoch\u001b[39m\u001b[38;5;124m\"\u001b[39m,\n\u001b[1;32m   (...)\u001b[0m\n\u001b[0;32m     13\u001b[0m     \n\u001b[0;32m     14\u001b[0m )\n\u001b[0;32m     16\u001b[0m trainer \u001b[38;5;241m=\u001b[39m Seq2SeqTrainer(\n\u001b[0;32m     17\u001b[0m     model\u001b[38;5;241m=\u001b[39mmodel_lora,\n\u001b[0;32m     18\u001b[0m     args\u001b[38;5;241m=\u001b[39mtraining_args,\n\u001b[0;32m     19\u001b[0m     train_dataset\u001b[38;5;241m=\u001b[39mtokenized_dataset_lora[\u001b[38;5;124m\"\u001b[39m\u001b[38;5;124mtrain\u001b[39m\u001b[38;5;124m\"\u001b[39m],\n\u001b[0;32m     20\u001b[0m     eval_dataset\u001b[38;5;241m=\u001b[39mtokenized_dataset_lora[\u001b[38;5;124m\"\u001b[39m\u001b[38;5;124mtest\u001b[39m\u001b[38;5;124m\"\u001b[39m],\n\u001b[0;32m     21\u001b[0m     tokenizer\u001b[38;5;241m=\u001b[39mtokenizer_lora,\n\u001b[0;32m     22\u001b[0m     data_collator\u001b[38;5;241m=\u001b[39mdata_collator,\n\u001b[1;32m---> 23\u001b[0m     compute_metrics\u001b[38;5;241m=\u001b[39m\u001b[43mcompute_metrics\u001b[49m,\n\u001b[0;32m     24\u001b[0m     \n\u001b[0;32m     25\u001b[0m )\n\u001b[0;32m     27\u001b[0m trainer\u001b[38;5;241m.\u001b[39mtrain()\n",
      "\u001b[1;31mNameError\u001b[0m: name 'compute_metrics' is not defined"
     ]
    }
   ],
   "source": [
    "training_args = Seq2SeqTrainingArguments(\n",
    "    output_dir=\"../Model/fb/LoRa/Checkpoint/\",\n",
    "    eval_strategy=\"epoch\",\n",
    "    learning_rate=2e-5,\n",
    "    per_device_train_batch_size=8,\n",
    "    per_device_eval_batch_size=8,\n",
    "    weight_decay=0.01,\n",
    "    save_total_limit=3,\n",
    "    num_train_epochs=4,\n",
    "    save_safetensors=False,\n",
    "    predict_with_generate=True,\n",
    "    fp16=True, #change to bf16=True for XPU\n",
    "    \n",
    ")\n",
    "\n",
    "trainer = Seq2SeqTrainer(\n",
    "    model=model_lora,\n",
    "    args=training_args,\n",
    "    train_dataset=tokenized_dataset_lora[\"train\"],\n",
    "    eval_dataset=tokenized_dataset_lora[\"test\"],\n",
    "    tokenizer=tokenizer_lora,\n",
    "    data_collator=data_collator,\n",
    "    compute_metrics=compute_metrics,\n",
    "    \n",
    ")\n",
    "\n",
    "trainer.train()"
   ]
  },
  {
   "cell_type": "markdown",
   "metadata": {},
   "source": [
    "## 3.7 Saving Finetuned Model\n"
   ]
  },
  {
   "cell_type": "code",
   "execution_count": 28,
   "metadata": {},
   "outputs": [
    {
     "data": {
      "text/plain": [
       "('../Model/fb/LoRa/M2M100/tokenizer_config.json',\n",
       " '../Model/fb/LoRa/M2M100/special_tokens_map.json',\n",
       " '..\\\\Model\\\\fb\\\\LoRa\\\\M2M100\\\\vocab.json',\n",
       " '..\\\\Model\\\\fb\\\\LoRa\\\\M2M100\\\\sentencepiece.bpe.model',\n",
       " '../Model/fb/LoRa/M2M100/added_tokens.json')"
      ]
     },
     "execution_count": 28,
     "metadata": {},
     "output_type": "execute_result"
    }
   ],
   "source": [
    "model_lora.merge_and_unload()\n",
    "model_lora.save_pretrained(\"../Model/fb/LoRa/M2M100/\")\n",
    "tokenizer.save_pretrained(\"../Model/fb/LoRa/M2M100/\")\n"
   ]
  },
  {
   "cell_type": "markdown",
   "metadata": {},
   "source": [
    "## 3.8 Testing Finetuned Model\n"
   ]
  },
  {
   "cell_type": "code",
   "execution_count": 29,
   "metadata": {},
   "outputs": [
    {
     "name": "stderr",
     "output_type": "stream",
     "text": [
      "Device set to use cuda:0\n"
     ]
    },
    {
     "name": "stdout",
     "output_type": "stream",
     "text": [
      "[{'translation_text': 'एक पैर तोड़ना'}]\n"
     ]
    }
   ],
   "source": [
    "# Initialize the translation pipeline\n",
    "translator = pipeline(\"translation_en_to_hi\", model=\"../Model/fb/LoRa/M2M100/\", tokenizer=\"../Model/fb/LoRa/M2M100/\")\n",
    "\n",
    "# Test translation\n",
    "text = \"break a leg\"\n",
    "translated_text = translator(text)\n",
    "\n",
    "print(translated_text)\n"
   ]
  },
  {
   "cell_type": "markdown",
   "metadata": {},
   "source": [
    "# 4. Comparision\n"
   ]
  },
  {
   "cell_type": "markdown",
   "metadata": {},
   "source": [
    "\n",
    "\n",
    "- **BLEU Score Comparison**:\n",
    "  - A bar chart showing the BLEU scores for the untrained model, fine-tuned model, and LoRA model.\n",
    "  - You should see that the fine-tuned model and LoRA model perform better than the untrained model.\n",
    "\n",
    "- **Loss Comparison**:\n",
    "  - A bar chart showing the loss for the untrained model, fine-tuned model, and LoRA model.\n",
    "  - The fine-tuned model and LoRA model should have lower loss compared to the untrained model.\n",
    "\n",
    "\n"
   ]
  },
  {
   "cell_type": "code",
   "execution_count": 30,
   "metadata": {},
   "outputs": [
    {
     "name": "stderr",
     "output_type": "stream",
     "text": [
      "c:\\Users\\akthe\\miniconda3\\envs\\WPanda\\Lib\\site-packages\\peft\\peft_model.py:609: UserWarning: Found missing adapter keys while loading the checkpoint: ['base_model.model.model.encoder.layers.0.self_attn.v_proj.lora_A.default.weight', 'base_model.model.model.encoder.layers.0.self_attn.v_proj.lora_B.default.weight', 'base_model.model.model.encoder.layers.0.self_attn.q_proj.lora_A.default.weight', 'base_model.model.model.encoder.layers.0.self_attn.q_proj.lora_B.default.weight', 'base_model.model.model.encoder.layers.1.self_attn.v_proj.lora_A.default.weight', 'base_model.model.model.encoder.layers.1.self_attn.v_proj.lora_B.default.weight', 'base_model.model.model.encoder.layers.1.self_attn.q_proj.lora_A.default.weight', 'base_model.model.model.encoder.layers.1.self_attn.q_proj.lora_B.default.weight', 'base_model.model.model.encoder.layers.2.self_attn.v_proj.lora_A.default.weight', 'base_model.model.model.encoder.layers.2.self_attn.v_proj.lora_B.default.weight', 'base_model.model.model.encoder.layers.2.self_attn.q_proj.lora_A.default.weight', 'base_model.model.model.encoder.layers.2.self_attn.q_proj.lora_B.default.weight', 'base_model.model.model.encoder.layers.3.self_attn.v_proj.lora_A.default.weight', 'base_model.model.model.encoder.layers.3.self_attn.v_proj.lora_B.default.weight', 'base_model.model.model.encoder.layers.3.self_attn.q_proj.lora_A.default.weight', 'base_model.model.model.encoder.layers.3.self_attn.q_proj.lora_B.default.weight', 'base_model.model.model.encoder.layers.4.self_attn.v_proj.lora_A.default.weight', 'base_model.model.model.encoder.layers.4.self_attn.v_proj.lora_B.default.weight', 'base_model.model.model.encoder.layers.4.self_attn.q_proj.lora_A.default.weight', 'base_model.model.model.encoder.layers.4.self_attn.q_proj.lora_B.default.weight', 'base_model.model.model.encoder.layers.5.self_attn.v_proj.lora_A.default.weight', 'base_model.model.model.encoder.layers.5.self_attn.v_proj.lora_B.default.weight', 'base_model.model.model.encoder.layers.5.self_attn.q_proj.lora_A.default.weight', 'base_model.model.model.encoder.layers.5.self_attn.q_proj.lora_B.default.weight', 'base_model.model.model.encoder.layers.6.self_attn.v_proj.lora_A.default.weight', 'base_model.model.model.encoder.layers.6.self_attn.v_proj.lora_B.default.weight', 'base_model.model.model.encoder.layers.6.self_attn.q_proj.lora_A.default.weight', 'base_model.model.model.encoder.layers.6.self_attn.q_proj.lora_B.default.weight', 'base_model.model.model.encoder.layers.7.self_attn.v_proj.lora_A.default.weight', 'base_model.model.model.encoder.layers.7.self_attn.v_proj.lora_B.default.weight', 'base_model.model.model.encoder.layers.7.self_attn.q_proj.lora_A.default.weight', 'base_model.model.model.encoder.layers.7.self_attn.q_proj.lora_B.default.weight', 'base_model.model.model.encoder.layers.8.self_attn.v_proj.lora_A.default.weight', 'base_model.model.model.encoder.layers.8.self_attn.v_proj.lora_B.default.weight', 'base_model.model.model.encoder.layers.8.self_attn.q_proj.lora_A.default.weight', 'base_model.model.model.encoder.layers.8.self_attn.q_proj.lora_B.default.weight', 'base_model.model.model.encoder.layers.9.self_attn.v_proj.lora_A.default.weight', 'base_model.model.model.encoder.layers.9.self_attn.v_proj.lora_B.default.weight', 'base_model.model.model.encoder.layers.9.self_attn.q_proj.lora_A.default.weight', 'base_model.model.model.encoder.layers.9.self_attn.q_proj.lora_B.default.weight', 'base_model.model.model.encoder.layers.10.self_attn.v_proj.lora_A.default.weight', 'base_model.model.model.encoder.layers.10.self_attn.v_proj.lora_B.default.weight', 'base_model.model.model.encoder.layers.10.self_attn.q_proj.lora_A.default.weight', 'base_model.model.model.encoder.layers.10.self_attn.q_proj.lora_B.default.weight', 'base_model.model.model.encoder.layers.11.self_attn.v_proj.lora_A.default.weight', 'base_model.model.model.encoder.layers.11.self_attn.v_proj.lora_B.default.weight', 'base_model.model.model.encoder.layers.11.self_attn.q_proj.lora_A.default.weight', 'base_model.model.model.encoder.layers.11.self_attn.q_proj.lora_B.default.weight', 'base_model.model.model.decoder.layers.0.self_attn.v_proj.lora_A.default.weight', 'base_model.model.model.decoder.layers.0.self_attn.v_proj.lora_B.default.weight', 'base_model.model.model.decoder.layers.0.self_attn.q_proj.lora_A.default.weight', 'base_model.model.model.decoder.layers.0.self_attn.q_proj.lora_B.default.weight', 'base_model.model.model.decoder.layers.0.encoder_attn.v_proj.lora_A.default.weight', 'base_model.model.model.decoder.layers.0.encoder_attn.v_proj.lora_B.default.weight', 'base_model.model.model.decoder.layers.0.encoder_attn.q_proj.lora_A.default.weight', 'base_model.model.model.decoder.layers.0.encoder_attn.q_proj.lora_B.default.weight', 'base_model.model.model.decoder.layers.1.self_attn.v_proj.lora_A.default.weight', 'base_model.model.model.decoder.layers.1.self_attn.v_proj.lora_B.default.weight', 'base_model.model.model.decoder.layers.1.self_attn.q_proj.lora_A.default.weight', 'base_model.model.model.decoder.layers.1.self_attn.q_proj.lora_B.default.weight', 'base_model.model.model.decoder.layers.1.encoder_attn.v_proj.lora_A.default.weight', 'base_model.model.model.decoder.layers.1.encoder_attn.v_proj.lora_B.default.weight', 'base_model.model.model.decoder.layers.1.encoder_attn.q_proj.lora_A.default.weight', 'base_model.model.model.decoder.layers.1.encoder_attn.q_proj.lora_B.default.weight', 'base_model.model.model.decoder.layers.2.self_attn.v_proj.lora_A.default.weight', 'base_model.model.model.decoder.layers.2.self_attn.v_proj.lora_B.default.weight', 'base_model.model.model.decoder.layers.2.self_attn.q_proj.lora_A.default.weight', 'base_model.model.model.decoder.layers.2.self_attn.q_proj.lora_B.default.weight', 'base_model.model.model.decoder.layers.2.encoder_attn.v_proj.lora_A.default.weight', 'base_model.model.model.decoder.layers.2.encoder_attn.v_proj.lora_B.default.weight', 'base_model.model.model.decoder.layers.2.encoder_attn.q_proj.lora_A.default.weight', 'base_model.model.model.decoder.layers.2.encoder_attn.q_proj.lora_B.default.weight', 'base_model.model.model.decoder.layers.3.self_attn.v_proj.lora_A.default.weight', 'base_model.model.model.decoder.layers.3.self_attn.v_proj.lora_B.default.weight', 'base_model.model.model.decoder.layers.3.self_attn.q_proj.lora_A.default.weight', 'base_model.model.model.decoder.layers.3.self_attn.q_proj.lora_B.default.weight', 'base_model.model.model.decoder.layers.3.encoder_attn.v_proj.lora_A.default.weight', 'base_model.model.model.decoder.layers.3.encoder_attn.v_proj.lora_B.default.weight', 'base_model.model.model.decoder.layers.3.encoder_attn.q_proj.lora_A.default.weight', 'base_model.model.model.decoder.layers.3.encoder_attn.q_proj.lora_B.default.weight', 'base_model.model.model.decoder.layers.4.self_attn.v_proj.lora_A.default.weight', 'base_model.model.model.decoder.layers.4.self_attn.v_proj.lora_B.default.weight', 'base_model.model.model.decoder.layers.4.self_attn.q_proj.lora_A.default.weight', 'base_model.model.model.decoder.layers.4.self_attn.q_proj.lora_B.default.weight', 'base_model.model.model.decoder.layers.4.encoder_attn.v_proj.lora_A.default.weight', 'base_model.model.model.decoder.layers.4.encoder_attn.v_proj.lora_B.default.weight', 'base_model.model.model.decoder.layers.4.encoder_attn.q_proj.lora_A.default.weight', 'base_model.model.model.decoder.layers.4.encoder_attn.q_proj.lora_B.default.weight', 'base_model.model.model.decoder.layers.5.self_attn.v_proj.lora_A.default.weight', 'base_model.model.model.decoder.layers.5.self_attn.v_proj.lora_B.default.weight', 'base_model.model.model.decoder.layers.5.self_attn.q_proj.lora_A.default.weight', 'base_model.model.model.decoder.layers.5.self_attn.q_proj.lora_B.default.weight', 'base_model.model.model.decoder.layers.5.encoder_attn.v_proj.lora_A.default.weight', 'base_model.model.model.decoder.layers.5.encoder_attn.v_proj.lora_B.default.weight', 'base_model.model.model.decoder.layers.5.encoder_attn.q_proj.lora_A.default.weight', 'base_model.model.model.decoder.layers.5.encoder_attn.q_proj.lora_B.default.weight', 'base_model.model.model.decoder.layers.6.self_attn.v_proj.lora_A.default.weight', 'base_model.model.model.decoder.layers.6.self_attn.v_proj.lora_B.default.weight', 'base_model.model.model.decoder.layers.6.self_attn.q_proj.lora_A.default.weight', 'base_model.model.model.decoder.layers.6.self_attn.q_proj.lora_B.default.weight', 'base_model.model.model.decoder.layers.6.encoder_attn.v_proj.lora_A.default.weight', 'base_model.model.model.decoder.layers.6.encoder_attn.v_proj.lora_B.default.weight', 'base_model.model.model.decoder.layers.6.encoder_attn.q_proj.lora_A.default.weight', 'base_model.model.model.decoder.layers.6.encoder_attn.q_proj.lora_B.default.weight', 'base_model.model.model.decoder.layers.7.self_attn.v_proj.lora_A.default.weight', 'base_model.model.model.decoder.layers.7.self_attn.v_proj.lora_B.default.weight', 'base_model.model.model.decoder.layers.7.self_attn.q_proj.lora_A.default.weight', 'base_model.model.model.decoder.layers.7.self_attn.q_proj.lora_B.default.weight', 'base_model.model.model.decoder.layers.7.encoder_attn.v_proj.lora_A.default.weight', 'base_model.model.model.decoder.layers.7.encoder_attn.v_proj.lora_B.default.weight', 'base_model.model.model.decoder.layers.7.encoder_attn.q_proj.lora_A.default.weight', 'base_model.model.model.decoder.layers.7.encoder_attn.q_proj.lora_B.default.weight', 'base_model.model.model.decoder.layers.8.self_attn.v_proj.lora_A.default.weight', 'base_model.model.model.decoder.layers.8.self_attn.v_proj.lora_B.default.weight', 'base_model.model.model.decoder.layers.8.self_attn.q_proj.lora_A.default.weight', 'base_model.model.model.decoder.layers.8.self_attn.q_proj.lora_B.default.weight', 'base_model.model.model.decoder.layers.8.encoder_attn.v_proj.lora_A.default.weight', 'base_model.model.model.decoder.layers.8.encoder_attn.v_proj.lora_B.default.weight', 'base_model.model.model.decoder.layers.8.encoder_attn.q_proj.lora_A.default.weight', 'base_model.model.model.decoder.layers.8.encoder_attn.q_proj.lora_B.default.weight', 'base_model.model.model.decoder.layers.9.self_attn.v_proj.lora_A.default.weight', 'base_model.model.model.decoder.layers.9.self_attn.v_proj.lora_B.default.weight', 'base_model.model.model.decoder.layers.9.self_attn.q_proj.lora_A.default.weight', 'base_model.model.model.decoder.layers.9.self_attn.q_proj.lora_B.default.weight', 'base_model.model.model.decoder.layers.9.encoder_attn.v_proj.lora_A.default.weight', 'base_model.model.model.decoder.layers.9.encoder_attn.v_proj.lora_B.default.weight', 'base_model.model.model.decoder.layers.9.encoder_attn.q_proj.lora_A.default.weight', 'base_model.model.model.decoder.layers.9.encoder_attn.q_proj.lora_B.default.weight', 'base_model.model.model.decoder.layers.10.self_attn.v_proj.lora_A.default.weight', 'base_model.model.model.decoder.layers.10.self_attn.v_proj.lora_B.default.weight', 'base_model.model.model.decoder.layers.10.self_attn.q_proj.lora_A.default.weight', 'base_model.model.model.decoder.layers.10.self_attn.q_proj.lora_B.default.weight', 'base_model.model.model.decoder.layers.10.encoder_attn.v_proj.lora_A.default.weight', 'base_model.model.model.decoder.layers.10.encoder_attn.v_proj.lora_B.default.weight', 'base_model.model.model.decoder.layers.10.encoder_attn.q_proj.lora_A.default.weight', 'base_model.model.model.decoder.layers.10.encoder_attn.q_proj.lora_B.default.weight', 'base_model.model.model.decoder.layers.11.self_attn.v_proj.lora_A.default.weight', 'base_model.model.model.decoder.layers.11.self_attn.v_proj.lora_B.default.weight', 'base_model.model.model.decoder.layers.11.self_attn.q_proj.lora_A.default.weight', 'base_model.model.model.decoder.layers.11.self_attn.q_proj.lora_B.default.weight', 'base_model.model.model.decoder.layers.11.encoder_attn.v_proj.lora_A.default.weight', 'base_model.model.model.decoder.layers.11.encoder_attn.v_proj.lora_B.default.weight', 'base_model.model.model.decoder.layers.11.encoder_attn.q_proj.lora_A.default.weight', 'base_model.model.model.decoder.layers.11.encoder_attn.q_proj.lora_B.default.weight'].\n",
      "  warnings.warn(warn_message)\n",
      "C:\\Users\\akthe\\AppData\\Local\\Temp\\ipykernel_20844\\1769570818.py:14: FutureWarning: `tokenizer` is deprecated and will be removed in version 5.0.0 for `Seq2SeqTrainer.__init__`. Use `processing_class` instead.\n",
      "  trainer = Seq2SeqTrainer(\n",
      "Trainer.tokenizer is now deprecated. You should use Trainer.processing_class instead.\n",
      "Trainer.tokenizer is now deprecated. You should use Trainer.processing_class instead.\n",
      "Trainer.tokenizer is now deprecated. You should use Trainer.processing_class instead.\n",
      "Trainer.tokenizer is now deprecated. You should use Trainer.processing_class instead.\n"
     ]
    },
    {
     "data": {
      "application/vnd.jupyter.widget-view+json": {
       "model_id": "431553fa6c62474cbb40037ea74da27a",
       "version_major": 2,
       "version_minor": 0
      },
      "text/plain": [
       "  0%|          | 0/2 [00:00<?, ?it/s]"
      ]
     },
     "metadata": {},
     "output_type": "display_data"
    },
    {
     "name": "stderr",
     "output_type": "stream",
     "text": [
      "Trainer.tokenizer is now deprecated. You should use Trainer.processing_class instead.\n",
      "Trainer.tokenizer is now deprecated. You should use Trainer.processing_class instead.\n",
      "Trainer.tokenizer is now deprecated. You should use Trainer.processing_class instead.\n",
      "Trainer.tokenizer is now deprecated. You should use Trainer.processing_class instead.\n",
      "Trainer.tokenizer is now deprecated. You should use Trainer.processing_class instead.\n",
      "Trainer.tokenizer is now deprecated. You should use Trainer.processing_class instead.\n",
      "Trainer.tokenizer is now deprecated. You should use Trainer.processing_class instead.\n",
      "Trainer.tokenizer is now deprecated. You should use Trainer.processing_class instead.\n",
      "Trainer.tokenizer is now deprecated. You should use Trainer.processing_class instead.\n",
      "Trainer.tokenizer is now deprecated. You should use Trainer.processing_class instead.\n",
      "Trainer.tokenizer is now deprecated. You should use Trainer.processing_class instead.\n",
      "Trainer.tokenizer is now deprecated. You should use Trainer.processing_class instead.\n",
      "Trainer.tokenizer is now deprecated. You should use Trainer.processing_class instead.\n",
      "Trainer.tokenizer is now deprecated. You should use Trainer.processing_class instead.\n",
      "Trainer.tokenizer is now deprecated. You should use Trainer.processing_class instead.\n",
      "Trainer.tokenizer is now deprecated. You should use Trainer.processing_class instead.\n"
     ]
    },
    {
     "data": {
      "application/vnd.jupyter.widget-view+json": {
       "model_id": "6cb3195840964ca88b1d5784d3e9fc95",
       "version_major": 2,
       "version_minor": 0
      },
      "text/plain": [
       "  0%|          | 0/2 [00:00<?, ?it/s]"
      ]
     },
     "metadata": {},
     "output_type": "display_data"
    },
    {
     "name": "stderr",
     "output_type": "stream",
     "text": [
      "Trainer.tokenizer is now deprecated. You should use Trainer.processing_class instead.\n",
      "Trainer.tokenizer is now deprecated. You should use Trainer.processing_class instead.\n",
      "Trainer.tokenizer is now deprecated. You should use Trainer.processing_class instead.\n",
      "Trainer.tokenizer is now deprecated. You should use Trainer.processing_class instead.\n",
      "Trainer.tokenizer is now deprecated. You should use Trainer.processing_class instead.\n",
      "Trainer.tokenizer is now deprecated. You should use Trainer.processing_class instead.\n",
      "Trainer.tokenizer is now deprecated. You should use Trainer.processing_class instead.\n",
      "Trainer.tokenizer is now deprecated. You should use Trainer.processing_class instead.\n",
      "Trainer.tokenizer is now deprecated. You should use Trainer.processing_class instead.\n",
      "Trainer.tokenizer is now deprecated. You should use Trainer.processing_class instead.\n",
      "Trainer.tokenizer is now deprecated. You should use Trainer.processing_class instead.\n",
      "Trainer.tokenizer is now deprecated. You should use Trainer.processing_class instead.\n"
     ]
    },
    {
     "data": {
      "application/vnd.jupyter.widget-view+json": {
       "model_id": "a30593ebf89b4495a4a151a714cab767",
       "version_major": 2,
       "version_minor": 0
      },
      "text/plain": [
       "  0%|          | 0/2 [00:00<?, ?it/s]"
      ]
     },
     "metadata": {},
     "output_type": "display_data"
    },
    {
     "name": "stderr",
     "output_type": "stream",
     "text": [
      "Trainer.tokenizer is now deprecated. You should use Trainer.processing_class instead.\n",
      "Trainer.tokenizer is now deprecated. You should use Trainer.processing_class instead.\n",
      "Trainer.tokenizer is now deprecated. You should use Trainer.processing_class instead.\n",
      "Trainer.tokenizer is now deprecated. You should use Trainer.processing_class instead.\n",
      "Trainer.tokenizer is now deprecated. You should use Trainer.processing_class instead.\n",
      "Trainer.tokenizer is now deprecated. You should use Trainer.processing_class instead.\n",
      "Trainer.tokenizer is now deprecated. You should use Trainer.processing_class instead.\n",
      "Trainer.tokenizer is now deprecated. You should use Trainer.processing_class instead.\n"
     ]
    },
    {
     "data": {
      "image/png": "[encoded data removed]",
      "text/plain": [
       "<Figure size 1000x500 with 1 Axes>"
      ]
     },
     "metadata": {},
     "output_type": "display_data"
    },
    {
     "data": {
      "image/png": "[encoded data removed]",
      "text/plain": [
       "<Figure size 1000x500 with 1 Axes>"
      ]
     },
     "metadata": {},
     "output_type": "display_data"
    }
   ],
   "source": [
    "import torch\n",
    "import matplotlib.pyplot as plt\n",
    "from transformers import AutoModelForSeq2SeqLM, AutoTokenizer\n",
    "from peft import PeftModel\n",
    "\n",
    "# Load the tokenizer\n",
    "tokenizer = AutoTokenizer.from_pretrained(\"facebook/m2m100_418M\")\n",
    "\n",
    "# Load the datasets\n",
    "test_dataset = tokenized_datasets[\"test\"]\n",
    "\n",
    "# Define a function to evaluate a model\n",
    "def evaluate_model(model, test_dataset):\n",
    "    trainer = Seq2SeqTrainer(\n",
    "        model=model,\n",
    "        args=Seq2SeqTrainingArguments(output_dir=\"../Model/temp\", per_device_eval_batch_size=8, predict_with_generate=True),\n",
    "        eval_dataset=test_dataset,\n",
    "        tokenizer=tokenizer,\n",
    "        compute_metrics=compute_metrics,\n",
    "    )\n",
    "    results = trainer.evaluate()\n",
    "    return results[\"eval_bleu\"], results[\"eval_loss\"]\n",
    "\n",
    "# Load the untrained model\n",
    "untrained_model = AutoModelForSeq2SeqLM.from_pretrained(\"facebook/m2m100_418M\")\n",
    "\n",
    "# Load the fine-tuned model\n",
    "fine_tuned_model = AutoModelForSeq2SeqLM.from_pretrained(\"../Model/fb/Base/M2M100/\")\n",
    "\n",
    "# Load the fine-tuned LoRA model\n",
    "lora_model = PeftModel.from_pretrained(\n",
    "    AutoModelForSeq2SeqLM.from_pretrained(\"facebook/m2m100_418M\"),\n",
    "    \"../Model/fb/LoRa/M2M100/\"\n",
    ")\n",
    "\n",
    "# Evaluate all models\n",
    "untrained_bleu, untrained_loss = evaluate_model(untrained_model, test_dataset)\n",
    "fine_tuned_bleu, fine_tuned_loss = evaluate_model(fine_tuned_model, test_dataset)\n",
    "lora_bleu, lora_loss = evaluate_model(lora_model, test_dataset)\n",
    "\n",
    "# Plot BLEU scores\n",
    "plt.figure(figsize=(10, 5))\n",
    "plt.bar([\"Untrained\", \"Fine-Tuned\", \"LoRA\"], [untrained_bleu, fine_tuned_bleu, lora_bleu], color=[\"blue\", \"green\", \"orange\"])\n",
    "plt.ylabel(\"BLEU Score\")\n",
    "plt.title(\"BLEU Score Comparison\")\n",
    "plt.show()\n",
    "\n",
    "# Plot Loss\n",
    "plt.figure(figsize=(10, 5))\n",
    "plt.bar([\"Untrained\", \"Fine-Tuned\", \"LoRA\"], [untrained_loss, fine_tuned_loss, lora_loss], color=[\"blue\", \"green\", \"orange\"])\n",
    "plt.ylabel(\"Loss\")\n",
    "plt.title(\"Loss Comparison\")\n",
    "plt.show()"
   ]
  },
  {
   "cell_type": "markdown",
   "metadata": {},
   "source": [
    "# 5 Saving Desire Model to Hugging Face library."
   ]
  },
  {
   "cell_type": "code",
   "execution_count": 33,
   "metadata": {},
   "outputs": [
    {
     "data": {
      "application/vnd.jupyter.widget-view+json": {
       "model_id": "31b3d0858bd14986a74750ff08a466b8",
       "version_major": 2,
       "version_minor": 0
      },
      "text/plain": [
       "VBox(children=(HTML(value='<center> <img\\nsrc=https://huggingface.co/front/assets/huggingface_logo-noborder.sv…"
      ]
     },
     "metadata": {},
     "output_type": "display_data"
    }
   ],
   "source": [
    "from huggingface_hub import notebook_login\n",
    "notebook_login()"
   ]
  },
  {
   "cell_type": "code",
   "execution_count": null,
   "metadata": {},
   "outputs": [],
   "source": []
  }
 ],
 "metadata": {
  "kernelspec": {
   "display_name": "WPanda",
   "language": "python",
   "name": "python3"
  },
  "language_info": {
   "codemirror_mode": {
    "name": "ipython",
    "version": 3
   },
   "file_extension": ".py",
   "mimetype": "text/x-python",
   "name": "python",
   "nbconvert_exporter": "python",
   "pygments_lexer": "ipython3",
   "version": "3.12.8"
  }
 },
 "nbformat": 4,
 "nbformat_minor": 2
}
